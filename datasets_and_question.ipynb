{
  "nbformat": 4,
  "nbformat_minor": 0,
  "metadata": {
    "colab": {
      "name": "datasets_and_question.ipynb",
      "provenance": [],
      "authorship_tag": "ABX9TyMcEeVHe2zpClgzn0w340tt",
      "include_colab_link": true
    },
    "kernelspec": {
      "name": "python3",
      "display_name": "Python 3"
    }
  },
  "cells": [
    {
      "cell_type": "markdown",
      "metadata": {
        "id": "view-in-github",
        "colab_type": "text"
      },
      "source": [
        "<a href=\"https://colab.research.google.com/github/solharsh/ud120-projects/blob/master/datasets_and_question.ipynb\" target=\"_parent\"><img src=\"https://colab.research.google.com/assets/colab-badge.svg\" alt=\"Open In Colab\"/></a>"
      ]
    },
    {
      "cell_type": "code",
      "metadata": {
        "id": "hWA8qn5-e92u",
        "colab_type": "code",
        "colab": {
          "base_uri": "https://localhost:8080/",
          "height": 100
        },
        "outputId": "188c26fa-ef70-477d-d6d5-a11952ff7b29"
      },
      "source": [
        "!git clone https://github.com/udacity/ud120-projects"
      ],
      "execution_count": 1,
      "outputs": [
        {
          "output_type": "stream",
          "text": [
            "Cloning into 'ud120-projects'...\n",
            "remote: Enumerating objects: 5046, done.\u001b[K\n",
            "remote: Total 5046 (delta 0), reused 0 (delta 0), pack-reused 5046\u001b[K\n",
            "Receiving objects: 100% (5046/5046), 19.64 MiB | 15.95 MiB/s, done.\n",
            "Resolving deltas: 100% (4372/4372), done.\n"
          ],
          "name": "stdout"
        }
      ]
    },
    {
      "cell_type": "code",
      "metadata": {
        "id": "oVKl_ZTFfCsN",
        "colab_type": "code",
        "colab": {}
      },
      "source": [
        "#!/usr/bin/python\n",
        "\n",
        "\"\"\" \n",
        "    Starter code for exploring the Enron dataset (emails + finances);\n",
        "    loads up the dataset (pickled dict of dicts).\n",
        "\n",
        "    The dataset has the form:\n",
        "    enron_data[\"LASTNAME FIRSTNAME MIDDLEINITIAL\"] = { features_dict }\n",
        "\n",
        "    {features_dict} is a dictionary of features associated with that person.\n",
        "    You should explore features_dict as part of the mini-project,\n",
        "    but here's an example to get you started:\n",
        "\n",
        "    enron_data[\"SKILLING JEFFREY K\"][\"bonus\"] = 5600000\n",
        "    \n",
        "\"\"\"\n",
        "\n",
        "import pickle\n",
        "\n",
        "enron_data = pickle.load(open(\"/content/ud120-projects/final_project/final_project_dataset.pkl\", \"rb\"))"
      ],
      "execution_count": 0,
      "outputs": []
    },
    {
      "cell_type": "code",
      "metadata": {
        "id": "QWhi5K8agESR",
        "colab_type": "code",
        "colab": {
          "base_uri": "https://localhost:8080/",
          "height": 33
        },
        "outputId": "876f1e27-fca4-4c1f-bf7f-612d98106773"
      },
      "source": [
        "people = 0\n",
        "poiCount = 0\n",
        "salaryCount = 0\n",
        "emailAddressCount = 0\n",
        "totalPaymentsCount = 0\n",
        "poiTotalPaymentsCount = 0\n",
        "\n",
        "for person in enron_data:\n",
        "    people = people + 1\n",
        "    if enron_data[person]['poi'] == 1:\n",
        "        poiCount += 1\n",
        "        if enron_data[person]['total_payments'] != 'NaN':\n",
        "            poiTotalPaymentsCount += 1\n",
        "    if enron_data[person]['salary'] != 'NaN':\n",
        "        salaryCount += 1\n",
        "    if enron_data[person]['email_address'] != 'NaN':\n",
        "        emailAddressCount += 1\n",
        "    if enron_data[person]['total_payments'] != 'NaN':\n",
        "        totalPaymentsCount += 1\n",
        "\n",
        "print (\"Enron data points count:\",poiCount)"
      ],
      "execution_count": 19,
      "outputs": [
        {
          "output_type": "stream",
          "text": [
            "Enron data poi count: 18\n"
          ],
          "name": "stdout"
        }
      ]
    },
    {
      "cell_type": "code",
      "metadata": {
        "id": "iYg7q8krfZA-",
        "colab_type": "code",
        "colab": {}
      },
      "source": [
        "import pandas as pd\n",
        "df = pd.DataFrame(enron_data)"
      ],
      "execution_count": 0,
      "outputs": []
    },
    {
      "cell_type": "code",
      "metadata": {
        "id": "EwfiJywdflEU",
        "colab_type": "code",
        "colab": {
          "base_uri": "https://localhost:8080/",
          "height": 207
        },
        "outputId": "f3a3193e-49da-4ce2-98ac-a696a0fffe34"
      },
      "source": [
        "df.head(2)"
      ],
      "execution_count": 13,
      "outputs": [
        {
          "output_type": "execute_result",
          "data": {
            "text/html": [
              "<div>\n",
              "<style scoped>\n",
              "    .dataframe tbody tr th:only-of-type {\n",
              "        vertical-align: middle;\n",
              "    }\n",
              "\n",
              "    .dataframe tbody tr th {\n",
              "        vertical-align: top;\n",
              "    }\n",
              "\n",
              "    .dataframe thead th {\n",
              "        text-align: right;\n",
              "    }\n",
              "</style>\n",
              "<table border=\"1\" class=\"dataframe\">\n",
              "  <thead>\n",
              "    <tr style=\"text-align: right;\">\n",
              "      <th></th>\n",
              "      <th>METTS MARK</th>\n",
              "      <th>BAXTER JOHN C</th>\n",
              "      <th>ELLIOTT STEVEN</th>\n",
              "      <th>CORDES WILLIAM R</th>\n",
              "      <th>HANNON KEVIN P</th>\n",
              "      <th>MORDAUNT KRISTINA M</th>\n",
              "      <th>MEYER ROCKFORD G</th>\n",
              "      <th>MCMAHON JEFFREY</th>\n",
              "      <th>HAEDICKE MARK E</th>\n",
              "      <th>PIPER GREGORY F</th>\n",
              "      <th>HUMPHREY GENE E</th>\n",
              "      <th>NOLES JAMES L</th>\n",
              "      <th>BLACHMAN JEREMY M</th>\n",
              "      <th>SUNDE MARTIN</th>\n",
              "      <th>GIBBS DANA R</th>\n",
              "      <th>LOWRY CHARLES P</th>\n",
              "      <th>COLWELL WESLEY</th>\n",
              "      <th>MULLER MARK S</th>\n",
              "      <th>JACKSON CHARLENE R</th>\n",
              "      <th>WESTFAHL RICHARD K</th>\n",
              "      <th>WALTERS GARETH W</th>\n",
              "      <th>WALLS JR ROBERT H</th>\n",
              "      <th>KITCHEN LOUISE</th>\n",
              "      <th>CHAN RONNIE</th>\n",
              "      <th>BELFER ROBERT</th>\n",
              "      <th>SHANKMAN JEFFREY A</th>\n",
              "      <th>WODRASKA JOHN</th>\n",
              "      <th>BERGSIEKER RICHARD P</th>\n",
              "      <th>URQUHART JOHN A</th>\n",
              "      <th>BIBI PHILIPPE A</th>\n",
              "      <th>RIEKER PAULA H</th>\n",
              "      <th>WHALEY DAVID A</th>\n",
              "      <th>BECK SALLY W</th>\n",
              "      <th>HAUG DAVID L</th>\n",
              "      <th>ECHOLS JOHN B</th>\n",
              "      <th>MENDELSOHN JOHN</th>\n",
              "      <th>HICKERSON GARY J</th>\n",
              "      <th>CLINE KENNETH W</th>\n",
              "      <th>LEWIS RICHARD</th>\n",
              "      <th>HAYES ROBERT E</th>\n",
              "      <th>...</th>\n",
              "      <th>WHITE JR THOMAS E</th>\n",
              "      <th>CHRISTODOULOU DIOMEDES</th>\n",
              "      <th>ALLEN PHILLIP K</th>\n",
              "      <th>SHARP VICTORIA T</th>\n",
              "      <th>JAEDICKE ROBERT</th>\n",
              "      <th>WINOKUR JR. HERBERT S</th>\n",
              "      <th>BROWN MICHAEL</th>\n",
              "      <th>MCCLELLAN GEORGE</th>\n",
              "      <th>HUGHES JAMES A</th>\n",
              "      <th>REYNOLDS LAWRENCE</th>\n",
              "      <th>PICKERING MARK R</th>\n",
              "      <th>BHATNAGAR SANJAY</th>\n",
              "      <th>CARTER REBECCA C</th>\n",
              "      <th>BUCHANAN HAROLD G</th>\n",
              "      <th>YEAP SOON</th>\n",
              "      <th>MURRAY JULIA H</th>\n",
              "      <th>GARLAND C KEVIN</th>\n",
              "      <th>DODSON KEITH</th>\n",
              "      <th>YEAGER F SCOTT</th>\n",
              "      <th>HIRKO JOSEPH</th>\n",
              "      <th>DIETRICH JANET R</th>\n",
              "      <th>DERRICK JR. JAMES V</th>\n",
              "      <th>FREVERT MARK A</th>\n",
              "      <th>PAI LOU L</th>\n",
              "      <th>HAYSLETT RODERICK J</th>\n",
              "      <th>BAY FRANKLIN R</th>\n",
              "      <th>MCCARTY DANNY J</th>\n",
              "      <th>FUGH JOHN L</th>\n",
              "      <th>SCRIMSHAW MATTHEW</th>\n",
              "      <th>KOENIG MARK E</th>\n",
              "      <th>SAVAGE FRANK</th>\n",
              "      <th>IZZO LAWRENCE L</th>\n",
              "      <th>TILNEY ELIZABETH A</th>\n",
              "      <th>MARTIN AMANDA K</th>\n",
              "      <th>BUY RICHARD B</th>\n",
              "      <th>GRAMM WENDY L</th>\n",
              "      <th>CAUSEY RICHARD A</th>\n",
              "      <th>TAYLOR MITCHELL S</th>\n",
              "      <th>DONAHUE JR JEFFREY M</th>\n",
              "      <th>GLISAN JR BEN F</th>\n",
              "    </tr>\n",
              "  </thead>\n",
              "  <tbody>\n",
              "    <tr>\n",
              "      <th>salary</th>\n",
              "      <td>365788</td>\n",
              "      <td>267102</td>\n",
              "      <td>170941</td>\n",
              "      <td>NaN</td>\n",
              "      <td>243293</td>\n",
              "      <td>267093</td>\n",
              "      <td>NaN</td>\n",
              "      <td>370448</td>\n",
              "      <td>374125</td>\n",
              "      <td>197091</td>\n",
              "      <td>130724</td>\n",
              "      <td>NaN</td>\n",
              "      <td>248546</td>\n",
              "      <td>257486</td>\n",
              "      <td>NaN</td>\n",
              "      <td>NaN</td>\n",
              "      <td>288542</td>\n",
              "      <td>251654</td>\n",
              "      <td>288558</td>\n",
              "      <td>63744</td>\n",
              "      <td>NaN</td>\n",
              "      <td>357091</td>\n",
              "      <td>271442</td>\n",
              "      <td>NaN</td>\n",
              "      <td>NaN</td>\n",
              "      <td>304110</td>\n",
              "      <td>NaN</td>\n",
              "      <td>187922</td>\n",
              "      <td>NaN</td>\n",
              "      <td>213625</td>\n",
              "      <td>249201</td>\n",
              "      <td>NaN</td>\n",
              "      <td>231330</td>\n",
              "      <td>NaN</td>\n",
              "      <td>182245</td>\n",
              "      <td>NaN</td>\n",
              "      <td>211788</td>\n",
              "      <td>NaN</td>\n",
              "      <td>NaN</td>\n",
              "      <td>NaN</td>\n",
              "      <td>...</td>\n",
              "      <td>317543</td>\n",
              "      <td>NaN</td>\n",
              "      <td>201955</td>\n",
              "      <td>248146</td>\n",
              "      <td>NaN</td>\n",
              "      <td>NaN</td>\n",
              "      <td>NaN</td>\n",
              "      <td>263413</td>\n",
              "      <td>NaN</td>\n",
              "      <td>76399</td>\n",
              "      <td>655037</td>\n",
              "      <td>NaN</td>\n",
              "      <td>261809</td>\n",
              "      <td>248017</td>\n",
              "      <td>NaN</td>\n",
              "      <td>229284</td>\n",
              "      <td>231946</td>\n",
              "      <td>221003</td>\n",
              "      <td>158403</td>\n",
              "      <td>NaN</td>\n",
              "      <td>250100</td>\n",
              "      <td>492375</td>\n",
              "      <td>1060932</td>\n",
              "      <td>261879</td>\n",
              "      <td>NaN</td>\n",
              "      <td>239671</td>\n",
              "      <td>NaN</td>\n",
              "      <td>NaN</td>\n",
              "      <td>NaN</td>\n",
              "      <td>309946</td>\n",
              "      <td>NaN</td>\n",
              "      <td>85274</td>\n",
              "      <td>247338</td>\n",
              "      <td>349487</td>\n",
              "      <td>330546</td>\n",
              "      <td>NaN</td>\n",
              "      <td>415189</td>\n",
              "      <td>265214</td>\n",
              "      <td>278601</td>\n",
              "      <td>274975</td>\n",
              "    </tr>\n",
              "    <tr>\n",
              "      <th>to_messages</th>\n",
              "      <td>807</td>\n",
              "      <td>NaN</td>\n",
              "      <td>NaN</td>\n",
              "      <td>764</td>\n",
              "      <td>1045</td>\n",
              "      <td>NaN</td>\n",
              "      <td>232</td>\n",
              "      <td>2355</td>\n",
              "      <td>4009</td>\n",
              "      <td>1238</td>\n",
              "      <td>128</td>\n",
              "      <td>NaN</td>\n",
              "      <td>2475</td>\n",
              "      <td>2647</td>\n",
              "      <td>169</td>\n",
              "      <td>NaN</td>\n",
              "      <td>1758</td>\n",
              "      <td>136</td>\n",
              "      <td>258</td>\n",
              "      <td>NaN</td>\n",
              "      <td>NaN</td>\n",
              "      <td>671</td>\n",
              "      <td>8305</td>\n",
              "      <td>NaN</td>\n",
              "      <td>NaN</td>\n",
              "      <td>3221</td>\n",
              "      <td>NaN</td>\n",
              "      <td>383</td>\n",
              "      <td>NaN</td>\n",
              "      <td>1607</td>\n",
              "      <td>1328</td>\n",
              "      <td>NaN</td>\n",
              "      <td>7315</td>\n",
              "      <td>573</td>\n",
              "      <td>NaN</td>\n",
              "      <td>NaN</td>\n",
              "      <td>1320</td>\n",
              "      <td>NaN</td>\n",
              "      <td>952</td>\n",
              "      <td>504</td>\n",
              "      <td>...</td>\n",
              "      <td>NaN</td>\n",
              "      <td>NaN</td>\n",
              "      <td>2902</td>\n",
              "      <td>3136</td>\n",
              "      <td>NaN</td>\n",
              "      <td>NaN</td>\n",
              "      <td>1486</td>\n",
              "      <td>1744</td>\n",
              "      <td>719</td>\n",
              "      <td>NaN</td>\n",
              "      <td>898</td>\n",
              "      <td>523</td>\n",
              "      <td>312</td>\n",
              "      <td>1088</td>\n",
              "      <td>NaN</td>\n",
              "      <td>2192</td>\n",
              "      <td>209</td>\n",
              "      <td>176</td>\n",
              "      <td>NaN</td>\n",
              "      <td>NaN</td>\n",
              "      <td>2572</td>\n",
              "      <td>2181</td>\n",
              "      <td>3275</td>\n",
              "      <td>NaN</td>\n",
              "      <td>2649</td>\n",
              "      <td>NaN</td>\n",
              "      <td>1433</td>\n",
              "      <td>NaN</td>\n",
              "      <td>NaN</td>\n",
              "      <td>2374</td>\n",
              "      <td>NaN</td>\n",
              "      <td>496</td>\n",
              "      <td>460</td>\n",
              "      <td>1522</td>\n",
              "      <td>3523</td>\n",
              "      <td>NaN</td>\n",
              "      <td>1892</td>\n",
              "      <td>533</td>\n",
              "      <td>865</td>\n",
              "      <td>873</td>\n",
              "    </tr>\n",
              "  </tbody>\n",
              "</table>\n",
              "<p>2 rows × 146 columns</p>\n",
              "</div>"
            ],
            "text/plain": [
              "            METTS MARK BAXTER JOHN C  ... DONAHUE JR JEFFREY M GLISAN JR BEN F\n",
              "salary          365788        267102  ...               278601          274975\n",
              "to_messages        807           NaN  ...                  865             873\n",
              "\n",
              "[2 rows x 146 columns]"
            ]
          },
          "metadata": {
            "tags": []
          },
          "execution_count": 13
        }
      ]
    },
    {
      "cell_type": "code",
      "metadata": {
        "id": "DdmP7f5Mf411",
        "colab_type": "code",
        "colab": {
          "base_uri": "https://localhost:8080/",
          "height": 150
        },
        "outputId": "26e363e8-bec2-4c6b-dfe2-629d37f9c496"
      },
      "source": [
        "df.columns"
      ],
      "execution_count": 15,
      "outputs": [
        {
          "output_type": "execute_result",
          "data": {
            "text/plain": [
              "Index(['METTS MARK', 'BAXTER JOHN C', 'ELLIOTT STEVEN', 'CORDES WILLIAM R',\n",
              "       'HANNON KEVIN P', 'MORDAUNT KRISTINA M', 'MEYER ROCKFORD G',\n",
              "       'MCMAHON JEFFREY', 'HAEDICKE MARK E', 'PIPER GREGORY F',\n",
              "       ...\n",
              "       'SAVAGE FRANK', 'IZZO LAWRENCE L', 'TILNEY ELIZABETH A',\n",
              "       'MARTIN AMANDA K', 'BUY RICHARD B', 'GRAMM WENDY L', 'CAUSEY RICHARD A',\n",
              "       'TAYLOR MITCHELL S', 'DONAHUE JR JEFFREY M', 'GLISAN JR BEN F'],\n",
              "      dtype='object', length=146)"
            ]
          },
          "metadata": {
            "tags": []
          },
          "execution_count": 15
        }
      ]
    },
    {
      "cell_type": "code",
      "metadata": {
        "id": "ViKEV2nyf_un",
        "colab_type": "code",
        "colab": {
          "base_uri": "https://localhost:8080/",
          "height": 150
        },
        "outputId": "95474a34-1835-43d0-f158-90b4bcc55529"
      },
      "source": [
        "poiFile = open(\"/content/ud120-projects/final_project/poi_names.txt\")\n",
        "poiCount2 = 0\n",
        "lines = poiFile.readlines() \n",
        "for line in lines:\n",
        "    if line[0] == '(':\n",
        "        poiCount2 += 1\n",
        "print (\"Total POIs:\",poiCount2)\n",
        "\n",
        "print (\"people:\", people)\n",
        "print (\"salaries:\", salaryCount)\n",
        "print (\"email addresses:\", emailAddressCount)\n",
        "print (\"total payments count:\", totalPaymentsCount)\n",
        "print (\"POI total payments count:\", poiTotalPaymentsCount)\n",
        "\n",
        "print (\"percent people without total payments:\", float(people - totalPaymentsCount)/float(people))\n",
        "print (\"percent POIs without total payments:\", float(poiCount - poiTotalPaymentsCount)/float(poiCount))\n"
      ],
      "execution_count": 20,
      "outputs": [
        {
          "output_type": "stream",
          "text": [
            "Total POIs: 35\n",
            "people: 146\n",
            "salaries: 95\n",
            "email addresses: 111\n",
            "total payments count: 125\n",
            "POI total payments count: 18\n",
            "percent people without total payments: 0.14383561643835616\n",
            "percent POIs without total payments: 0.0\n"
          ],
          "name": "stdout"
        }
      ]
    },
    {
      "cell_type": "code",
      "metadata": {
        "id": "DCBQg8K3g1Ix",
        "colab_type": "code",
        "colab": {
          "base_uri": "https://localhost:8080/",
          "height": 1000
        },
        "outputId": "69f1ab8e-93eb-4189-b44f-8b9959ab5317"
      },
      "source": [
        "for key in enron_data:\n",
        "  print(key, '->', enron_data[key])"
      ],
      "execution_count": 51,
      "outputs": [
        {
          "output_type": "stream",
          "text": [
            "METTS MARK -> {'salary': 365788, 'to_messages': 807, 'deferral_payments': 'NaN', 'total_payments': 1061827, 'loan_advances': 'NaN', 'bonus': 600000, 'email_address': 'mark.metts@enron.com', 'restricted_stock_deferred': 'NaN', 'deferred_income': 'NaN', 'total_stock_value': 585062, 'expenses': 94299, 'from_poi_to_this_person': 38, 'exercised_stock_options': 'NaN', 'from_messages': 29, 'other': 1740, 'from_this_person_to_poi': 1, 'poi': False, 'long_term_incentive': 'NaN', 'shared_receipt_with_poi': 702, 'restricted_stock': 585062, 'director_fees': 'NaN'}\n",
            "BAXTER JOHN C -> {'salary': 267102, 'to_messages': 'NaN', 'deferral_payments': 1295738, 'total_payments': 5634343, 'loan_advances': 'NaN', 'bonus': 1200000, 'email_address': 'NaN', 'restricted_stock_deferred': 'NaN', 'deferred_income': -1386055, 'total_stock_value': 10623258, 'expenses': 11200, 'from_poi_to_this_person': 'NaN', 'exercised_stock_options': 6680544, 'from_messages': 'NaN', 'other': 2660303, 'from_this_person_to_poi': 'NaN', 'poi': False, 'long_term_incentive': 1586055, 'shared_receipt_with_poi': 'NaN', 'restricted_stock': 3942714, 'director_fees': 'NaN'}\n",
            "ELLIOTT STEVEN -> {'salary': 170941, 'to_messages': 'NaN', 'deferral_payments': 'NaN', 'total_payments': 211725, 'loan_advances': 'NaN', 'bonus': 350000, 'email_address': 'steven.elliott@enron.com', 'restricted_stock_deferred': 'NaN', 'deferred_income': -400729, 'total_stock_value': 6678735, 'expenses': 78552, 'from_poi_to_this_person': 'NaN', 'exercised_stock_options': 4890344, 'from_messages': 'NaN', 'other': 12961, 'from_this_person_to_poi': 'NaN', 'poi': False, 'long_term_incentive': 'NaN', 'shared_receipt_with_poi': 'NaN', 'restricted_stock': 1788391, 'director_fees': 'NaN'}\n",
            "CORDES WILLIAM R -> {'salary': 'NaN', 'to_messages': 764, 'deferral_payments': 'NaN', 'total_payments': 'NaN', 'loan_advances': 'NaN', 'bonus': 'NaN', 'email_address': 'bill.cordes@enron.com', 'restricted_stock_deferred': 'NaN', 'deferred_income': 'NaN', 'total_stock_value': 1038185, 'expenses': 'NaN', 'from_poi_to_this_person': 10, 'exercised_stock_options': 651850, 'from_messages': 12, 'other': 'NaN', 'from_this_person_to_poi': 0, 'poi': False, 'long_term_incentive': 'NaN', 'shared_receipt_with_poi': 58, 'restricted_stock': 386335, 'director_fees': 'NaN'}\n",
            "HANNON KEVIN P -> {'salary': 243293, 'to_messages': 1045, 'deferral_payments': 'NaN', 'total_payments': 288682, 'loan_advances': 'NaN', 'bonus': 1500000, 'email_address': 'kevin.hannon@enron.com', 'restricted_stock_deferred': 'NaN', 'deferred_income': -3117011, 'total_stock_value': 6391065, 'expenses': 34039, 'from_poi_to_this_person': 32, 'exercised_stock_options': 5538001, 'from_messages': 32, 'other': 11350, 'from_this_person_to_poi': 21, 'poi': True, 'long_term_incentive': 1617011, 'shared_receipt_with_poi': 1035, 'restricted_stock': 853064, 'director_fees': 'NaN'}\n",
            "MORDAUNT KRISTINA M -> {'salary': 267093, 'to_messages': 'NaN', 'deferral_payments': 'NaN', 'total_payments': 628522, 'loan_advances': 'NaN', 'bonus': 325000, 'email_address': 'kristina.mordaunt@enron.com', 'restricted_stock_deferred': 'NaN', 'deferred_income': 'NaN', 'total_stock_value': 208510, 'expenses': 35018, 'from_poi_to_this_person': 'NaN', 'exercised_stock_options': 'NaN', 'from_messages': 'NaN', 'other': 1411, 'from_this_person_to_poi': 'NaN', 'poi': False, 'long_term_incentive': 'NaN', 'shared_receipt_with_poi': 'NaN', 'restricted_stock': 208510, 'director_fees': 'NaN'}\n",
            "MEYER ROCKFORD G -> {'salary': 'NaN', 'to_messages': 232, 'deferral_payments': 1848227, 'total_payments': 1848227, 'loan_advances': 'NaN', 'bonus': 'NaN', 'email_address': 'rockford.meyer@enron.com', 'restricted_stock_deferred': 'NaN', 'deferred_income': 'NaN', 'total_stock_value': 955873, 'expenses': 'NaN', 'from_poi_to_this_person': 0, 'exercised_stock_options': 493489, 'from_messages': 28, 'other': 'NaN', 'from_this_person_to_poi': 0, 'poi': False, 'long_term_incentive': 'NaN', 'shared_receipt_with_poi': 22, 'restricted_stock': 462384, 'director_fees': 'NaN'}\n",
            "MCMAHON JEFFREY -> {'salary': 370448, 'to_messages': 2355, 'deferral_payments': 'NaN', 'total_payments': 4099771, 'loan_advances': 'NaN', 'bonus': 2600000, 'email_address': 'jeffrey.mcmahon@enron.com', 'restricted_stock_deferred': 'NaN', 'deferred_income': 'NaN', 'total_stock_value': 1662855, 'expenses': 137108, 'from_poi_to_this_person': 58, 'exercised_stock_options': 1104054, 'from_messages': 48, 'other': 297353, 'from_this_person_to_poi': 26, 'poi': False, 'long_term_incentive': 694862, 'shared_receipt_with_poi': 2228, 'restricted_stock': 558801, 'director_fees': 'NaN'}\n",
            "HAEDICKE MARK E -> {'salary': 374125, 'to_messages': 4009, 'deferral_payments': 2157527, 'total_payments': 3859065, 'loan_advances': 'NaN', 'bonus': 1150000, 'email_address': 'mark.haedicke@enron.com', 'restricted_stock_deferred': -329825, 'deferred_income': -934484, 'total_stock_value': 803094, 'expenses': 76169, 'from_poi_to_this_person': 180, 'exercised_stock_options': 608750, 'from_messages': 1941, 'other': 52382, 'from_this_person_to_poi': 61, 'poi': False, 'long_term_incentive': 983346, 'shared_receipt_with_poi': 1847, 'restricted_stock': 524169, 'director_fees': 'NaN'}\n",
            "PIPER GREGORY F -> {'salary': 197091, 'to_messages': 1238, 'deferral_payments': 1130036, 'total_payments': 1737629, 'loan_advances': 'NaN', 'bonus': 400000, 'email_address': 'greg.piper@enron.com', 'restricted_stock_deferred': -409554, 'deferred_income': -33333, 'total_stock_value': 880290, 'expenses': 43057, 'from_poi_to_this_person': 61, 'exercised_stock_options': 880290, 'from_messages': 222, 'other': 778, 'from_this_person_to_poi': 48, 'poi': False, 'long_term_incentive': 'NaN', 'shared_receipt_with_poi': 742, 'restricted_stock': 409554, 'director_fees': 'NaN'}\n",
            "HUMPHREY GENE E -> {'salary': 130724, 'to_messages': 128, 'deferral_payments': 2964506, 'total_payments': 3100224, 'loan_advances': 'NaN', 'bonus': 'NaN', 'email_address': 'gene.humphrey@enron.com', 'restricted_stock_deferred': 'NaN', 'deferred_income': 'NaN', 'total_stock_value': 2282768, 'expenses': 4994, 'from_poi_to_this_person': 10, 'exercised_stock_options': 2282768, 'from_messages': 17, 'other': 'NaN', 'from_this_person_to_poi': 17, 'poi': False, 'long_term_incentive': 'NaN', 'shared_receipt_with_poi': 119, 'restricted_stock': 'NaN', 'director_fees': 'NaN'}\n",
            "NOLES JAMES L -> {'salary': 'NaN', 'to_messages': 'NaN', 'deferral_payments': 774401, 'total_payments': 774401, 'loan_advances': 'NaN', 'bonus': 'NaN', 'email_address': 'NaN', 'restricted_stock_deferred': -94556, 'deferred_income': 'NaN', 'total_stock_value': 368705, 'expenses': 'NaN', 'from_poi_to_this_person': 'NaN', 'exercised_stock_options': 'NaN', 'from_messages': 'NaN', 'other': 'NaN', 'from_this_person_to_poi': 'NaN', 'poi': False, 'long_term_incentive': 'NaN', 'shared_receipt_with_poi': 'NaN', 'restricted_stock': 463261, 'director_fees': 'NaN'}\n",
            "BLACHMAN JEREMY M -> {'salary': 248546, 'to_messages': 2475, 'deferral_payments': 'NaN', 'total_payments': 2014835, 'loan_advances': 'NaN', 'bonus': 850000, 'email_address': 'jeremy.blachman@enron.com', 'restricted_stock_deferred': 'NaN', 'deferred_income': 'NaN', 'total_stock_value': 954354, 'expenses': 84208, 'from_poi_to_this_person': 25, 'exercised_stock_options': 765313, 'from_messages': 14, 'other': 272, 'from_this_person_to_poi': 2, 'poi': False, 'long_term_incentive': 831809, 'shared_receipt_with_poi': 2326, 'restricted_stock': 189041, 'director_fees': 'NaN'}\n",
            "SUNDE MARTIN -> {'salary': 257486, 'to_messages': 2647, 'deferral_payments': 'NaN', 'total_payments': 1545059, 'loan_advances': 'NaN', 'bonus': 700000, 'email_address': 'marty.sunde@enron.com', 'restricted_stock_deferred': 'NaN', 'deferred_income': 'NaN', 'total_stock_value': 698920, 'expenses': 'NaN', 'from_poi_to_this_person': 37, 'exercised_stock_options': 'NaN', 'from_messages': 38, 'other': 111122, 'from_this_person_to_poi': 13, 'poi': False, 'long_term_incentive': 476451, 'shared_receipt_with_poi': 2565, 'restricted_stock': 698920, 'director_fees': 'NaN'}\n",
            "GIBBS DANA R -> {'salary': 'NaN', 'to_messages': 169, 'deferral_payments': 504610, 'total_payments': 966522, 'loan_advances': 'NaN', 'bonus': 'NaN', 'email_address': 'dana.gibbs@enron.com', 'restricted_stock_deferred': 'NaN', 'deferred_income': 'NaN', 'total_stock_value': 2218275, 'expenses': 'NaN', 'from_poi_to_this_person': 0, 'exercised_stock_options': 2218275, 'from_messages': 12, 'other': 'NaN', 'from_this_person_to_poi': 0, 'poi': False, 'long_term_incentive': 461912, 'shared_receipt_with_poi': 23, 'restricted_stock': 'NaN', 'director_fees': 'NaN'}\n",
            "LOWRY CHARLES P -> {'salary': 'NaN', 'to_messages': 'NaN', 'deferral_payments': 'NaN', 'total_payments': 'NaN', 'loan_advances': 'NaN', 'bonus': 'NaN', 'email_address': 'NaN', 'restricted_stock_deferred': -153686, 'deferred_income': 'NaN', 'total_stock_value': 372205, 'expenses': 'NaN', 'from_poi_to_this_person': 'NaN', 'exercised_stock_options': 372205, 'from_messages': 'NaN', 'other': 'NaN', 'from_this_person_to_poi': 'NaN', 'poi': False, 'long_term_incentive': 'NaN', 'shared_receipt_with_poi': 'NaN', 'restricted_stock': 153686, 'director_fees': 'NaN'}\n",
            "COLWELL WESLEY -> {'salary': 288542, 'to_messages': 1758, 'deferral_payments': 27610, 'total_payments': 1490344, 'loan_advances': 'NaN', 'bonus': 1200000, 'email_address': 'wes.colwell@enron.com', 'restricted_stock_deferred': 'NaN', 'deferred_income': -144062, 'total_stock_value': 698242, 'expenses': 16514, 'from_poi_to_this_person': 240, 'exercised_stock_options': 'NaN', 'from_messages': 40, 'other': 101740, 'from_this_person_to_poi': 11, 'poi': True, 'long_term_incentive': 'NaN', 'shared_receipt_with_poi': 1132, 'restricted_stock': 698242, 'director_fees': 'NaN'}\n",
            "MULLER MARK S -> {'salary': 251654, 'to_messages': 136, 'deferral_payments': 842924, 'total_payments': 3202070, 'loan_advances': 'NaN', 'bonus': 1100000, 'email_address': 's..muller@enron.com', 'restricted_stock_deferred': 'NaN', 'deferred_income': -719000, 'total_stock_value': 1416848, 'expenses': 'NaN', 'from_poi_to_this_person': 12, 'exercised_stock_options': 1056320, 'from_messages': 16, 'other': 947, 'from_this_person_to_poi': 0, 'poi': False, 'long_term_incentive': 1725545, 'shared_receipt_with_poi': 114, 'restricted_stock': 360528, 'director_fees': 'NaN'}\n",
            "JACKSON CHARLENE R -> {'salary': 288558, 'to_messages': 258, 'deferral_payments': 'NaN', 'total_payments': 551174, 'loan_advances': 'NaN', 'bonus': 250000, 'email_address': 'charlene.jackson@enron.com', 'restricted_stock_deferred': 'NaN', 'deferred_income': 'NaN', 'total_stock_value': 725735, 'expenses': 10181, 'from_poi_to_this_person': 25, 'exercised_stock_options': 185063, 'from_messages': 56, 'other': 2435, 'from_this_person_to_poi': 19, 'poi': False, 'long_term_incentive': 'NaN', 'shared_receipt_with_poi': 117, 'restricted_stock': 540672, 'director_fees': 'NaN'}\n",
            "WESTFAHL RICHARD K -> {'salary': 63744, 'to_messages': 'NaN', 'deferral_payments': 'NaN', 'total_payments': 762135, 'loan_advances': 'NaN', 'bonus': 'NaN', 'email_address': 'dick.westfahl@enron.com', 'restricted_stock_deferred': 'NaN', 'deferred_income': -10800, 'total_stock_value': 384930, 'expenses': 51870, 'from_poi_to_this_person': 'NaN', 'exercised_stock_options': 'NaN', 'from_messages': 'NaN', 'other': 401130, 'from_this_person_to_poi': 'NaN', 'poi': False, 'long_term_incentive': 256191, 'shared_receipt_with_poi': 'NaN', 'restricted_stock': 384930, 'director_fees': 'NaN'}\n",
            "WALTERS GARETH W -> {'salary': 'NaN', 'to_messages': 'NaN', 'deferral_payments': 53625, 'total_payments': 87410, 'loan_advances': 'NaN', 'bonus': 'NaN', 'email_address': 'NaN', 'restricted_stock_deferred': 'NaN', 'deferred_income': 'NaN', 'total_stock_value': 1030329, 'expenses': 33785, 'from_poi_to_this_person': 'NaN', 'exercised_stock_options': 1030329, 'from_messages': 'NaN', 'other': 'NaN', 'from_this_person_to_poi': 'NaN', 'poi': False, 'long_term_incentive': 'NaN', 'shared_receipt_with_poi': 'NaN', 'restricted_stock': 'NaN', 'director_fees': 'NaN'}\n",
            "WALLS JR ROBERT H -> {'salary': 357091, 'to_messages': 671, 'deferral_payments': 'NaN', 'total_payments': 1798780, 'loan_advances': 'NaN', 'bonus': 850000, 'email_address': 'rob.walls@enron.com', 'restricted_stock_deferred': 'NaN', 'deferred_income': 'NaN', 'total_stock_value': 5898997, 'expenses': 50936, 'from_poi_to_this_person': 17, 'exercised_stock_options': 4346544, 'from_messages': 146, 'other': 2, 'from_this_person_to_poi': 0, 'poi': False, 'long_term_incentive': 540751, 'shared_receipt_with_poi': 215, 'restricted_stock': 1552453, 'director_fees': 'NaN'}\n",
            "KITCHEN LOUISE -> {'salary': 271442, 'to_messages': 8305, 'deferral_payments': 'NaN', 'total_payments': 3471141, 'loan_advances': 'NaN', 'bonus': 3100000, 'email_address': 'louise.kitchen@enron.com', 'restricted_stock_deferred': 'NaN', 'deferred_income': 'NaN', 'total_stock_value': 547143, 'expenses': 5774, 'from_poi_to_this_person': 251, 'exercised_stock_options': 81042, 'from_messages': 1728, 'other': 93925, 'from_this_person_to_poi': 194, 'poi': False, 'long_term_incentive': 'NaN', 'shared_receipt_with_poi': 3669, 'restricted_stock': 466101, 'director_fees': 'NaN'}\n",
            "CHAN RONNIE -> {'salary': 'NaN', 'to_messages': 'NaN', 'deferral_payments': 'NaN', 'total_payments': 'NaN', 'loan_advances': 'NaN', 'bonus': 'NaN', 'email_address': 'NaN', 'restricted_stock_deferred': -32460, 'deferred_income': -98784, 'total_stock_value': 'NaN', 'expenses': 'NaN', 'from_poi_to_this_person': 'NaN', 'exercised_stock_options': 'NaN', 'from_messages': 'NaN', 'other': 'NaN', 'from_this_person_to_poi': 'NaN', 'poi': False, 'long_term_incentive': 'NaN', 'shared_receipt_with_poi': 'NaN', 'restricted_stock': 32460, 'director_fees': 98784}\n",
            "BELFER ROBERT -> {'salary': 'NaN', 'to_messages': 'NaN', 'deferral_payments': -102500, 'total_payments': 102500, 'loan_advances': 'NaN', 'bonus': 'NaN', 'email_address': 'NaN', 'restricted_stock_deferred': 44093, 'deferred_income': 'NaN', 'total_stock_value': -44093, 'expenses': 'NaN', 'from_poi_to_this_person': 'NaN', 'exercised_stock_options': 3285, 'from_messages': 'NaN', 'other': 'NaN', 'from_this_person_to_poi': 'NaN', 'poi': False, 'long_term_incentive': 'NaN', 'shared_receipt_with_poi': 'NaN', 'restricted_stock': 'NaN', 'director_fees': 3285}\n",
            "SHANKMAN JEFFREY A -> {'salary': 304110, 'to_messages': 3221, 'deferral_payments': 'NaN', 'total_payments': 3038702, 'loan_advances': 'NaN', 'bonus': 2000000, 'email_address': 'jeffrey.shankman@enron.com', 'restricted_stock_deferred': 'NaN', 'deferred_income': 'NaN', 'total_stock_value': 2072035, 'expenses': 178979, 'from_poi_to_this_person': 94, 'exercised_stock_options': 1441898, 'from_messages': 2681, 'other': 1191, 'from_this_person_to_poi': 83, 'poi': False, 'long_term_incentive': 554422, 'shared_receipt_with_poi': 1730, 'restricted_stock': 630137, 'director_fees': 'NaN'}\n",
            "WODRASKA JOHN -> {'salary': 'NaN', 'to_messages': 'NaN', 'deferral_payments': 'NaN', 'total_payments': 189583, 'loan_advances': 'NaN', 'bonus': 'NaN', 'email_address': 'john.wodraska@enron.com', 'restricted_stock_deferred': 'NaN', 'deferred_income': 'NaN', 'total_stock_value': 'NaN', 'expenses': 'NaN', 'from_poi_to_this_person': 'NaN', 'exercised_stock_options': 'NaN', 'from_messages': 'NaN', 'other': 189583, 'from_this_person_to_poi': 'NaN', 'poi': False, 'long_term_incentive': 'NaN', 'shared_receipt_with_poi': 'NaN', 'restricted_stock': 'NaN', 'director_fees': 'NaN'}\n",
            "BERGSIEKER RICHARD P -> {'salary': 187922, 'to_messages': 383, 'deferral_payments': 'NaN', 'total_payments': 618850, 'loan_advances': 'NaN', 'bonus': 250000, 'email_address': 'rick.bergsieker@enron.com', 'restricted_stock_deferred': 'NaN', 'deferred_income': -485813, 'total_stock_value': 659249, 'expenses': 59175, 'from_poi_to_this_person': 4, 'exercised_stock_options': 'NaN', 'from_messages': 59, 'other': 427316, 'from_this_person_to_poi': 0, 'poi': False, 'long_term_incentive': 180250, 'shared_receipt_with_poi': 233, 'restricted_stock': 659249, 'director_fees': 'NaN'}\n",
            "URQUHART JOHN A -> {'salary': 'NaN', 'to_messages': 'NaN', 'deferral_payments': 'NaN', 'total_payments': 228656, 'loan_advances': 'NaN', 'bonus': 'NaN', 'email_address': 'NaN', 'restricted_stock_deferred': 'NaN', 'deferred_income': -36666, 'total_stock_value': 'NaN', 'expenses': 228656, 'from_poi_to_this_person': 'NaN', 'exercised_stock_options': 'NaN', 'from_messages': 'NaN', 'other': 'NaN', 'from_this_person_to_poi': 'NaN', 'poi': False, 'long_term_incentive': 'NaN', 'shared_receipt_with_poi': 'NaN', 'restricted_stock': 'NaN', 'director_fees': 36666}\n",
            "BIBI PHILIPPE A -> {'salary': 213625, 'to_messages': 1607, 'deferral_payments': 'NaN', 'total_payments': 2047593, 'loan_advances': 'NaN', 'bonus': 1000000, 'email_address': 'philippe.bibi@enron.com', 'restricted_stock_deferred': 'NaN', 'deferred_income': 'NaN', 'total_stock_value': 1843816, 'expenses': 38559, 'from_poi_to_this_person': 23, 'exercised_stock_options': 1465734, 'from_messages': 40, 'other': 425688, 'from_this_person_to_poi': 8, 'poi': False, 'long_term_incentive': 369721, 'shared_receipt_with_poi': 1336, 'restricted_stock': 378082, 'director_fees': 'NaN'}\n",
            "RIEKER PAULA H -> {'salary': 249201, 'to_messages': 1328, 'deferral_payments': 214678, 'total_payments': 1099100, 'loan_advances': 'NaN', 'bonus': 700000, 'email_address': 'paula.rieker@enron.com', 'restricted_stock_deferred': 'NaN', 'deferred_income': -100000, 'total_stock_value': 1918887, 'expenses': 33271, 'from_poi_to_this_person': 35, 'exercised_stock_options': 1635238, 'from_messages': 82, 'other': 1950, 'from_this_person_to_poi': 48, 'poi': True, 'long_term_incentive': 'NaN', 'shared_receipt_with_poi': 1258, 'restricted_stock': 283649, 'director_fees': 'NaN'}\n",
            "WHALEY DAVID A -> {'salary': 'NaN', 'to_messages': 'NaN', 'deferral_payments': 'NaN', 'total_payments': 'NaN', 'loan_advances': 'NaN', 'bonus': 'NaN', 'email_address': 'NaN', 'restricted_stock_deferred': 'NaN', 'deferred_income': 'NaN', 'total_stock_value': 98718, 'expenses': 'NaN', 'from_poi_to_this_person': 'NaN', 'exercised_stock_options': 98718, 'from_messages': 'NaN', 'other': 'NaN', 'from_this_person_to_poi': 'NaN', 'poi': False, 'long_term_incentive': 'NaN', 'shared_receipt_with_poi': 'NaN', 'restricted_stock': 'NaN', 'director_fees': 'NaN'}\n",
            "BECK SALLY W -> {'salary': 231330, 'to_messages': 7315, 'deferral_payments': 'NaN', 'total_payments': 969068, 'loan_advances': 'NaN', 'bonus': 700000, 'email_address': 'sally.beck@enron.com', 'restricted_stock_deferred': 'NaN', 'deferred_income': 'NaN', 'total_stock_value': 126027, 'expenses': 37172, 'from_poi_to_this_person': 144, 'exercised_stock_options': 'NaN', 'from_messages': 4343, 'other': 566, 'from_this_person_to_poi': 386, 'poi': False, 'long_term_incentive': 'NaN', 'shared_receipt_with_poi': 2639, 'restricted_stock': 126027, 'director_fees': 'NaN'}\n",
            "HAUG DAVID L -> {'salary': 'NaN', 'to_messages': 573, 'deferral_payments': 'NaN', 'total_payments': 475, 'loan_advances': 'NaN', 'bonus': 'NaN', 'email_address': 'david.haug@enron.com', 'restricted_stock_deferred': 'NaN', 'deferred_income': 'NaN', 'total_stock_value': 2217299, 'expenses': 475, 'from_poi_to_this_person': 4, 'exercised_stock_options': 'NaN', 'from_messages': 19, 'other': 'NaN', 'from_this_person_to_poi': 7, 'poi': False, 'long_term_incentive': 'NaN', 'shared_receipt_with_poi': 471, 'restricted_stock': 2217299, 'director_fees': 'NaN'}\n",
            "ECHOLS JOHN B -> {'salary': 182245, 'to_messages': 'NaN', 'deferral_payments': 'NaN', 'total_payments': 2692324, 'loan_advances': 'NaN', 'bonus': 200000, 'email_address': 'john.echols@enron.com', 'restricted_stock_deferred': 'NaN', 'deferred_income': 'NaN', 'total_stock_value': 1008941, 'expenses': 21530, 'from_poi_to_this_person': 'NaN', 'exercised_stock_options': 601438, 'from_messages': 'NaN', 'other': 53775, 'from_this_person_to_poi': 'NaN', 'poi': False, 'long_term_incentive': 2234774, 'shared_receipt_with_poi': 'NaN', 'restricted_stock': 407503, 'director_fees': 'NaN'}\n",
            "MENDELSOHN JOHN -> {'salary': 'NaN', 'to_messages': 'NaN', 'deferral_payments': 'NaN', 'total_payments': 148, 'loan_advances': 'NaN', 'bonus': 'NaN', 'email_address': 'NaN', 'restricted_stock_deferred': 'NaN', 'deferred_income': -103750, 'total_stock_value': 'NaN', 'expenses': 148, 'from_poi_to_this_person': 'NaN', 'exercised_stock_options': 'NaN', 'from_messages': 'NaN', 'other': 'NaN', 'from_this_person_to_poi': 'NaN', 'poi': False, 'long_term_incentive': 'NaN', 'shared_receipt_with_poi': 'NaN', 'restricted_stock': 'NaN', 'director_fees': 103750}\n",
            "HICKERSON GARY J -> {'salary': 211788, 'to_messages': 1320, 'deferral_payments': 'NaN', 'total_payments': 2081796, 'loan_advances': 'NaN', 'bonus': 1700000, 'email_address': 'gary.hickerson@enron.com', 'restricted_stock_deferred': 'NaN', 'deferred_income': 'NaN', 'total_stock_value': 441096, 'expenses': 98849, 'from_poi_to_this_person': 40, 'exercised_stock_options': 'NaN', 'from_messages': 27, 'other': 1936, 'from_this_person_to_poi': 1, 'poi': False, 'long_term_incentive': 69223, 'shared_receipt_with_poi': 900, 'restricted_stock': 441096, 'director_fees': 'NaN'}\n",
            "CLINE KENNETH W -> {'salary': 'NaN', 'to_messages': 'NaN', 'deferral_payments': 'NaN', 'total_payments': 'NaN', 'loan_advances': 'NaN', 'bonus': 'NaN', 'email_address': 'NaN', 'restricted_stock_deferred': -472568, 'deferred_income': 'NaN', 'total_stock_value': 189518, 'expenses': 'NaN', 'from_poi_to_this_person': 'NaN', 'exercised_stock_options': 'NaN', 'from_messages': 'NaN', 'other': 'NaN', 'from_this_person_to_poi': 'NaN', 'poi': False, 'long_term_incentive': 'NaN', 'shared_receipt_with_poi': 'NaN', 'restricted_stock': 662086, 'director_fees': 'NaN'}\n",
            "LEWIS RICHARD -> {'salary': 'NaN', 'to_messages': 952, 'deferral_payments': 'NaN', 'total_payments': 'NaN', 'loan_advances': 'NaN', 'bonus': 'NaN', 'email_address': 'richard.lewis@enron.com', 'restricted_stock_deferred': 'NaN', 'deferred_income': 'NaN', 'total_stock_value': 850477, 'expenses': 'NaN', 'from_poi_to_this_person': 10, 'exercised_stock_options': 850477, 'from_messages': 26, 'other': 'NaN', 'from_this_person_to_poi': 0, 'poi': False, 'long_term_incentive': 'NaN', 'shared_receipt_with_poi': 739, 'restricted_stock': 'NaN', 'director_fees': 'NaN'}\n",
            "HAYES ROBERT E -> {'salary': 'NaN', 'to_messages': 504, 'deferral_payments': 7961, 'total_payments': 7961, 'loan_advances': 'NaN', 'bonus': 'NaN', 'email_address': 'robert.hayes@enron.com', 'restricted_stock_deferred': 'NaN', 'deferred_income': 'NaN', 'total_stock_value': 151418, 'expenses': 'NaN', 'from_poi_to_this_person': 16, 'exercised_stock_options': 'NaN', 'from_messages': 12, 'other': 'NaN', 'from_this_person_to_poi': 0, 'poi': False, 'long_term_incentive': 'NaN', 'shared_receipt_with_poi': 50, 'restricted_stock': 151418, 'director_fees': 'NaN'}\n",
            "KOPPER MICHAEL J -> {'salary': 224305, 'to_messages': 'NaN', 'deferral_payments': 'NaN', 'total_payments': 2652612, 'loan_advances': 'NaN', 'bonus': 800000, 'email_address': 'michael.kopper@enron.com', 'restricted_stock_deferred': 'NaN', 'deferred_income': 'NaN', 'total_stock_value': 985032, 'expenses': 118134, 'from_poi_to_this_person': 'NaN', 'exercised_stock_options': 'NaN', 'from_messages': 'NaN', 'other': 907502, 'from_this_person_to_poi': 'NaN', 'poi': True, 'long_term_incentive': 602671, 'shared_receipt_with_poi': 'NaN', 'restricted_stock': 985032, 'director_fees': 'NaN'}\n",
            "LEFF DANIEL P -> {'salary': 273746, 'to_messages': 2822, 'deferral_payments': 'NaN', 'total_payments': 2664228, 'loan_advances': 'NaN', 'bonus': 1000000, 'email_address': 'dan.leff@enron.com', 'restricted_stock_deferred': 'NaN', 'deferred_income': 'NaN', 'total_stock_value': 360528, 'expenses': 'NaN', 'from_poi_to_this_person': 67, 'exercised_stock_options': 'NaN', 'from_messages': 63, 'other': 3083, 'from_this_person_to_poi': 14, 'poi': False, 'long_term_incentive': 1387399, 'shared_receipt_with_poi': 2672, 'restricted_stock': 360528, 'director_fees': 'NaN'}\n",
            "LAVORATO JOHN J -> {'salary': 339288, 'to_messages': 7259, 'deferral_payments': 'NaN', 'total_payments': 10425757, 'loan_advances': 'NaN', 'bonus': 8000000, 'email_address': 'john.lavorato@enron.com', 'restricted_stock_deferred': 'NaN', 'deferred_income': 'NaN', 'total_stock_value': 5167144, 'expenses': 49537, 'from_poi_to_this_person': 528, 'exercised_stock_options': 4158995, 'from_messages': 2585, 'other': 1552, 'from_this_person_to_poi': 411, 'poi': False, 'long_term_incentive': 2035380, 'shared_receipt_with_poi': 3962, 'restricted_stock': 1008149, 'director_fees': 'NaN'}\n",
            "BERBERIAN DAVID -> {'salary': 216582, 'to_messages': 'NaN', 'deferral_payments': 'NaN', 'total_payments': 228474, 'loan_advances': 'NaN', 'bonus': 'NaN', 'email_address': 'david.berberian@enron.com', 'restricted_stock_deferred': 'NaN', 'deferred_income': 'NaN', 'total_stock_value': 2493616, 'expenses': 11892, 'from_poi_to_this_person': 'NaN', 'exercised_stock_options': 1624396, 'from_messages': 'NaN', 'other': 'NaN', 'from_this_person_to_poi': 'NaN', 'poi': False, 'long_term_incentive': 'NaN', 'shared_receipt_with_poi': 'NaN', 'restricted_stock': 869220, 'director_fees': 'NaN'}\n",
            "DETMERING TIMOTHY J -> {'salary': 210500, 'to_messages': 'NaN', 'deferral_payments': 875307, 'total_payments': 1204583, 'loan_advances': 'NaN', 'bonus': 425000, 'email_address': 'timothy.detmering@enron.com', 'restricted_stock_deferred': -315068, 'deferred_income': -775241, 'total_stock_value': 2027865, 'expenses': 52255, 'from_poi_to_this_person': 'NaN', 'exercised_stock_options': 2027865, 'from_messages': 'NaN', 'other': 1105, 'from_this_person_to_poi': 'NaN', 'poi': False, 'long_term_incentive': 415657, 'shared_receipt_with_poi': 'NaN', 'restricted_stock': 315068, 'director_fees': 'NaN'}\n",
            "WAKEHAM JOHN -> {'salary': 'NaN', 'to_messages': 'NaN', 'deferral_payments': 'NaN', 'total_payments': 213071, 'loan_advances': 'NaN', 'bonus': 'NaN', 'email_address': 'NaN', 'restricted_stock_deferred': 'NaN', 'deferred_income': 'NaN', 'total_stock_value': 'NaN', 'expenses': 103773, 'from_poi_to_this_person': 'NaN', 'exercised_stock_options': 'NaN', 'from_messages': 'NaN', 'other': 'NaN', 'from_this_person_to_poi': 'NaN', 'poi': False, 'long_term_incentive': 'NaN', 'shared_receipt_with_poi': 'NaN', 'restricted_stock': 'NaN', 'director_fees': 109298}\n",
            "POWERS WILLIAM -> {'salary': 'NaN', 'to_messages': 653, 'deferral_payments': 'NaN', 'total_payments': 'NaN', 'loan_advances': 'NaN', 'bonus': 'NaN', 'email_address': 'ken.powers@enron.com', 'restricted_stock_deferred': 'NaN', 'deferred_income': -17500, 'total_stock_value': 'NaN', 'expenses': 'NaN', 'from_poi_to_this_person': 0, 'exercised_stock_options': 'NaN', 'from_messages': 26, 'other': 'NaN', 'from_this_person_to_poi': 0, 'poi': False, 'long_term_incentive': 'NaN', 'shared_receipt_with_poi': 12, 'restricted_stock': 'NaN', 'director_fees': 17500}\n",
            "GOLD JOSEPH -> {'salary': 272880, 'to_messages': 'NaN', 'deferral_payments': 'NaN', 'total_payments': 2146973, 'loan_advances': 'NaN', 'bonus': 750000, 'email_address': 'joe.gold@enron.com', 'restricted_stock_deferred': 'NaN', 'deferred_income': 'NaN', 'total_stock_value': 877611, 'expenses': 'NaN', 'from_poi_to_this_person': 'NaN', 'exercised_stock_options': 436515, 'from_messages': 'NaN', 'other': 819288, 'from_this_person_to_poi': 'NaN', 'poi': False, 'long_term_incentive': 304805, 'shared_receipt_with_poi': 'NaN', 'restricted_stock': 441096, 'director_fees': 'NaN'}\n",
            "BANNANTINE JAMES M -> {'salary': 477, 'to_messages': 566, 'deferral_payments': 'NaN', 'total_payments': 916197, 'loan_advances': 'NaN', 'bonus': 'NaN', 'email_address': 'james.bannantine@enron.com', 'restricted_stock_deferred': -560222, 'deferred_income': -5104, 'total_stock_value': 5243487, 'expenses': 56301, 'from_poi_to_this_person': 39, 'exercised_stock_options': 4046157, 'from_messages': 29, 'other': 864523, 'from_this_person_to_poi': 0, 'poi': False, 'long_term_incentive': 'NaN', 'shared_receipt_with_poi': 465, 'restricted_stock': 1757552, 'director_fees': 'NaN'}\n",
            "DUNCAN JOHN H -> {'salary': 'NaN', 'to_messages': 'NaN', 'deferral_payments': 'NaN', 'total_payments': 77492, 'loan_advances': 'NaN', 'bonus': 'NaN', 'email_address': 'NaN', 'restricted_stock_deferred': 'NaN', 'deferred_income': -25000, 'total_stock_value': 371750, 'expenses': 'NaN', 'from_poi_to_this_person': 'NaN', 'exercised_stock_options': 371750, 'from_messages': 'NaN', 'other': 'NaN', 'from_this_person_to_poi': 'NaN', 'poi': False, 'long_term_incentive': 'NaN', 'shared_receipt_with_poi': 'NaN', 'restricted_stock': 'NaN', 'director_fees': 102492}\n",
            "SHAPIRO RICHARD S -> {'salary': 269076, 'to_messages': 15149, 'deferral_payments': 'NaN', 'total_payments': 1057548, 'loan_advances': 'NaN', 'bonus': 650000, 'email_address': 'richard.shapiro@enron.com', 'restricted_stock_deferred': 'NaN', 'deferred_income': 'NaN', 'total_stock_value': 987001, 'expenses': 137767, 'from_poi_to_this_person': 74, 'exercised_stock_options': 607837, 'from_messages': 1215, 'other': 705, 'from_this_person_to_poi': 65, 'poi': False, 'long_term_incentive': 'NaN', 'shared_receipt_with_poi': 4527, 'restricted_stock': 379164, 'director_fees': 'NaN'}\n",
            "SHERRIFF JOHN R -> {'salary': 428780, 'to_messages': 3187, 'deferral_payments': 'NaN', 'total_payments': 4335388, 'loan_advances': 'NaN', 'bonus': 1500000, 'email_address': 'john.sherriff@enron.com', 'restricted_stock_deferred': 'NaN', 'deferred_income': 'NaN', 'total_stock_value': 3128982, 'expenses': 'NaN', 'from_poi_to_this_person': 28, 'exercised_stock_options': 1835558, 'from_messages': 92, 'other': 1852186, 'from_this_person_to_poi': 23, 'poi': False, 'long_term_incentive': 554422, 'shared_receipt_with_poi': 2103, 'restricted_stock': 1293424, 'director_fees': 'NaN'}\n",
            "SHELBY REX -> {'salary': 211844, 'to_messages': 225, 'deferral_payments': 'NaN', 'total_payments': 2003885, 'loan_advances': 'NaN', 'bonus': 200000, 'email_address': 'rex.shelby@enron.com', 'restricted_stock_deferred': 'NaN', 'deferred_income': -4167, 'total_stock_value': 2493616, 'expenses': 22884, 'from_poi_to_this_person': 13, 'exercised_stock_options': 1624396, 'from_messages': 39, 'other': 1573324, 'from_this_person_to_poi': 14, 'poi': True, 'long_term_incentive': 'NaN', 'shared_receipt_with_poi': 91, 'restricted_stock': 869220, 'director_fees': 'NaN'}\n",
            "LEMAISTRE CHARLES -> {'salary': 'NaN', 'to_messages': 'NaN', 'deferral_payments': 'NaN', 'total_payments': 87492, 'loan_advances': 'NaN', 'bonus': 'NaN', 'email_address': 'NaN', 'restricted_stock_deferred': 'NaN', 'deferred_income': -25000, 'total_stock_value': 412878, 'expenses': 'NaN', 'from_poi_to_this_person': 'NaN', 'exercised_stock_options': 412878, 'from_messages': 'NaN', 'other': 'NaN', 'from_this_person_to_poi': 'NaN', 'poi': False, 'long_term_incentive': 'NaN', 'shared_receipt_with_poi': 'NaN', 'restricted_stock': 'NaN', 'director_fees': 112492}\n",
            "DEFFNER JOSEPH M -> {'salary': 206121, 'to_messages': 714, 'deferral_payments': 'NaN', 'total_payments': 1208649, 'loan_advances': 'NaN', 'bonus': 600000, 'email_address': 'joseph.deffner@enron.com', 'restricted_stock_deferred': 'NaN', 'deferred_income': 'NaN', 'total_stock_value': 159211, 'expenses': 41626, 'from_poi_to_this_person': 115, 'exercised_stock_options': 17378, 'from_messages': 74, 'other': 25553, 'from_this_person_to_poi': 4, 'poi': False, 'long_term_incentive': 335349, 'shared_receipt_with_poi': 552, 'restricted_stock': 141833, 'director_fees': 'NaN'}\n",
            "KISHKILL JOSEPH G -> {'salary': 174246, 'to_messages': 'NaN', 'deferral_payments': 'NaN', 'total_payments': 704896, 'loan_advances': 'NaN', 'bonus': 'NaN', 'email_address': 'joe.kishkill@enron.com', 'restricted_stock_deferred': 'NaN', 'deferred_income': -51042, 'total_stock_value': 1034346, 'expenses': 116335, 'from_poi_to_this_person': 'NaN', 'exercised_stock_options': 'NaN', 'from_messages': 'NaN', 'other': 465357, 'from_this_person_to_poi': 'NaN', 'poi': False, 'long_term_incentive': 'NaN', 'shared_receipt_with_poi': 'NaN', 'restricted_stock': 1034346, 'director_fees': 'NaN'}\n",
            "WHALLEY LAWRENCE G -> {'salary': 510364, 'to_messages': 6019, 'deferral_payments': 'NaN', 'total_payments': 4677574, 'loan_advances': 'NaN', 'bonus': 3000000, 'email_address': 'greg.whalley@enron.com', 'restricted_stock_deferred': 'NaN', 'deferred_income': 'NaN', 'total_stock_value': 6079137, 'expenses': 57838, 'from_poi_to_this_person': 186, 'exercised_stock_options': 3282960, 'from_messages': 556, 'other': 301026, 'from_this_person_to_poi': 24, 'poi': False, 'long_term_incentive': 808346, 'shared_receipt_with_poi': 3920, 'restricted_stock': 2796177, 'director_fees': 'NaN'}\n",
            "MCCONNELL MICHAEL S -> {'salary': 365038, 'to_messages': 3329, 'deferral_payments': 'NaN', 'total_payments': 2101364, 'loan_advances': 'NaN', 'bonus': 1100000, 'email_address': 'mike.mcconnell@enron.com', 'restricted_stock_deferred': 'NaN', 'deferred_income': 'NaN', 'total_stock_value': 3101279, 'expenses': 81364, 'from_poi_to_this_person': 92, 'exercised_stock_options': 1623010, 'from_messages': 2742, 'other': 540, 'from_this_person_to_poi': 194, 'poi': False, 'long_term_incentive': 554422, 'shared_receipt_with_poi': 2189, 'restricted_stock': 1478269, 'director_fees': 'NaN'}\n",
            "PIRO JIM -> {'salary': 'NaN', 'to_messages': 58, 'deferral_payments': 'NaN', 'total_payments': 'NaN', 'loan_advances': 'NaN', 'bonus': 'NaN', 'email_address': 'jim.piro@enron.com', 'restricted_stock_deferred': 'NaN', 'deferred_income': 'NaN', 'total_stock_value': 47304, 'expenses': 'NaN', 'from_poi_to_this_person': 0, 'exercised_stock_options': 'NaN', 'from_messages': 16, 'other': 'NaN', 'from_this_person_to_poi': 1, 'poi': False, 'long_term_incentive': 'NaN', 'shared_receipt_with_poi': 3, 'restricted_stock': 47304, 'director_fees': 'NaN'}\n",
            "DELAINEY DAVID W -> {'salary': 365163, 'to_messages': 3093, 'deferral_payments': 'NaN', 'total_payments': 4747979, 'loan_advances': 'NaN', 'bonus': 3000000, 'email_address': 'david.delainey@enron.com', 'restricted_stock_deferred': 'NaN', 'deferred_income': 'NaN', 'total_stock_value': 3614261, 'expenses': 86174, 'from_poi_to_this_person': 66, 'exercised_stock_options': 2291113, 'from_messages': 3069, 'other': 1661, 'from_this_person_to_poi': 609, 'poi': True, 'long_term_incentive': 1294981, 'shared_receipt_with_poi': 2097, 'restricted_stock': 1323148, 'director_fees': 'NaN'}\n",
            "SULLIVAN-SHAKLOVITZ COLLEEN -> {'salary': 162779, 'to_messages': 'NaN', 'deferral_payments': 181993, 'total_payments': 999356, 'loan_advances': 'NaN', 'bonus': 100000, 'email_address': 'NaN', 'restricted_stock_deferred': 'NaN', 'deferred_income': 'NaN', 'total_stock_value': 1362375, 'expenses': 'NaN', 'from_poi_to_this_person': 'NaN', 'exercised_stock_options': 1362375, 'from_messages': 'NaN', 'other': 162, 'from_this_person_to_poi': 'NaN', 'poi': False, 'long_term_incentive': 554422, 'shared_receipt_with_poi': 'NaN', 'restricted_stock': 'NaN', 'director_fees': 'NaN'}\n",
            "WROBEL BRUCE -> {'salary': 'NaN', 'to_messages': 'NaN', 'deferral_payments': 'NaN', 'total_payments': 'NaN', 'loan_advances': 'NaN', 'bonus': 'NaN', 'email_address': 'NaN', 'restricted_stock_deferred': 'NaN', 'deferred_income': 'NaN', 'total_stock_value': 139130, 'expenses': 'NaN', 'from_poi_to_this_person': 'NaN', 'exercised_stock_options': 139130, 'from_messages': 'NaN', 'other': 'NaN', 'from_this_person_to_poi': 'NaN', 'poi': False, 'long_term_incentive': 'NaN', 'shared_receipt_with_poi': 'NaN', 'restricted_stock': 'NaN', 'director_fees': 'NaN'}\n",
            "LINDHOLM TOD A -> {'salary': 236457, 'to_messages': 'NaN', 'deferral_payments': 204075, 'total_payments': 875889, 'loan_advances': 'NaN', 'bonus': 200000, 'email_address': 'tod.lindholm@enron.com', 'restricted_stock_deferred': 'NaN', 'deferred_income': 'NaN', 'total_stock_value': 3064208, 'expenses': 57727, 'from_poi_to_this_person': 'NaN', 'exercised_stock_options': 2549361, 'from_messages': 'NaN', 'other': 2630, 'from_this_person_to_poi': 'NaN', 'poi': False, 'long_term_incentive': 175000, 'shared_receipt_with_poi': 'NaN', 'restricted_stock': 514847, 'director_fees': 'NaN'}\n",
            "MEYER JEROME J -> {'salary': 'NaN', 'to_messages': 'NaN', 'deferral_payments': 'NaN', 'total_payments': 2151, 'loan_advances': 'NaN', 'bonus': 'NaN', 'email_address': 'NaN', 'restricted_stock_deferred': 'NaN', 'deferred_income': -38346, 'total_stock_value': 'NaN', 'expenses': 2151, 'from_poi_to_this_person': 'NaN', 'exercised_stock_options': 'NaN', 'from_messages': 'NaN', 'other': 'NaN', 'from_this_person_to_poi': 'NaN', 'poi': False, 'long_term_incentive': 'NaN', 'shared_receipt_with_poi': 'NaN', 'restricted_stock': 'NaN', 'director_fees': 38346}\n",
            "LAY KENNETH L -> {'salary': 1072321, 'to_messages': 4273, 'deferral_payments': 202911, 'total_payments': 103559793, 'loan_advances': 81525000, 'bonus': 7000000, 'email_address': 'kenneth.lay@enron.com', 'restricted_stock_deferred': 'NaN', 'deferred_income': -300000, 'total_stock_value': 49110078, 'expenses': 99832, 'from_poi_to_this_person': 123, 'exercised_stock_options': 34348384, 'from_messages': 36, 'other': 10359729, 'from_this_person_to_poi': 16, 'poi': True, 'long_term_incentive': 3600000, 'shared_receipt_with_poi': 2411, 'restricted_stock': 14761694, 'director_fees': 'NaN'}\n",
            "BUTTS ROBERT H -> {'salary': 261516, 'to_messages': 'NaN', 'deferral_payments': 'NaN', 'total_payments': 1271582, 'loan_advances': 'NaN', 'bonus': 750000, 'email_address': 'bob.butts@enron.com', 'restricted_stock_deferred': 'NaN', 'deferred_income': -75000, 'total_stock_value': 417619, 'expenses': 9410, 'from_poi_to_this_person': 'NaN', 'exercised_stock_options': 'NaN', 'from_messages': 'NaN', 'other': 150656, 'from_this_person_to_poi': 'NaN', 'poi': False, 'long_term_incentive': 175000, 'shared_receipt_with_poi': 'NaN', 'restricted_stock': 417619, 'director_fees': 'NaN'}\n",
            "OLSON CINDY K -> {'salary': 329078, 'to_messages': 1184, 'deferral_payments': 77716, 'total_payments': 1321557, 'loan_advances': 'NaN', 'bonus': 750000, 'email_address': 'cindy.olson@enron.com', 'restricted_stock_deferred': 'NaN', 'deferred_income': 'NaN', 'total_stock_value': 2606763, 'expenses': 63791, 'from_poi_to_this_person': 20, 'exercised_stock_options': 1637034, 'from_messages': 52, 'other': 972, 'from_this_person_to_poi': 15, 'poi': False, 'long_term_incentive': 100000, 'shared_receipt_with_poi': 856, 'restricted_stock': 969729, 'director_fees': 'NaN'}\n",
            "MCDONALD REBECCA -> {'salary': 'NaN', 'to_messages': 894, 'deferral_payments': 'NaN', 'total_payments': 'NaN', 'loan_advances': 'NaN', 'bonus': 'NaN', 'email_address': 'rebecca.mcdonald@enron.com', 'restricted_stock_deferred': 'NaN', 'deferred_income': 'NaN', 'total_stock_value': 1691366, 'expenses': 'NaN', 'from_poi_to_this_person': 54, 'exercised_stock_options': 757301, 'from_messages': 13, 'other': 'NaN', 'from_this_person_to_poi': 1, 'poi': False, 'long_term_incentive': 'NaN', 'shared_receipt_with_poi': 720, 'restricted_stock': 934065, 'director_fees': 'NaN'}\n",
            "CUMBERLAND MICHAEL S -> {'salary': 184899, 'to_messages': 'NaN', 'deferral_payments': 'NaN', 'total_payments': 807956, 'loan_advances': 'NaN', 'bonus': 325000, 'email_address': 'NaN', 'restricted_stock_deferred': 'NaN', 'deferred_income': 'NaN', 'total_stock_value': 207940, 'expenses': 22344, 'from_poi_to_this_person': 'NaN', 'exercised_stock_options': 'NaN', 'from_messages': 'NaN', 'other': 713, 'from_this_person_to_poi': 'NaN', 'poi': False, 'long_term_incentive': 275000, 'shared_receipt_with_poi': 'NaN', 'restricted_stock': 207940, 'director_fees': 'NaN'}\n",
            "GAHN ROBERT S -> {'salary': 192008, 'to_messages': 'NaN', 'deferral_payments': 73122, 'total_payments': 900585, 'loan_advances': 'NaN', 'bonus': 509870, 'email_address': 'NaN', 'restricted_stock_deferred': 'NaN', 'deferred_income': -1042, 'total_stock_value': 318607, 'expenses': 50080, 'from_poi_to_this_person': 'NaN', 'exercised_stock_options': 83237, 'from_messages': 'NaN', 'other': 76547, 'from_this_person_to_poi': 'NaN', 'poi': False, 'long_term_incentive': 'NaN', 'shared_receipt_with_poi': 'NaN', 'restricted_stock': 235370, 'director_fees': 'NaN'}\n",
            "BADUM JAMES P -> {'salary': 'NaN', 'to_messages': 'NaN', 'deferral_payments': 178980, 'total_payments': 182466, 'loan_advances': 'NaN', 'bonus': 'NaN', 'email_address': 'NaN', 'restricted_stock_deferred': 'NaN', 'deferred_income': 'NaN', 'total_stock_value': 257817, 'expenses': 3486, 'from_poi_to_this_person': 'NaN', 'exercised_stock_options': 257817, 'from_messages': 'NaN', 'other': 'NaN', 'from_this_person_to_poi': 'NaN', 'poi': False, 'long_term_incentive': 'NaN', 'shared_receipt_with_poi': 'NaN', 'restricted_stock': 'NaN', 'director_fees': 'NaN'}\n",
            "HERMANN ROBERT J -> {'salary': 262663, 'to_messages': 'NaN', 'deferral_payments': 'NaN', 'total_payments': 1297461, 'loan_advances': 'NaN', 'bonus': 700000, 'email_address': 'robert.hermann@enron.com', 'restricted_stock_deferred': 'NaN', 'deferred_income': -280000, 'total_stock_value': 668132, 'expenses': 48357, 'from_poi_to_this_person': 'NaN', 'exercised_stock_options': 187500, 'from_messages': 'NaN', 'other': 416441, 'from_this_person_to_poi': 'NaN', 'poi': False, 'long_term_incentive': 150000, 'shared_receipt_with_poi': 'NaN', 'restricted_stock': 480632, 'director_fees': 'NaN'}\n",
            "FALLON JAMES B -> {'salary': 304588, 'to_messages': 1755, 'deferral_payments': 'NaN', 'total_payments': 3676340, 'loan_advances': 'NaN', 'bonus': 2500000, 'email_address': 'jim.fallon@enron.com', 'restricted_stock_deferred': 'NaN', 'deferred_income': 'NaN', 'total_stock_value': 2332399, 'expenses': 95924, 'from_poi_to_this_person': 42, 'exercised_stock_options': 940257, 'from_messages': 75, 'other': 401481, 'from_this_person_to_poi': 37, 'poi': False, 'long_term_incentive': 374347, 'shared_receipt_with_poi': 1604, 'restricted_stock': 1392142, 'director_fees': 'NaN'}\n",
            "GATHMANN WILLIAM D -> {'salary': 'NaN', 'to_messages': 'NaN', 'deferral_payments': 'NaN', 'total_payments': 'NaN', 'loan_advances': 'NaN', 'bonus': 'NaN', 'email_address': 'NaN', 'restricted_stock_deferred': -72419, 'deferred_income': 'NaN', 'total_stock_value': 1945360, 'expenses': 'NaN', 'from_poi_to_this_person': 'NaN', 'exercised_stock_options': 1753766, 'from_messages': 'NaN', 'other': 'NaN', 'from_this_person_to_poi': 'NaN', 'poi': False, 'long_term_incentive': 'NaN', 'shared_receipt_with_poi': 'NaN', 'restricted_stock': 264013, 'director_fees': 'NaN'}\n",
            "HORTON STANLEY C -> {'salary': 'NaN', 'to_messages': 2350, 'deferral_payments': 3131860, 'total_payments': 3131860, 'loan_advances': 'NaN', 'bonus': 'NaN', 'email_address': 'stanley.horton@enron.com', 'restricted_stock_deferred': 'NaN', 'deferred_income': 'NaN', 'total_stock_value': 7256648, 'expenses': 'NaN', 'from_poi_to_this_person': 44, 'exercised_stock_options': 5210569, 'from_messages': 1073, 'other': 'NaN', 'from_this_person_to_poi': 15, 'poi': False, 'long_term_incentive': 'NaN', 'shared_receipt_with_poi': 1074, 'restricted_stock': 2046079, 'director_fees': 'NaN'}\n",
            "BOWEN JR RAYMOND M -> {'salary': 278601, 'to_messages': 1858, 'deferral_payments': 'NaN', 'total_payments': 2669589, 'loan_advances': 'NaN', 'bonus': 1350000, 'email_address': 'raymond.bowen@enron.com', 'restricted_stock_deferred': 'NaN', 'deferred_income': -833, 'total_stock_value': 252055, 'expenses': 65907, 'from_poi_to_this_person': 140, 'exercised_stock_options': 'NaN', 'from_messages': 27, 'other': 1621, 'from_this_person_to_poi': 15, 'poi': True, 'long_term_incentive': 974293, 'shared_receipt_with_poi': 1593, 'restricted_stock': 252055, 'director_fees': 'NaN'}\n",
            "GILLIS JOHN -> {'salary': 'NaN', 'to_messages': 'NaN', 'deferral_payments': 'NaN', 'total_payments': 'NaN', 'loan_advances': 'NaN', 'bonus': 'NaN', 'email_address': 'NaN', 'restricted_stock_deferred': 'NaN', 'deferred_income': 'NaN', 'total_stock_value': 85641, 'expenses': 'NaN', 'from_poi_to_this_person': 'NaN', 'exercised_stock_options': 9803, 'from_messages': 'NaN', 'other': 'NaN', 'from_this_person_to_poi': 'NaN', 'poi': False, 'long_term_incentive': 'NaN', 'shared_receipt_with_poi': 'NaN', 'restricted_stock': 75838, 'director_fees': 'NaN'}\n",
            "FITZGERALD JAY L -> {'salary': 199157, 'to_messages': 936, 'deferral_payments': 'NaN', 'total_payments': 1414857, 'loan_advances': 'NaN', 'bonus': 350000, 'email_address': 'jay.fitzgerald@enron.com', 'restricted_stock_deferred': 'NaN', 'deferred_income': 'NaN', 'total_stock_value': 1621236, 'expenses': 23870, 'from_poi_to_this_person': 1, 'exercised_stock_options': 664461, 'from_messages': 16, 'other': 285414, 'from_this_person_to_poi': 8, 'poi': False, 'long_term_incentive': 556416, 'shared_receipt_with_poi': 723, 'restricted_stock': 956775, 'director_fees': 'NaN'}\n",
            "MORAN MICHAEL P -> {'salary': 'NaN', 'to_messages': 672, 'deferral_payments': 'NaN', 'total_payments': 'NaN', 'loan_advances': 'NaN', 'bonus': 'NaN', 'email_address': 'michael.moran@enron.com', 'restricted_stock_deferred': 'NaN', 'deferred_income': 'NaN', 'total_stock_value': 221141, 'expenses': 'NaN', 'from_poi_to_this_person': 0, 'exercised_stock_options': 59539, 'from_messages': 19, 'other': 'NaN', 'from_this_person_to_poi': 0, 'poi': False, 'long_term_incentive': 'NaN', 'shared_receipt_with_poi': 127, 'restricted_stock': 161602, 'director_fees': 'NaN'}\n",
            "REDMOND BRIAN L -> {'salary': 96840, 'to_messages': 1671, 'deferral_payments': 'NaN', 'total_payments': 111529, 'loan_advances': 'NaN', 'bonus': 'NaN', 'email_address': 'brian.redmond@enron.com', 'restricted_stock_deferred': 'NaN', 'deferred_income': 'NaN', 'total_stock_value': 7890324, 'expenses': 14689, 'from_poi_to_this_person': 204, 'exercised_stock_options': 7509039, 'from_messages': 221, 'other': 'NaN', 'from_this_person_to_poi': 49, 'poi': False, 'long_term_incentive': 'NaN', 'shared_receipt_with_poi': 1063, 'restricted_stock': 381285, 'director_fees': 'NaN'}\n",
            "BAZELIDES PHILIP J -> {'salary': 80818, 'to_messages': 'NaN', 'deferral_payments': 684694, 'total_payments': 860136, 'loan_advances': 'NaN', 'bonus': 'NaN', 'email_address': 'NaN', 'restricted_stock_deferred': 'NaN', 'deferred_income': 'NaN', 'total_stock_value': 1599641, 'expenses': 'NaN', 'from_poi_to_this_person': 'NaN', 'exercised_stock_options': 1599641, 'from_messages': 'NaN', 'other': 874, 'from_this_person_to_poi': 'NaN', 'poi': False, 'long_term_incentive': 93750, 'shared_receipt_with_poi': 'NaN', 'restricted_stock': 'NaN', 'director_fees': 'NaN'}\n",
            "BELDEN TIMOTHY N -> {'salary': 213999, 'to_messages': 7991, 'deferral_payments': 2144013, 'total_payments': 5501630, 'loan_advances': 'NaN', 'bonus': 5249999, 'email_address': 'tim.belden@enron.com', 'restricted_stock_deferred': 'NaN', 'deferred_income': -2334434, 'total_stock_value': 1110705, 'expenses': 17355, 'from_poi_to_this_person': 228, 'exercised_stock_options': 953136, 'from_messages': 484, 'other': 210698, 'from_this_person_to_poi': 108, 'poi': True, 'long_term_incentive': 'NaN', 'shared_receipt_with_poi': 5521, 'restricted_stock': 157569, 'director_fees': 'NaN'}\n",
            "DIMICHELE RICHARD G -> {'salary': 262788, 'to_messages': 'NaN', 'deferral_payments': 'NaN', 'total_payments': 2368151, 'loan_advances': 'NaN', 'bonus': 1000000, 'email_address': 'richard.dimichele@enron.com', 'restricted_stock_deferred': 'NaN', 'deferred_income': 'NaN', 'total_stock_value': 8317782, 'expenses': 35812, 'from_poi_to_this_person': 'NaN', 'exercised_stock_options': 8191755, 'from_messages': 'NaN', 'other': 374689, 'from_this_person_to_poi': 'NaN', 'poi': False, 'long_term_incentive': 694862, 'shared_receipt_with_poi': 'NaN', 'restricted_stock': 126027, 'director_fees': 'NaN'}\n",
            "DURAN WILLIAM D -> {'salary': 210692, 'to_messages': 904, 'deferral_payments': 'NaN', 'total_payments': 2093263, 'loan_advances': 'NaN', 'bonus': 750000, 'email_address': 'w.duran@enron.com', 'restricted_stock_deferred': 'NaN', 'deferred_income': 'NaN', 'total_stock_value': 1640910, 'expenses': 25785, 'from_poi_to_this_person': 106, 'exercised_stock_options': 1451869, 'from_messages': 12, 'other': 1568, 'from_this_person_to_poi': 3, 'poi': False, 'long_term_incentive': 1105218, 'shared_receipt_with_poi': 599, 'restricted_stock': 189041, 'director_fees': 'NaN'}\n",
            "THORN TERENCE H -> {'salary': 222093, 'to_messages': 266, 'deferral_payments': 16586, 'total_payments': 911453, 'loan_advances': 'NaN', 'bonus': 'NaN', 'email_address': 'terence.thorn@enron.com', 'restricted_stock_deferred': 'NaN', 'deferred_income': 'NaN', 'total_stock_value': 4817796, 'expenses': 46145, 'from_poi_to_this_person': 0, 'exercised_stock_options': 4452476, 'from_messages': 41, 'other': 426629, 'from_this_person_to_poi': 0, 'poi': False, 'long_term_incentive': 200000, 'shared_receipt_with_poi': 73, 'restricted_stock': 365320, 'director_fees': 'NaN'}\n",
            "FASTOW ANDREW S -> {'salary': 440698, 'to_messages': 'NaN', 'deferral_payments': 'NaN', 'total_payments': 2424083, 'loan_advances': 'NaN', 'bonus': 1300000, 'email_address': 'andrew.fastow@enron.com', 'restricted_stock_deferred': 'NaN', 'deferred_income': -1386055, 'total_stock_value': 1794412, 'expenses': 55921, 'from_poi_to_this_person': 'NaN', 'exercised_stock_options': 'NaN', 'from_messages': 'NaN', 'other': 277464, 'from_this_person_to_poi': 'NaN', 'poi': True, 'long_term_incentive': 1736055, 'shared_receipt_with_poi': 'NaN', 'restricted_stock': 1794412, 'director_fees': 'NaN'}\n",
            "FOY JOE -> {'salary': 'NaN', 'to_messages': 57, 'deferral_payments': 181755, 'total_payments': 181755, 'loan_advances': 'NaN', 'bonus': 'NaN', 'email_address': 'tracy.foy@enron.com', 'restricted_stock_deferred': 'NaN', 'deferred_income': 'NaN', 'total_stock_value': 343434, 'expenses': 'NaN', 'from_poi_to_this_person': 0, 'exercised_stock_options': 343434, 'from_messages': 13, 'other': 'NaN', 'from_this_person_to_poi': 0, 'poi': False, 'long_term_incentive': 'NaN', 'shared_receipt_with_poi': 2, 'restricted_stock': 'NaN', 'director_fees': 'NaN'}\n",
            "CALGER CHRISTOPHER F -> {'salary': 240189, 'to_messages': 2598, 'deferral_payments': 'NaN', 'total_payments': 1639297, 'loan_advances': 'NaN', 'bonus': 1250000, 'email_address': 'christopher.calger@enron.com', 'restricted_stock_deferred': 'NaN', 'deferred_income': -262500, 'total_stock_value': 126027, 'expenses': 35818, 'from_poi_to_this_person': 199, 'exercised_stock_options': 'NaN', 'from_messages': 144, 'other': 486, 'from_this_person_to_poi': 25, 'poi': True, 'long_term_incentive': 375304, 'shared_receipt_with_poi': 2188, 'restricted_stock': 126027, 'director_fees': 'NaN'}\n",
            "RICE KENNETH D -> {'salary': 420636, 'to_messages': 905, 'deferral_payments': 'NaN', 'total_payments': 505050, 'loan_advances': 'NaN', 'bonus': 1750000, 'email_address': 'ken.rice@enron.com', 'restricted_stock_deferred': 'NaN', 'deferred_income': -3504386, 'total_stock_value': 22542539, 'expenses': 46950, 'from_poi_to_this_person': 42, 'exercised_stock_options': 19794175, 'from_messages': 18, 'other': 174839, 'from_this_person_to_poi': 4, 'poi': True, 'long_term_incentive': 1617011, 'shared_receipt_with_poi': 864, 'restricted_stock': 2748364, 'director_fees': 'NaN'}\n",
            "KAMINSKI WINCENTY J -> {'salary': 275101, 'to_messages': 4607, 'deferral_payments': 'NaN', 'total_payments': 1086821, 'loan_advances': 'NaN', 'bonus': 400000, 'email_address': 'vince.kaminski@enron.com', 'restricted_stock_deferred': 'NaN', 'deferred_income': 'NaN', 'total_stock_value': 976037, 'expenses': 83585, 'from_poi_to_this_person': 41, 'exercised_stock_options': 850010, 'from_messages': 14368, 'other': 4669, 'from_this_person_to_poi': 171, 'poi': False, 'long_term_incentive': 323466, 'shared_receipt_with_poi': 583, 'restricted_stock': 126027, 'director_fees': 'NaN'}\n",
            "LOCKHART EUGENE E -> {'salary': 'NaN', 'to_messages': 'NaN', 'deferral_payments': 'NaN', 'total_payments': 'NaN', 'loan_advances': 'NaN', 'bonus': 'NaN', 'email_address': 'NaN', 'restricted_stock_deferred': 'NaN', 'deferred_income': 'NaN', 'total_stock_value': 'NaN', 'expenses': 'NaN', 'from_poi_to_this_person': 'NaN', 'exercised_stock_options': 'NaN', 'from_messages': 'NaN', 'other': 'NaN', 'from_this_person_to_poi': 'NaN', 'poi': False, 'long_term_incentive': 'NaN', 'shared_receipt_with_poi': 'NaN', 'restricted_stock': 'NaN', 'director_fees': 'NaN'}\n",
            "COX DAVID -> {'salary': 314288, 'to_messages': 102, 'deferral_payments': 'NaN', 'total_payments': 1101393, 'loan_advances': 'NaN', 'bonus': 800000, 'email_address': 'chip.cox@enron.com', 'restricted_stock_deferred': 'NaN', 'deferred_income': -41250, 'total_stock_value': 495633, 'expenses': 27861, 'from_poi_to_this_person': 0, 'exercised_stock_options': 117551, 'from_messages': 33, 'other': 494, 'from_this_person_to_poi': 4, 'poi': False, 'long_term_incentive': 'NaN', 'shared_receipt_with_poi': 71, 'restricted_stock': 378082, 'director_fees': 'NaN'}\n",
            "OVERDYKE JR JERE C -> {'salary': 94941, 'to_messages': 'NaN', 'deferral_payments': 'NaN', 'total_payments': 249787, 'loan_advances': 'NaN', 'bonus': 'NaN', 'email_address': 'jere.overdyke@enron.com', 'restricted_stock_deferred': 'NaN', 'deferred_income': 'NaN', 'total_stock_value': 7307594, 'expenses': 18834, 'from_poi_to_this_person': 'NaN', 'exercised_stock_options': 5266578, 'from_messages': 'NaN', 'other': 176, 'from_this_person_to_poi': 'NaN', 'poi': False, 'long_term_incentive': 135836, 'shared_receipt_with_poi': 'NaN', 'restricted_stock': 2041016, 'director_fees': 'NaN'}\n",
            "PEREIRA PAULO V. FERRAZ -> {'salary': 'NaN', 'to_messages': 'NaN', 'deferral_payments': 'NaN', 'total_payments': 27942, 'loan_advances': 'NaN', 'bonus': 'NaN', 'email_address': 'NaN', 'restricted_stock_deferred': 'NaN', 'deferred_income': -101250, 'total_stock_value': 'NaN', 'expenses': 27942, 'from_poi_to_this_person': 'NaN', 'exercised_stock_options': 'NaN', 'from_messages': 'NaN', 'other': 'NaN', 'from_this_person_to_poi': 'NaN', 'poi': False, 'long_term_incentive': 'NaN', 'shared_receipt_with_poi': 'NaN', 'restricted_stock': 'NaN', 'director_fees': 101250}\n",
            "STABLER FRANK -> {'salary': 239502, 'to_messages': 'NaN', 'deferral_payments': 'NaN', 'total_payments': 1112087, 'loan_advances': 'NaN', 'bonus': 500000, 'email_address': 'frank.stabler@enron.com', 'restricted_stock_deferred': 'NaN', 'deferred_income': 'NaN', 'total_stock_value': 511734, 'expenses': 16514, 'from_poi_to_this_person': 'NaN', 'exercised_stock_options': 'NaN', 'from_messages': 'NaN', 'other': 356071, 'from_this_person_to_poi': 'NaN', 'poi': False, 'long_term_incentive': 'NaN', 'shared_receipt_with_poi': 'NaN', 'restricted_stock': 511734, 'director_fees': 'NaN'}\n",
            "SKILLING JEFFREY K -> {'salary': 1111258, 'to_messages': 3627, 'deferral_payments': 'NaN', 'total_payments': 8682716, 'loan_advances': 'NaN', 'bonus': 5600000, 'email_address': 'jeff.skilling@enron.com', 'restricted_stock_deferred': 'NaN', 'deferred_income': 'NaN', 'total_stock_value': 26093672, 'expenses': 29336, 'from_poi_to_this_person': 88, 'exercised_stock_options': 19250000, 'from_messages': 108, 'other': 22122, 'from_this_person_to_poi': 30, 'poi': True, 'long_term_incentive': 1920000, 'shared_receipt_with_poi': 2042, 'restricted_stock': 6843672, 'director_fees': 'NaN'}\n",
            "BLAKE JR. NORMAN P -> {'salary': 'NaN', 'to_messages': 'NaN', 'deferral_payments': 'NaN', 'total_payments': 1279, 'loan_advances': 'NaN', 'bonus': 'NaN', 'email_address': 'NaN', 'restricted_stock_deferred': 'NaN', 'deferred_income': -113784, 'total_stock_value': 'NaN', 'expenses': 1279, 'from_poi_to_this_person': 'NaN', 'exercised_stock_options': 'NaN', 'from_messages': 'NaN', 'other': 'NaN', 'from_this_person_to_poi': 'NaN', 'poi': False, 'long_term_incentive': 'NaN', 'shared_receipt_with_poi': 'NaN', 'restricted_stock': 'NaN', 'director_fees': 113784}\n",
            "SHERRICK JEFFREY B -> {'salary': 'NaN', 'to_messages': 613, 'deferral_payments': 'NaN', 'total_payments': 'NaN', 'loan_advances': 'NaN', 'bonus': 'NaN', 'email_address': 'jeffrey.sherrick@enron.com', 'restricted_stock_deferred': 'NaN', 'deferred_income': 'NaN', 'total_stock_value': 1832468, 'expenses': 'NaN', 'from_poi_to_this_person': 39, 'exercised_stock_options': 1426469, 'from_messages': 25, 'other': 'NaN', 'from_this_person_to_poi': 18, 'poi': False, 'long_term_incentive': 'NaN', 'shared_receipt_with_poi': 583, 'restricted_stock': 405999, 'director_fees': 'NaN'}\n",
            "PRENTICE JAMES -> {'salary': 'NaN', 'to_messages': 'NaN', 'deferral_payments': 564348, 'total_payments': 564348, 'loan_advances': 'NaN', 'bonus': 'NaN', 'email_address': 'james.prentice@enron.com', 'restricted_stock_deferred': 'NaN', 'deferred_income': 'NaN', 'total_stock_value': 1095040, 'expenses': 'NaN', 'from_poi_to_this_person': 'NaN', 'exercised_stock_options': 886231, 'from_messages': 'NaN', 'other': 'NaN', 'from_this_person_to_poi': 'NaN', 'poi': False, 'long_term_incentive': 'NaN', 'shared_receipt_with_poi': 'NaN', 'restricted_stock': 208809, 'director_fees': 'NaN'}\n",
            "GRAY RODNEY -> {'salary': 6615, 'to_messages': 'NaN', 'deferral_payments': 93585, 'total_payments': 1146658, 'loan_advances': 'NaN', 'bonus': 'NaN', 'email_address': 'NaN', 'restricted_stock_deferred': 'NaN', 'deferred_income': 'NaN', 'total_stock_value': 'NaN', 'expenses': 'NaN', 'from_poi_to_this_person': 'NaN', 'exercised_stock_options': 'NaN', 'from_messages': 'NaN', 'other': 680833, 'from_this_person_to_poi': 'NaN', 'poi': False, 'long_term_incentive': 365625, 'shared_receipt_with_poi': 'NaN', 'restricted_stock': 'NaN', 'director_fees': 'NaN'}\n",
            "THE TRAVEL AGENCY IN THE PARK -> {'salary': 'NaN', 'to_messages': 'NaN', 'deferral_payments': 'NaN', 'total_payments': 362096, 'loan_advances': 'NaN', 'bonus': 'NaN', 'email_address': 'NaN', 'restricted_stock_deferred': 'NaN', 'deferred_income': 'NaN', 'total_stock_value': 'NaN', 'expenses': 'NaN', 'from_poi_to_this_person': 'NaN', 'exercised_stock_options': 'NaN', 'from_messages': 'NaN', 'other': 362096, 'from_this_person_to_poi': 'NaN', 'poi': False, 'long_term_incentive': 'NaN', 'shared_receipt_with_poi': 'NaN', 'restricted_stock': 'NaN', 'director_fees': 'NaN'}\n",
            "UMANOFF ADAM S -> {'salary': 288589, 'to_messages': 111, 'deferral_payments': 'NaN', 'total_payments': 1130461, 'loan_advances': 'NaN', 'bonus': 788750, 'email_address': 'adam.umanoff@enron.com', 'restricted_stock_deferred': 'NaN', 'deferred_income': 'NaN', 'total_stock_value': 'NaN', 'expenses': 53122, 'from_poi_to_this_person': 12, 'exercised_stock_options': 'NaN', 'from_messages': 18, 'other': 'NaN', 'from_this_person_to_poi': 0, 'poi': False, 'long_term_incentive': 'NaN', 'shared_receipt_with_poi': 41, 'restricted_stock': 'NaN', 'director_fees': 'NaN'}\n",
            "KEAN STEVEN J -> {'salary': 404338, 'to_messages': 12754, 'deferral_payments': 'NaN', 'total_payments': 1747522, 'loan_advances': 'NaN', 'bonus': 1000000, 'email_address': 'steven.kean@enron.com', 'restricted_stock_deferred': 'NaN', 'deferred_income': 'NaN', 'total_stock_value': 6153642, 'expenses': 41953, 'from_poi_to_this_person': 140, 'exercised_stock_options': 2022048, 'from_messages': 6759, 'other': 1231, 'from_this_person_to_poi': 387, 'poi': False, 'long_term_incentive': 300000, 'shared_receipt_with_poi': 3639, 'restricted_stock': 4131594, 'director_fees': 'NaN'}\n",
            "TOTAL -> {'salary': 26704229, 'to_messages': 'NaN', 'deferral_payments': 32083396, 'total_payments': 309886585, 'loan_advances': 83925000, 'bonus': 97343619, 'email_address': 'NaN', 'restricted_stock_deferred': -7576788, 'deferred_income': -27992891, 'total_stock_value': 434509511, 'expenses': 5235198, 'from_poi_to_this_person': 'NaN', 'exercised_stock_options': 311764000, 'from_messages': 'NaN', 'other': 42667589, 'from_this_person_to_poi': 'NaN', 'poi': False, 'long_term_incentive': 48521928, 'shared_receipt_with_poi': 'NaN', 'restricted_stock': 130322299, 'director_fees': 1398517}\n",
            "FOWLER PEGGY -> {'salary': 'NaN', 'to_messages': 517, 'deferral_payments': 'NaN', 'total_payments': 'NaN', 'loan_advances': 'NaN', 'bonus': 'NaN', 'email_address': 'kulvinder.fowler@enron.com', 'restricted_stock_deferred': 'NaN', 'deferred_income': 'NaN', 'total_stock_value': 1884748, 'expenses': 'NaN', 'from_poi_to_this_person': 0, 'exercised_stock_options': 1324578, 'from_messages': 36, 'other': 'NaN', 'from_this_person_to_poi': 0, 'poi': False, 'long_term_incentive': 'NaN', 'shared_receipt_with_poi': 10, 'restricted_stock': 560170, 'director_fees': 'NaN'}\n",
            "WASAFF GEORGE -> {'salary': 259996, 'to_messages': 400, 'deferral_payments': 831299, 'total_payments': 1034395, 'loan_advances': 'NaN', 'bonus': 325000, 'email_address': 'george.wasaff@enron.com', 'restricted_stock_deferred': 'NaN', 'deferred_income': -583325, 'total_stock_value': 2056427, 'expenses': 'NaN', 'from_poi_to_this_person': 22, 'exercised_stock_options': 1668260, 'from_messages': 30, 'other': 1425, 'from_this_person_to_poi': 7, 'poi': False, 'long_term_incentive': 200000, 'shared_receipt_with_poi': 337, 'restricted_stock': 388167, 'director_fees': 'NaN'}\n",
            "WHITE JR THOMAS E -> {'salary': 317543, 'to_messages': 'NaN', 'deferral_payments': 'NaN', 'total_payments': 1934359, 'loan_advances': 'NaN', 'bonus': 450000, 'email_address': 'thomas.white@enron.com', 'restricted_stock_deferred': 'NaN', 'deferred_income': 'NaN', 'total_stock_value': 15144123, 'expenses': 81353, 'from_poi_to_this_person': 'NaN', 'exercised_stock_options': 1297049, 'from_messages': 'NaN', 'other': 1085463, 'from_this_person_to_poi': 'NaN', 'poi': False, 'long_term_incentive': 'NaN', 'shared_receipt_with_poi': 'NaN', 'restricted_stock': 13847074, 'director_fees': 'NaN'}\n",
            "CHRISTODOULOU DIOMEDES -> {'salary': 'NaN', 'to_messages': 'NaN', 'deferral_payments': 'NaN', 'total_payments': 'NaN', 'loan_advances': 'NaN', 'bonus': 'NaN', 'email_address': 'diomedes.christodoulou@enron.com', 'restricted_stock_deferred': 'NaN', 'deferred_income': 'NaN', 'total_stock_value': 6077885, 'expenses': 'NaN', 'from_poi_to_this_person': 'NaN', 'exercised_stock_options': 5127155, 'from_messages': 'NaN', 'other': 'NaN', 'from_this_person_to_poi': 'NaN', 'poi': False, 'long_term_incentive': 'NaN', 'shared_receipt_with_poi': 'NaN', 'restricted_stock': 950730, 'director_fees': 'NaN'}\n",
            "ALLEN PHILLIP K -> {'salary': 201955, 'to_messages': 2902, 'deferral_payments': 2869717, 'total_payments': 4484442, 'loan_advances': 'NaN', 'bonus': 4175000, 'email_address': 'phillip.allen@enron.com', 'restricted_stock_deferred': -126027, 'deferred_income': -3081055, 'total_stock_value': 1729541, 'expenses': 13868, 'from_poi_to_this_person': 47, 'exercised_stock_options': 1729541, 'from_messages': 2195, 'other': 152, 'from_this_person_to_poi': 65, 'poi': False, 'long_term_incentive': 304805, 'shared_receipt_with_poi': 1407, 'restricted_stock': 126027, 'director_fees': 'NaN'}\n",
            "SHARP VICTORIA T -> {'salary': 248146, 'to_messages': 3136, 'deferral_payments': 187469, 'total_payments': 1576511, 'loan_advances': 'NaN', 'bonus': 600000, 'email_address': 'vicki.sharp@enron.com', 'restricted_stock_deferred': 'NaN', 'deferred_income': 'NaN', 'total_stock_value': 494136, 'expenses': 116337, 'from_poi_to_this_person': 24, 'exercised_stock_options': 281073, 'from_messages': 136, 'other': 2401, 'from_this_person_to_poi': 6, 'poi': False, 'long_term_incentive': 422158, 'shared_receipt_with_poi': 2477, 'restricted_stock': 213063, 'director_fees': 'NaN'}\n",
            "JAEDICKE ROBERT -> {'salary': 'NaN', 'to_messages': 'NaN', 'deferral_payments': 'NaN', 'total_payments': 83750, 'loan_advances': 'NaN', 'bonus': 'NaN', 'email_address': 'NaN', 'restricted_stock_deferred': -44093, 'deferred_income': -25000, 'total_stock_value': 431750, 'expenses': 'NaN', 'from_poi_to_this_person': 'NaN', 'exercised_stock_options': 431750, 'from_messages': 'NaN', 'other': 'NaN', 'from_this_person_to_poi': 'NaN', 'poi': False, 'long_term_incentive': 'NaN', 'shared_receipt_with_poi': 'NaN', 'restricted_stock': 44093, 'director_fees': 108750}\n",
            "WINOKUR JR. HERBERT S -> {'salary': 'NaN', 'to_messages': 'NaN', 'deferral_payments': 'NaN', 'total_payments': 84992, 'loan_advances': 'NaN', 'bonus': 'NaN', 'email_address': 'NaN', 'restricted_stock_deferred': 'NaN', 'deferred_income': -25000, 'total_stock_value': 'NaN', 'expenses': 1413, 'from_poi_to_this_person': 'NaN', 'exercised_stock_options': 'NaN', 'from_messages': 'NaN', 'other': 'NaN', 'from_this_person_to_poi': 'NaN', 'poi': False, 'long_term_incentive': 'NaN', 'shared_receipt_with_poi': 'NaN', 'restricted_stock': 'NaN', 'director_fees': 108579}\n",
            "BROWN MICHAEL -> {'salary': 'NaN', 'to_messages': 1486, 'deferral_payments': 'NaN', 'total_payments': 49288, 'loan_advances': 'NaN', 'bonus': 'NaN', 'email_address': 'michael.brown@enron.com', 'restricted_stock_deferred': 'NaN', 'deferred_income': 'NaN', 'total_stock_value': 'NaN', 'expenses': 49288, 'from_poi_to_this_person': 13, 'exercised_stock_options': 'NaN', 'from_messages': 41, 'other': 'NaN', 'from_this_person_to_poi': 1, 'poi': False, 'long_term_incentive': 'NaN', 'shared_receipt_with_poi': 761, 'restricted_stock': 'NaN', 'director_fees': 'NaN'}\n",
            "MCCLELLAN GEORGE -> {'salary': 263413, 'to_messages': 1744, 'deferral_payments': 'NaN', 'total_payments': 1318763, 'loan_advances': 'NaN', 'bonus': 900000, 'email_address': 'george.mcclellan@enron.com', 'restricted_stock_deferred': 'NaN', 'deferred_income': -125000, 'total_stock_value': 947861, 'expenses': 228763, 'from_poi_to_this_person': 52, 'exercised_stock_options': 506765, 'from_messages': 49, 'other': 51587, 'from_this_person_to_poi': 0, 'poi': False, 'long_term_incentive': 'NaN', 'shared_receipt_with_poi': 1469, 'restricted_stock': 441096, 'director_fees': 'NaN'}\n",
            "HUGHES JAMES A -> {'salary': 'NaN', 'to_messages': 719, 'deferral_payments': 'NaN', 'total_payments': 'NaN', 'loan_advances': 'NaN', 'bonus': 'NaN', 'email_address': 'james.hughes@enron.com', 'restricted_stock_deferred': 'NaN', 'deferred_income': 'NaN', 'total_stock_value': 1118394, 'expenses': 'NaN', 'from_poi_to_this_person': 35, 'exercised_stock_options': 754966, 'from_messages': 34, 'other': 'NaN', 'from_this_person_to_poi': 5, 'poi': False, 'long_term_incentive': 'NaN', 'shared_receipt_with_poi': 589, 'restricted_stock': 363428, 'director_fees': 'NaN'}\n",
            "REYNOLDS LAWRENCE -> {'salary': 76399, 'to_messages': 'NaN', 'deferral_payments': 51365, 'total_payments': 394475, 'loan_advances': 'NaN', 'bonus': 100000, 'email_address': 'NaN', 'restricted_stock_deferred': -140264, 'deferred_income': -200000, 'total_stock_value': 4221891, 'expenses': 8409, 'from_poi_to_this_person': 'NaN', 'exercised_stock_options': 4160672, 'from_messages': 'NaN', 'other': 202052, 'from_this_person_to_poi': 'NaN', 'poi': False, 'long_term_incentive': 156250, 'shared_receipt_with_poi': 'NaN', 'restricted_stock': 201483, 'director_fees': 'NaN'}\n",
            "PICKERING MARK R -> {'salary': 655037, 'to_messages': 898, 'deferral_payments': 'NaN', 'total_payments': 1386690, 'loan_advances': 400000, 'bonus': 300000, 'email_address': 'mark.pickering@enron.com', 'restricted_stock_deferred': 'NaN', 'deferred_income': 'NaN', 'total_stock_value': 28798, 'expenses': 31653, 'from_poi_to_this_person': 7, 'exercised_stock_options': 28798, 'from_messages': 67, 'other': 'NaN', 'from_this_person_to_poi': 0, 'poi': False, 'long_term_incentive': 'NaN', 'shared_receipt_with_poi': 728, 'restricted_stock': 'NaN', 'director_fees': 'NaN'}\n",
            "BHATNAGAR SANJAY -> {'salary': 'NaN', 'to_messages': 523, 'total_stock_value': 'NaN', 'deferral_payments': 'NaN', 'total_payments': 15456290, 'loan_advances': 'NaN', 'bonus': 'NaN', 'email_address': 'sanjay.bhatnagar@enron.com', 'restricted_stock_deferred': 15456290, 'deferred_income': 'NaN', 'expenses': 'NaN', 'from_poi_to_this_person': 0, 'exercised_stock_options': 2604490, 'from_messages': 29, 'other': 137864, 'from_this_person_to_poi': 1, 'poi': False, 'long_term_incentive': 'NaN', 'shared_receipt_with_poi': 463, 'restricted_stock': -2604490, 'director_fees': 137864}\n",
            "CARTER REBECCA C -> {'salary': 261809, 'to_messages': 312, 'deferral_payments': 'NaN', 'total_payments': 477557, 'loan_advances': 'NaN', 'bonus': 300000, 'email_address': 'rebecca.carter@enron.com', 'restricted_stock_deferred': -307301, 'deferred_income': -159792, 'total_stock_value': 'NaN', 'expenses': 'NaN', 'from_poi_to_this_person': 29, 'exercised_stock_options': 'NaN', 'from_messages': 15, 'other': 540, 'from_this_person_to_poi': 7, 'poi': False, 'long_term_incentive': 75000, 'shared_receipt_with_poi': 196, 'restricted_stock': 307301, 'director_fees': 'NaN'}\n",
            "BUCHANAN HAROLD G -> {'salary': 248017, 'to_messages': 1088, 'deferral_payments': 'NaN', 'total_payments': 1054637, 'loan_advances': 'NaN', 'bonus': 500000, 'email_address': 'john.buchanan@enron.com', 'restricted_stock_deferred': 'NaN', 'deferred_income': 'NaN', 'total_stock_value': 1014505, 'expenses': 600, 'from_poi_to_this_person': 0, 'exercised_stock_options': 825464, 'from_messages': 125, 'other': 1215, 'from_this_person_to_poi': 0, 'poi': False, 'long_term_incentive': 304805, 'shared_receipt_with_poi': 23, 'restricted_stock': 189041, 'director_fees': 'NaN'}\n",
            "YEAP SOON -> {'salary': 'NaN', 'to_messages': 'NaN', 'deferral_payments': 'NaN', 'total_payments': 55097, 'loan_advances': 'NaN', 'bonus': 'NaN', 'email_address': 'NaN', 'restricted_stock_deferred': 'NaN', 'deferred_income': 'NaN', 'total_stock_value': 192758, 'expenses': 55097, 'from_poi_to_this_person': 'NaN', 'exercised_stock_options': 192758, 'from_messages': 'NaN', 'other': 'NaN', 'from_this_person_to_poi': 'NaN', 'poi': False, 'long_term_incentive': 'NaN', 'shared_receipt_with_poi': 'NaN', 'restricted_stock': 'NaN', 'director_fees': 'NaN'}\n",
            "MURRAY JULIA H -> {'salary': 229284, 'to_messages': 2192, 'deferral_payments': 'NaN', 'total_payments': 812194, 'loan_advances': 'NaN', 'bonus': 400000, 'email_address': 'julia.murray@enron.com', 'restricted_stock_deferred': 'NaN', 'deferred_income': 'NaN', 'total_stock_value': 597461, 'expenses': 57580, 'from_poi_to_this_person': 11, 'exercised_stock_options': 400478, 'from_messages': 45, 'other': 330, 'from_this_person_to_poi': 2, 'poi': False, 'long_term_incentive': 125000, 'shared_receipt_with_poi': 395, 'restricted_stock': 196983, 'director_fees': 'NaN'}\n",
            "GARLAND C KEVIN -> {'salary': 231946, 'to_messages': 209, 'deferral_payments': 'NaN', 'total_payments': 1566469, 'loan_advances': 'NaN', 'bonus': 850000, 'email_address': 'kevin.garland@enron.com', 'restricted_stock_deferred': 'NaN', 'deferred_income': 'NaN', 'total_stock_value': 896153, 'expenses': 48405, 'from_poi_to_this_person': 10, 'exercised_stock_options': 636246, 'from_messages': 44, 'other': 60814, 'from_this_person_to_poi': 27, 'poi': False, 'long_term_incentive': 375304, 'shared_receipt_with_poi': 178, 'restricted_stock': 259907, 'director_fees': 'NaN'}\n",
            "DODSON KEITH -> {'salary': 221003, 'to_messages': 176, 'deferral_payments': 'NaN', 'total_payments': 319941, 'loan_advances': 'NaN', 'bonus': 70000, 'email_address': 'keith.dodson@enron.com', 'restricted_stock_deferred': 'NaN', 'deferred_income': 'NaN', 'total_stock_value': 'NaN', 'expenses': 28164, 'from_poi_to_this_person': 10, 'exercised_stock_options': 'NaN', 'from_messages': 14, 'other': 774, 'from_this_person_to_poi': 3, 'poi': False, 'long_term_incentive': 'NaN', 'shared_receipt_with_poi': 114, 'restricted_stock': 'NaN', 'director_fees': 'NaN'}\n",
            "YEAGER F SCOTT -> {'salary': 158403, 'to_messages': 'NaN', 'deferral_payments': 'NaN', 'total_payments': 360300, 'loan_advances': 'NaN', 'bonus': 'NaN', 'email_address': 'scott.yeager@enron.com', 'restricted_stock_deferred': 'NaN', 'deferred_income': 'NaN', 'total_stock_value': 11884758, 'expenses': 53947, 'from_poi_to_this_person': 'NaN', 'exercised_stock_options': 8308552, 'from_messages': 'NaN', 'other': 147950, 'from_this_person_to_poi': 'NaN', 'poi': True, 'long_term_incentive': 'NaN', 'shared_receipt_with_poi': 'NaN', 'restricted_stock': 3576206, 'director_fees': 'NaN'}\n",
            "HIRKO JOSEPH -> {'salary': 'NaN', 'to_messages': 'NaN', 'deferral_payments': 10259, 'total_payments': 91093, 'loan_advances': 'NaN', 'bonus': 'NaN', 'email_address': 'joe.hirko@enron.com', 'restricted_stock_deferred': 'NaN', 'deferred_income': 'NaN', 'total_stock_value': 30766064, 'expenses': 77978, 'from_poi_to_this_person': 'NaN', 'exercised_stock_options': 30766064, 'from_messages': 'NaN', 'other': 2856, 'from_this_person_to_poi': 'NaN', 'poi': True, 'long_term_incentive': 'NaN', 'shared_receipt_with_poi': 'NaN', 'restricted_stock': 'NaN', 'director_fees': 'NaN'}\n",
            "DIETRICH JANET R -> {'salary': 250100, 'to_messages': 2572, 'deferral_payments': 'NaN', 'total_payments': 1410464, 'loan_advances': 'NaN', 'bonus': 600000, 'email_address': 'janet.dietrich@enron.com', 'restricted_stock_deferred': 'NaN', 'deferred_income': 'NaN', 'total_stock_value': 1865087, 'expenses': 3475, 'from_poi_to_this_person': 305, 'exercised_stock_options': 1550019, 'from_messages': 63, 'other': 473, 'from_this_person_to_poi': 14, 'poi': False, 'long_term_incentive': 556416, 'shared_receipt_with_poi': 1902, 'restricted_stock': 315068, 'director_fees': 'NaN'}\n",
            "DERRICK JR. JAMES V -> {'salary': 492375, 'to_messages': 2181, 'deferral_payments': 'NaN', 'total_payments': 550981, 'loan_advances': 'NaN', 'bonus': 800000, 'email_address': 'james.derrick@enron.com', 'restricted_stock_deferred': -1787380, 'deferred_income': -1284000, 'total_stock_value': 8831913, 'expenses': 51124, 'from_poi_to_this_person': 64, 'exercised_stock_options': 8831913, 'from_messages': 909, 'other': 7482, 'from_this_person_to_poi': 20, 'poi': False, 'long_term_incentive': 484000, 'shared_receipt_with_poi': 1401, 'restricted_stock': 1787380, 'director_fees': 'NaN'}\n",
            "FREVERT MARK A -> {'salary': 1060932, 'to_messages': 3275, 'deferral_payments': 6426990, 'total_payments': 17252530, 'loan_advances': 2000000, 'bonus': 2000000, 'email_address': 'mark.frevert@enron.com', 'restricted_stock_deferred': 'NaN', 'deferred_income': -3367011, 'total_stock_value': 14622185, 'expenses': 86987, 'from_poi_to_this_person': 242, 'exercised_stock_options': 10433518, 'from_messages': 21, 'other': 7427621, 'from_this_person_to_poi': 6, 'poi': False, 'long_term_incentive': 1617011, 'shared_receipt_with_poi': 2979, 'restricted_stock': 4188667, 'director_fees': 'NaN'}\n",
            "PAI LOU L -> {'salary': 261879, 'to_messages': 'NaN', 'deferral_payments': 'NaN', 'total_payments': 3123383, 'loan_advances': 'NaN', 'bonus': 1000000, 'email_address': 'lou.pai@enron.com', 'restricted_stock_deferred': 'NaN', 'deferred_income': 'NaN', 'total_stock_value': 23817930, 'expenses': 32047, 'from_poi_to_this_person': 'NaN', 'exercised_stock_options': 15364167, 'from_messages': 'NaN', 'other': 1829457, 'from_this_person_to_poi': 'NaN', 'poi': False, 'long_term_incentive': 'NaN', 'shared_receipt_with_poi': 'NaN', 'restricted_stock': 8453763, 'director_fees': 'NaN'}\n",
            "HAYSLETT RODERICK J -> {'salary': 'NaN', 'to_messages': 2649, 'deferral_payments': 'NaN', 'total_payments': 'NaN', 'loan_advances': 'NaN', 'bonus': 'NaN', 'email_address': 'rod.hayslett@enron.com', 'restricted_stock_deferred': 'NaN', 'deferred_income': 'NaN', 'total_stock_value': 346663, 'expenses': 'NaN', 'from_poi_to_this_person': 35, 'exercised_stock_options': 'NaN', 'from_messages': 1061, 'other': 'NaN', 'from_this_person_to_poi': 38, 'poi': False, 'long_term_incentive': 'NaN', 'shared_receipt_with_poi': 571, 'restricted_stock': 346663, 'director_fees': 'NaN'}\n",
            "BAY FRANKLIN R -> {'salary': 239671, 'to_messages': 'NaN', 'deferral_payments': 260455, 'total_payments': 827696, 'loan_advances': 'NaN', 'bonus': 400000, 'email_address': 'frank.bay@enron.com', 'restricted_stock_deferred': -82782, 'deferred_income': -201641, 'total_stock_value': 63014, 'expenses': 129142, 'from_poi_to_this_person': 'NaN', 'exercised_stock_options': 'NaN', 'from_messages': 'NaN', 'other': 69, 'from_this_person_to_poi': 'NaN', 'poi': False, 'long_term_incentive': 'NaN', 'shared_receipt_with_poi': 'NaN', 'restricted_stock': 145796, 'director_fees': 'NaN'}\n",
            "MCCARTY DANNY J -> {'salary': 'NaN', 'to_messages': 1433, 'deferral_payments': 'NaN', 'total_payments': 'NaN', 'loan_advances': 'NaN', 'bonus': 'NaN', 'email_address': 'danny.mccarty@enron.com', 'restricted_stock_deferred': 'NaN', 'deferred_income': 'NaN', 'total_stock_value': 758931, 'expenses': 'NaN', 'from_poi_to_this_person': 25, 'exercised_stock_options': 664375, 'from_messages': 215, 'other': 'NaN', 'from_this_person_to_poi': 2, 'poi': False, 'long_term_incentive': 'NaN', 'shared_receipt_with_poi': 508, 'restricted_stock': 94556, 'director_fees': 'NaN'}\n",
            "FUGH JOHN L -> {'salary': 'NaN', 'to_messages': 'NaN', 'deferral_payments': 50591, 'total_payments': 50591, 'loan_advances': 'NaN', 'bonus': 'NaN', 'email_address': 'NaN', 'restricted_stock_deferred': 'NaN', 'deferred_income': 'NaN', 'total_stock_value': 176378, 'expenses': 'NaN', 'from_poi_to_this_person': 'NaN', 'exercised_stock_options': 176378, 'from_messages': 'NaN', 'other': 'NaN', 'from_this_person_to_poi': 'NaN', 'poi': False, 'long_term_incentive': 'NaN', 'shared_receipt_with_poi': 'NaN', 'restricted_stock': 'NaN', 'director_fees': 'NaN'}\n",
            "SCRIMSHAW MATTHEW -> {'salary': 'NaN', 'to_messages': 'NaN', 'deferral_payments': 'NaN', 'total_payments': 'NaN', 'loan_advances': 'NaN', 'bonus': 'NaN', 'email_address': 'matthew.scrimshaw@enron.com', 'restricted_stock_deferred': 'NaN', 'deferred_income': 'NaN', 'total_stock_value': 759557, 'expenses': 'NaN', 'from_poi_to_this_person': 'NaN', 'exercised_stock_options': 759557, 'from_messages': 'NaN', 'other': 'NaN', 'from_this_person_to_poi': 'NaN', 'poi': False, 'long_term_incentive': 'NaN', 'shared_receipt_with_poi': 'NaN', 'restricted_stock': 'NaN', 'director_fees': 'NaN'}\n",
            "KOENIG MARK E -> {'salary': 309946, 'to_messages': 2374, 'deferral_payments': 'NaN', 'total_payments': 1587421, 'loan_advances': 'NaN', 'bonus': 700000, 'email_address': 'mark.koenig@enron.com', 'restricted_stock_deferred': 'NaN', 'deferred_income': 'NaN', 'total_stock_value': 1920055, 'expenses': 127017, 'from_poi_to_this_person': 53, 'exercised_stock_options': 671737, 'from_messages': 61, 'other': 150458, 'from_this_person_to_poi': 15, 'poi': True, 'long_term_incentive': 300000, 'shared_receipt_with_poi': 2271, 'restricted_stock': 1248318, 'director_fees': 'NaN'}\n",
            "SAVAGE FRANK -> {'salary': 'NaN', 'to_messages': 'NaN', 'deferral_payments': 'NaN', 'total_payments': 3750, 'loan_advances': 'NaN', 'bonus': 'NaN', 'email_address': 'NaN', 'restricted_stock_deferred': 'NaN', 'deferred_income': -121284, 'total_stock_value': 'NaN', 'expenses': 'NaN', 'from_poi_to_this_person': 'NaN', 'exercised_stock_options': 'NaN', 'from_messages': 'NaN', 'other': 'NaN', 'from_this_person_to_poi': 'NaN', 'poi': False, 'long_term_incentive': 'NaN', 'shared_receipt_with_poi': 'NaN', 'restricted_stock': 'NaN', 'director_fees': 125034}\n",
            "IZZO LAWRENCE L -> {'salary': 85274, 'to_messages': 496, 'deferral_payments': 'NaN', 'total_payments': 1979596, 'loan_advances': 'NaN', 'bonus': 'NaN', 'email_address': 'larry.izzo@enron.com', 'restricted_stock_deferred': 'NaN', 'deferred_income': 'NaN', 'total_stock_value': 5819980, 'expenses': 28093, 'from_poi_to_this_person': 28, 'exercised_stock_options': 2165172, 'from_messages': 19, 'other': 1553729, 'from_this_person_to_poi': 5, 'poi': False, 'long_term_incentive': 312500, 'shared_receipt_with_poi': 437, 'restricted_stock': 3654808, 'director_fees': 'NaN'}\n",
            "TILNEY ELIZABETH A -> {'salary': 247338, 'to_messages': 460, 'deferral_payments': 'NaN', 'total_payments': 399393, 'loan_advances': 'NaN', 'bonus': 300000, 'email_address': 'elizabeth.tilney@enron.com', 'restricted_stock_deferred': 'NaN', 'deferred_income': -575000, 'total_stock_value': 1168042, 'expenses': 'NaN', 'from_poi_to_this_person': 10, 'exercised_stock_options': 591250, 'from_messages': 19, 'other': 152055, 'from_this_person_to_poi': 11, 'poi': False, 'long_term_incentive': 275000, 'shared_receipt_with_poi': 379, 'restricted_stock': 576792, 'director_fees': 'NaN'}\n",
            "MARTIN AMANDA K -> {'salary': 349487, 'to_messages': 1522, 'deferral_payments': 85430, 'total_payments': 8407016, 'loan_advances': 'NaN', 'bonus': 'NaN', 'email_address': 'a..martin@enron.com', 'restricted_stock_deferred': 'NaN', 'deferred_income': 'NaN', 'total_stock_value': 2070306, 'expenses': 8211, 'from_poi_to_this_person': 8, 'exercised_stock_options': 2070306, 'from_messages': 230, 'other': 2818454, 'from_this_person_to_poi': 0, 'poi': False, 'long_term_incentive': 5145434, 'shared_receipt_with_poi': 477, 'restricted_stock': 'NaN', 'director_fees': 'NaN'}\n",
            "BUY RICHARD B -> {'salary': 330546, 'to_messages': 3523, 'deferral_payments': 649584, 'total_payments': 2355702, 'loan_advances': 'NaN', 'bonus': 900000, 'email_address': 'rick.buy@enron.com', 'restricted_stock_deferred': 'NaN', 'deferred_income': -694862, 'total_stock_value': 3444470, 'expenses': 'NaN', 'from_poi_to_this_person': 156, 'exercised_stock_options': 2542813, 'from_messages': 1053, 'other': 400572, 'from_this_person_to_poi': 71, 'poi': False, 'long_term_incentive': 769862, 'shared_receipt_with_poi': 2333, 'restricted_stock': 901657, 'director_fees': 'NaN'}\n",
            "GRAMM WENDY L -> {'salary': 'NaN', 'to_messages': 'NaN', 'deferral_payments': 'NaN', 'total_payments': 119292, 'loan_advances': 'NaN', 'bonus': 'NaN', 'email_address': 'NaN', 'restricted_stock_deferred': 'NaN', 'deferred_income': 'NaN', 'total_stock_value': 'NaN', 'expenses': 'NaN', 'from_poi_to_this_person': 'NaN', 'exercised_stock_options': 'NaN', 'from_messages': 'NaN', 'other': 'NaN', 'from_this_person_to_poi': 'NaN', 'poi': False, 'long_term_incentive': 'NaN', 'shared_receipt_with_poi': 'NaN', 'restricted_stock': 'NaN', 'director_fees': 119292}\n",
            "CAUSEY RICHARD A -> {'salary': 415189, 'to_messages': 1892, 'deferral_payments': 'NaN', 'total_payments': 1868758, 'loan_advances': 'NaN', 'bonus': 1000000, 'email_address': 'richard.causey@enron.com', 'restricted_stock_deferred': 'NaN', 'deferred_income': -235000, 'total_stock_value': 2502063, 'expenses': 30674, 'from_poi_to_this_person': 58, 'exercised_stock_options': 'NaN', 'from_messages': 49, 'other': 307895, 'from_this_person_to_poi': 12, 'poi': True, 'long_term_incentive': 350000, 'shared_receipt_with_poi': 1585, 'restricted_stock': 2502063, 'director_fees': 'NaN'}\n",
            "TAYLOR MITCHELL S -> {'salary': 265214, 'to_messages': 533, 'deferral_payments': 227449, 'total_payments': 1092663, 'loan_advances': 'NaN', 'bonus': 600000, 'email_address': 'mitchell.taylor@enron.com', 'restricted_stock_deferred': 'NaN', 'deferred_income': 'NaN', 'total_stock_value': 3745048, 'expenses': 'NaN', 'from_poi_to_this_person': 0, 'exercised_stock_options': 3181250, 'from_messages': 29, 'other': 'NaN', 'from_this_person_to_poi': 0, 'poi': False, 'long_term_incentive': 'NaN', 'shared_receipt_with_poi': 300, 'restricted_stock': 563798, 'director_fees': 'NaN'}\n",
            "DONAHUE JR JEFFREY M -> {'salary': 278601, 'to_messages': 865, 'deferral_payments': 'NaN', 'total_payments': 875760, 'loan_advances': 'NaN', 'bonus': 800000, 'email_address': 'jeff.donahue@enron.com', 'restricted_stock_deferred': 'NaN', 'deferred_income': -300000, 'total_stock_value': 1080988, 'expenses': 96268, 'from_poi_to_this_person': 188, 'exercised_stock_options': 765920, 'from_messages': 22, 'other': 891, 'from_this_person_to_poi': 11, 'poi': False, 'long_term_incentive': 'NaN', 'shared_receipt_with_poi': 772, 'restricted_stock': 315068, 'director_fees': 'NaN'}\n",
            "GLISAN JR BEN F -> {'salary': 274975, 'to_messages': 873, 'deferral_payments': 'NaN', 'total_payments': 1272284, 'loan_advances': 'NaN', 'bonus': 600000, 'email_address': 'ben.glisan@enron.com', 'restricted_stock_deferred': 'NaN', 'deferred_income': 'NaN', 'total_stock_value': 778546, 'expenses': 125978, 'from_poi_to_this_person': 52, 'exercised_stock_options': 384728, 'from_messages': 16, 'other': 200308, 'from_this_person_to_poi': 6, 'poi': True, 'long_term_incentive': 71023, 'shared_receipt_with_poi': 874, 'restricted_stock': 393818, 'director_fees': 'NaN'}\n"
          ],
          "name": "stdout"
        }
      ]
    },
    {
      "cell_type": "markdown",
      "metadata": {
        "id": "R0hj4Q0BieB2",
        "colab_type": "text"
      },
      "source": [
        "How many data points(people) are in the dataset?"
      ]
    },
    {
      "cell_type": "code",
      "metadata": {
        "id": "3cwVF3PPiIRA",
        "colab_type": "code",
        "colab": {
          "base_uri": "https://localhost:8080/",
          "height": 33
        },
        "outputId": "cd5f5023-db86-4a17-d76a-7ee79885f67b"
      },
      "source": [
        "total = len(enron_data)\n",
        "total"
      ],
      "execution_count": 26,
      "outputs": [
        {
          "output_type": "execute_result",
          "data": {
            "text/plain": [
              "146"
            ]
          },
          "metadata": {
            "tags": []
          },
          "execution_count": 26
        }
      ]
    },
    {
      "cell_type": "markdown",
      "metadata": {
        "id": "ufJjPfxEiiK7",
        "colab_type": "text"
      },
      "source": [
        "For each person, how many features are available?"
      ]
    },
    {
      "cell_type": "code",
      "metadata": {
        "id": "ooLuU2SsifbV",
        "colab_type": "code",
        "colab": {
          "base_uri": "https://localhost:8080/",
          "height": 33
        },
        "outputId": "bf3b4017-d956-4e62-c777-27816d38b96a"
      },
      "source": [
        "#This should be length of 'value'of each key. Assuming each key or person has same no of features, let us try to get for 1st person.\n",
        "length_key = len(enron_data['ALLEN PHILLIP K'])  # length of the list stored at `'key'` ...\n",
        "length_key"
      ],
      "execution_count": 39,
      "outputs": [
        {
          "output_type": "execute_result",
          "data": {
            "text/plain": [
              "21"
            ]
          },
          "metadata": {
            "tags": []
          },
          "execution_count": 39
        }
      ]
    },
    {
      "cell_type": "code",
      "metadata": {
        "id": "ic6-5HCooIZS",
        "colab_type": "code",
        "colab": {
          "base_uri": "https://localhost:8080/",
          "height": 53
        },
        "outputId": "57a85013-e00f-46f3-9a2d-6b3c950e1747"
      },
      "source": [
        "enron_data['SKILLING JEFFREY K'].keys()"
      ],
      "execution_count": 76,
      "outputs": [
        {
          "output_type": "execute_result",
          "data": {
            "text/plain": [
              "dict_keys(['salary', 'to_messages', 'deferral_payments', 'total_payments', 'loan_advances', 'bonus', 'email_address', 'restricted_stock_deferred', 'deferred_income', 'total_stock_value', 'expenses', 'from_poi_to_this_person', 'exercised_stock_options', 'from_messages', 'other', 'from_this_person_to_poi', 'poi', 'long_term_incentive', 'shared_receipt_with_poi', 'restricted_stock', 'director_fees'])"
            ]
          },
          "metadata": {
            "tags": []
          },
          "execution_count": 76
        }
      ]
    },
    {
      "cell_type": "markdown",
      "metadata": {
        "id": "tshfvlFIjjrQ",
        "colab_type": "text"
      },
      "source": [
        "How many POIs are there?\n",
        "\n",
        "In other words, count the number of entries in the dictionary where data[person_name][\"poi\"]==1"
      ]
    },
    {
      "cell_type": "code",
      "metadata": {
        "id": "KJpoPE1eioHZ",
        "colab_type": "code",
        "colab": {
          "base_uri": "https://localhost:8080/",
          "height": 33
        },
        "outputId": "cffb92c6-74ef-4d2d-990c-58199a6b33cb"
      },
      "source": [
        "count = 0  \n",
        "for key, value in enron_data.items():\n",
        "# If value satisfies the condition, then store it in new_dict\n",
        "  if value['poi'] == 1:\n",
        "    count +=1\n",
        "print(count)"
      ],
      "execution_count": 72,
      "outputs": [
        {
          "output_type": "stream",
          "text": [
            "18\n"
          ],
          "name": "stdout"
        }
      ]
    },
    {
      "cell_type": "markdown",
      "metadata": {
        "id": "LfVsrpuRmUla",
        "colab_type": "text"
      },
      "source": [
        "What is the total value of stock belonging to James Prentice?"
      ]
    },
    {
      "cell_type": "code",
      "metadata": {
        "id": "yWgEVgNul20Z",
        "colab_type": "code",
        "colab": {
          "base_uri": "https://localhost:8080/",
          "height": 53
        },
        "outputId": "d22908c4-ef6a-48a2-951a-099da43f4e1a"
      },
      "source": [
        "for key, value in enron_data.items():\n",
        "# If value satisfies the condition, then store it in new_dict\n",
        "  if key == 'PRENTICE JAMES':\n",
        "    print(value)"
      ],
      "execution_count": 66,
      "outputs": [
        {
          "output_type": "stream",
          "text": [
            "{'salary': 'NaN', 'to_messages': 'NaN', 'deferral_payments': 564348, 'total_payments': 564348, 'loan_advances': 'NaN', 'bonus': 'NaN', 'email_address': 'james.prentice@enron.com', 'restricted_stock_deferred': 'NaN', 'deferred_income': 'NaN', 'total_stock_value': 1095040, 'expenses': 'NaN', 'from_poi_to_this_person': 'NaN', 'exercised_stock_options': 886231, 'from_messages': 'NaN', 'other': 'NaN', 'from_this_person_to_poi': 'NaN', 'poi': False, 'long_term_incentive': 'NaN', 'shared_receipt_with_poi': 'NaN', 'restricted_stock': 208809, 'director_fees': 'NaN'}\n"
          ],
          "name": "stdout"
        }
      ]
    },
    {
      "cell_type": "code",
      "metadata": {
        "id": "oWkH00MlmKkB",
        "colab_type": "code",
        "colab": {
          "base_uri": "https://localhost:8080/",
          "height": 33
        },
        "outputId": "2d08c0e6-fc73-4971-edff-3f44140f48f1"
      },
      "source": [
        "enron_data.get('PRENTICE JAMES',[])['total_stock_value']"
      ],
      "execution_count": 73,
      "outputs": [
        {
          "output_type": "execute_result",
          "data": {
            "text/plain": [
              "1095040"
            ]
          },
          "metadata": {
            "tags": []
          },
          "execution_count": 73
        }
      ]
    },
    {
      "cell_type": "markdown",
      "metadata": {
        "id": "Momw_8xsnBKo",
        "colab_type": "text"
      },
      "source": [
        "\n",
        "\n",
        "How many email messages do we have from Wesley Colwell to persons of interest?\n"
      ]
    },
    {
      "cell_type": "code",
      "metadata": {
        "id": "rc-f3d2um-j2",
        "colab_type": "code",
        "colab": {
          "base_uri": "https://localhost:8080/",
          "height": 33
        },
        "outputId": "51f5a1fa-37f0-45c9-c324-8b2b4c091e86"
      },
      "source": [
        "enron_data.get('COLWELL WESLEY',[])['from_this_person_to_poi']"
      ],
      "execution_count": 74,
      "outputs": [
        {
          "output_type": "execute_result",
          "data": {
            "text/plain": [
              "11"
            ]
          },
          "metadata": {
            "tags": []
          },
          "execution_count": 74
        }
      ]
    },
    {
      "cell_type": "markdown",
      "metadata": {
        "id": "XFS8uGWSnGz4",
        "colab_type": "text"
      },
      "source": [
        " What’s the value of stock options exercised by Jeffrey K Skilling? "
      ]
    },
    {
      "cell_type": "code",
      "metadata": {
        "id": "ccaaLU38nCut",
        "colab_type": "code",
        "colab": {
          "base_uri": "https://localhost:8080/",
          "height": 33
        },
        "outputId": "8aa0829d-3d1f-4d4a-d0d4-7284b7904151"
      },
      "source": [
        "enron_data.get('SKILLING JEFFREY K',[])['exercised_stock_options']"
      ],
      "execution_count": 75,
      "outputs": [
        {
          "output_type": "execute_result",
          "data": {
            "text/plain": [
              "19250000"
            ]
          },
          "metadata": {
            "tags": []
          },
          "execution_count": 75
        }
      ]
    },
    {
      "cell_type": "markdown",
      "metadata": {
        "id": "KQnq_dwxogEK",
        "colab_type": "text"
      },
      "source": [
        "Of these three individuals (Lay, Skilling and Fastow), who took home the most money (largest value of 'total_payments' feature)?"
      ]
    },
    {
      "cell_type": "code",
      "metadata": {
        "id": "tljPh1T9nLId",
        "colab_type": "code",
        "colab": {
          "base_uri": "https://localhost:8080/",
          "height": 33
        },
        "outputId": "ea91d650-f204-4b42-d9be-47268cf488ca"
      },
      "source": [
        "from operator import itemgetter\n",
        "\n",
        "total_payments_dict = {}  # caz its person : his payment\n",
        "poi_list = ['SKILLING JEFFREY K', 'LAY KENNETH L', 'FASTOW ANDREW S']\n",
        "for each_person in poi_list:\n",
        "    total_payments_dict.update( {each_person : enron_data.get(each_person,[])['total_payments']} )\n",
        "\n",
        "max(total_payments_dict.items(), key=itemgetter(1)) #ref: https://artemrudenko.wordpress.com/2013/04/12/python-finding-a-key-of-dictionary-element-with-the-highestmin-value/"
      ],
      "execution_count": 78,
      "outputs": [
        {
          "output_type": "execute_result",
          "data": {
            "text/plain": [
              "('LAY KENNETH L', 103559793)"
            ]
          },
          "metadata": {
            "tags": []
          },
          "execution_count": 78
        }
      ]
    },
    {
      "cell_type": "markdown",
      "metadata": {
        "id": "Lf373drhoyVh",
        "colab_type": "text"
      },
      "source": [
        "How is it denoted when a feature doesn't have a well-defined value?"
      ]
    },
    {
      "cell_type": "code",
      "metadata": {
        "id": "9mK5GFp3omD_",
        "colab_type": "code",
        "colab": {
          "base_uri": "https://localhost:8080/",
          "height": 367
        },
        "outputId": "62afc768-b5c5-43d7-bbfe-5051e9dd277c"
      },
      "source": [
        "# testing\n",
        "enron_data.get('SKILLING JEFFREY K',[])"
      ],
      "execution_count": 79,
      "outputs": [
        {
          "output_type": "execute_result",
          "data": {
            "text/plain": [
              "{'bonus': 5600000,\n",
              " 'deferral_payments': 'NaN',\n",
              " 'deferred_income': 'NaN',\n",
              " 'director_fees': 'NaN',\n",
              " 'email_address': 'jeff.skilling@enron.com',\n",
              " 'exercised_stock_options': 19250000,\n",
              " 'expenses': 29336,\n",
              " 'from_messages': 108,\n",
              " 'from_poi_to_this_person': 88,\n",
              " 'from_this_person_to_poi': 30,\n",
              " 'loan_advances': 'NaN',\n",
              " 'long_term_incentive': 1920000,\n",
              " 'other': 22122,\n",
              " 'poi': True,\n",
              " 'restricted_stock': 6843672,\n",
              " 'restricted_stock_deferred': 'NaN',\n",
              " 'salary': 1111258,\n",
              " 'shared_receipt_with_poi': 2042,\n",
              " 'to_messages': 3627,\n",
              " 'total_payments': 8682716,\n",
              " 'total_stock_value': 26093672}"
            ]
          },
          "metadata": {
            "tags": []
          },
          "execution_count": 79
        }
      ]
    },
    {
      "cell_type": "markdown",
      "metadata": {
        "id": "Cq_o4Bjco6fQ",
        "colab_type": "text"
      },
      "source": [
        "How many folks in this dataset have a quantified salary? What about a known email address?\n"
      ]
    },
    {
      "cell_type": "code",
      "metadata": {
        "id": "3RIbwE0no0yG",
        "colab_type": "code",
        "colab": {
          "base_uri": "https://localhost:8080/",
          "height": 33
        },
        "outputId": "5ad26e4e-b3f4-4f26-c6fc-f54112760d5e"
      },
      "source": [
        "people_counter = 0  # count only those having quantified salary\n",
        "\n",
        "for k,v in enron_data.items():\n",
        "    salary =  v['salary']\n",
        "    #print salary\n",
        "    if salary != 'NaN':\n",
        "        people_counter += 1\n",
        "people_counter"
      ],
      "execution_count": 80,
      "outputs": [
        {
          "output_type": "execute_result",
          "data": {
            "text/plain": [
              "95"
            ]
          },
          "metadata": {
            "tags": []
          },
          "execution_count": 80
        }
      ]
    },
    {
      "cell_type": "code",
      "metadata": {
        "id": "nznHVwI-o-Ya",
        "colab_type": "code",
        "colab": {
          "base_uri": "https://localhost:8080/",
          "height": 33
        },
        "outputId": "aafaff59-20bd-41f3-e7c2-5a4cf59c0683"
      },
      "source": [
        "email_counter = 0  # count only those having quantified salary\n",
        "\n",
        "for k,v in enron_data.items():\n",
        "    email =  v['email_address']\n",
        "    #print email\n",
        "    if email != 'NaN':\n",
        "        #if '..' not in email: # apparantly this is not a problem..\n",
        "            email_counter += 1\n",
        "email_counter"
      ],
      "execution_count": 82,
      "outputs": [
        {
          "output_type": "execute_result",
          "data": {
            "text/plain": [
              "111"
            ]
          },
          "metadata": {
            "tags": []
          },
          "execution_count": 82
        }
      ]
    },
    {
      "cell_type": "markdown",
      "metadata": {
        "id": "CO2qzY8TpPwc",
        "colab_type": "text"
      },
      "source": [
        "How many people in the E+F dataset (as it currently exists) have 'NaN' for their total payments? What percentage of people in the dataset as a whole is this?"
      ]
    },
    {
      "cell_type": "code",
      "metadata": {
        "id": "5xBLvyjPpEc0",
        "colab_type": "code",
        "colab": {
          "base_uri": "https://localhost:8080/",
          "height": 50
        },
        "outputId": "c36bad85-bdf8-4f0f-cbb5-3048ed36f6c8"
      },
      "source": [
        "from __future__ import division  # for python 2, sigh..\n",
        "people_counter = 0  # count only those having unquantified payments that is 'NaN\n",
        "\n",
        "for k,v in enron_data.items():\n",
        "    total_payments =  v['total_payments']\n",
        "    #print email\n",
        "    if total_payments == 'NaN':\n",
        "        people_counter += 1\n",
        "print (people_counter)\n",
        "print (people_counter/total)"
      ],
      "execution_count": 84,
      "outputs": [
        {
          "output_type": "stream",
          "text": [
            "21\n",
            "0.14383561643835616\n"
          ],
          "name": "stdout"
        }
      ]
    },
    {
      "cell_type": "markdown",
      "metadata": {
        "id": "zqaxnFurplfj",
        "colab_type": "text"
      },
      "source": [
        "How many POIs in the E+F dataset have 'NaN' for their total payments? What percentage of POIs as a whole is this?"
      ]
    },
    {
      "cell_type": "code",
      "metadata": {
        "id": "MywonM5SpTb2",
        "colab_type": "code",
        "colab": {
          "base_uri": "https://localhost:8080/",
          "height": 50
        },
        "outputId": "2446cdf3-521c-4dea-d3aa-067098fcfc0f"
      },
      "source": [
        "from __future__ import division  \n",
        "poi_nan_counter = 0  \n",
        "poi_total_counter = 0\n",
        "\n",
        "for k,v in enron_data.items():\n",
        "    total_payments =  v['total_payments']\n",
        "    poi = v['poi']\n",
        "    #print email\n",
        "    if poi == True:\n",
        "        poi_total_counter += 1\n",
        "        if total_payments == 'NaN':\n",
        "            poi_nan_counter += 1\n",
        "print (poi_nan_counter)\n",
        "print (poi_nan_counter/poi_total_counter)"
      ],
      "execution_count": 85,
      "outputs": [
        {
          "output_type": "stream",
          "text": [
            "0\n",
            "0.0\n"
          ],
          "name": "stdout"
        }
      ]
    },
    {
      "cell_type": "markdown",
      "metadata": {
        "id": "Aso_HcfgpyoP",
        "colab_type": "text"
      },
      "source": [
        "If a machine learning algorithm were to use total_payments as a feature, would you expect it to associate a “NaN” value with POIs or non-POIs?\n"
      ]
    },
    {
      "cell_type": "code",
      "metadata": {
        "id": "G0ZmL3TVpt_J",
        "colab_type": "code",
        "colab": {}
      },
      "source": [
        "#With non-POIs because, in our training dataset, only non-POIs have some NaNs. \n",
        "#which means, this could be a feature to learn to distinguish something on non-POIs.\n",
        "#On other hand, all POIs have quantified payments or none have 'NaN', \n",
        "#so there is nothing to learn there to distinguish people (by checking if 'NaN' or not)"
      ],
      "execution_count": 0,
      "outputs": []
    },
    {
      "cell_type": "markdown",
      "metadata": {
        "id": "S9g4dYBrqAhh",
        "colab_type": "text"
      },
      "source": [
        "If you added in, say, 10 more data points which were all POI’s, and put “NaN” for the total payments for those folks, the numbers you just calculated would change.\n",
        "What is the new number of people of the dataset? What is the new number of folks with “NaN” for total payments?\n"
      ]
    },
    {
      "cell_type": "code",
      "metadata": {
        "id": "NRiYcS8Op8Bw",
        "colab_type": "code",
        "colab": {
          "base_uri": "https://localhost:8080/",
          "height": 50
        },
        "outputId": "2ebc77b7-679f-4ed6-a1f5-f41aa2fa296d"
      },
      "source": [
        "# current no of people in dataset\n",
        "people_counter =  len(enron_data)\n",
        "\n",
        "# current no of folks with 'NaN' for total payments\n",
        "nan_counter = 0\n",
        "for k,v in enron_data.items():\n",
        "    if v['total_payments'] == 'NaN':\n",
        "        nan_counter += 1\n",
        "\n",
        "# 10 new POIs added, so \n",
        "people_counter = people_counter + 10\n",
        "print ('new total: ' + str(people_counter))\n",
        "\n",
        "# 10 new NaNs\n",
        "nan_counter = nan_counter + 10\n",
        "print ('new nans: ' + str(nan_counter))"
      ],
      "execution_count": 87,
      "outputs": [
        {
          "output_type": "stream",
          "text": [
            "new total: 156\n",
            "new nans: 31\n"
          ],
          "name": "stdout"
        }
      ]
    },
    {
      "cell_type": "markdown",
      "metadata": {
        "id": "BReIx2SwqP24",
        "colab_type": "text"
      },
      "source": [
        "What is the new number of POI’s in the dataset? What is the new number of POI’s with NaN for total_payments?\n"
      ]
    },
    {
      "cell_type": "code",
      "metadata": {
        "id": "qizJBFd2qKNM",
        "colab_type": "code",
        "colab": {
          "base_uri": "https://localhost:8080/",
          "height": 33
        },
        "outputId": "0b29a26d-14c5-4744-bcf0-3bbe88ab6a3b"
      },
      "source": [
        "# current no of POIs\n",
        "poi_counter = 0\n",
        "for k,v in enron_data.items():\n",
        "    if v['poi'] == True:\n",
        "        poi_counter += 1\n",
        "\n",
        "# after new 10 pois\n",
        "poi_counter = poi_counter + 10\n",
        "print (poi_counter)\n",
        "\n",
        "# since all earlier pois had quantified total_payments, new no of pois with NaN is 10"
      ],
      "execution_count": 88,
      "outputs": [
        {
          "output_type": "stream",
          "text": [
            "28\n"
          ],
          "name": "stdout"
        }
      ]
    },
    {
      "cell_type": "markdown",
      "metadata": {
        "id": "I_rHm0HHqhbM",
        "colab_type": "text"
      },
      "source": [
        "Once the new data points are added, do you think a supervised classification algorithm might interpret 'NaN' for total_payments as a clue that someone is a POI?\n",
        "\n",
        "Ans: Of course. Now some POIs have quantified payments and some have NaN. So a person having a NaN total payment could be a POI as well."
      ]
    },
    {
      "cell_type": "code",
      "metadata": {
        "id": "mo6-f8HAqUMU",
        "colab_type": "code",
        "colab": {}
      },
      "source": [
        ""
      ],
      "execution_count": 0,
      "outputs": []
    }
  ]
}