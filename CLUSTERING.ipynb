{
  "nbformat": 4,
  "nbformat_minor": 0,
  "metadata": {
    "colab": {
      "name": "CLUSTERING.ipynb",
      "provenance": [],
      "authorship_tag": "ABX9TyP+9TJHC+h5PjZlZKmqPf0B",
      "include_colab_link": true
    },
    "kernelspec": {
      "name": "python3",
      "display_name": "Python 3"
    }
  },
  "cells": [
    {
      "cell_type": "markdown",
      "metadata": {
        "id": "view-in-github",
        "colab_type": "text"
      },
      "source": [
        "<a href=\"https://colab.research.google.com/github/solharsh/ud120-projects/blob/master/CLUSTERING.ipynb\" target=\"_parent\"><img src=\"https://colab.research.google.com/assets/colab-badge.svg\" alt=\"Open In Colab\"/></a>"
      ]
    },
    {
      "cell_type": "code",
      "metadata": {
        "id": "vhpNQ1yzQhoF",
        "colab_type": "code",
        "colab": {
          "base_uri": "https://localhost:8080/",
          "height": 141
        },
        "outputId": "4e42856f-4407-4b89-b9cf-b6a845b594ca"
      },
      "source": [
        "!git clone https://github.com/solharsh/ud120-projects"
      ],
      "execution_count": 1,
      "outputs": [
        {
          "output_type": "stream",
          "text": [
            "Cloning into 'ud120-projects'...\n",
            "remote: Enumerating objects: 6, done.\u001b[K\n",
            "remote: Counting objects:  16% (1/6)\u001b[K\rremote: Counting objects:  33% (2/6)\u001b[K\rremote: Counting objects:  50% (3/6)\u001b[K\rremote: Counting objects:  66% (4/6)\u001b[K\rremote: Counting objects:  83% (5/6)\u001b[K\rremote: Counting objects: 100% (6/6)\u001b[K\rremote: Counting objects: 100% (6/6), done.\u001b[K\n",
            "remote: Compressing objects: 100% (6/6), done.\u001b[K\n",
            "remote: Total 5052 (delta 1), reused 0 (delta 0), pack-reused 5046\u001b[K\n",
            "Receiving objects: 100% (5052/5052), 19.71 MiB | 21.80 MiB/s, done.\n",
            "Resolving deltas: 100% (4373/4373), done.\n"
          ],
          "name": "stdout"
        }
      ]
    },
    {
      "cell_type": "markdown",
      "metadata": {
        "id": "7f0A14FkRr6m",
        "colab_type": "text"
      },
      "source": [
        "# K-Means"
      ]
    },
    {
      "cell_type": "markdown",
      "metadata": {
        "id": "2hA3MRVMRuFC",
        "colab_type": "text"
      },
      "source": [
        "\n",
        "\n",
        "    Introduced K-Means, one of the most famous algorithm of Unsupervised Learning.\n",
        "    First we randomly place two (or any other number, definitely less than the number of data point, and in this example, intuitively we pick number two) cluster center.\n",
        "    Next, we're assigning all the data points to whichever cluster closest to them.\n",
        "    Then we move into optimize step, where the cluster move to the position closest to all weighted average of distance data points assigned to each cluster.\n",
        "    Then we're keep iterating assign and optimize until the cluster is no longer move.\n",
        "\n"
      ]
    },
    {
      "cell_type": "markdown",
      "metadata": {
        "id": "jHng3_91Tr7x",
        "colab_type": "text"
      },
      "source": [
        "# K-Means Limitation"
      ]
    },
    {
      "cell_type": "markdown",
      "metadata": {
        "id": "DCWiRd2hTuBy",
        "colab_type": "text"
      },
      "source": [
        "The initial position for each of the cluster is random (or we can choose). But the initial position can be greatly decided the outcome of the clustering. It can be as we wanted or it doesn't. Some said that that point, in order for not to be at all random, directly assigned of the exact position of the data.\n",
        "\n",
        "Local Minima\n",
        "\n",
        "To solve for this, you can make n-times doing clustering for your data. And pick the cluster by vote.\n",
        "\n",
        "To play around in the visualization of K-Means, check this link\n",
        "\n",
        "https://www.naftaliharris.com/blog/visualizing-k-means-clustering/\n",
        "\n"
      ]
    },
    {
      "cell_type": "code",
      "metadata": {
        "id": "rHd-TH-jQnAK",
        "colab_type": "code",
        "colab": {}
      },
      "source": [
        "#In this project, we’ll apply k-means clustering to our Enron financial data. Our final goal, of course, is to identify persons of interest; \n",
        "#since we have labeled data, this is not a question that particularly calls for an unsupervised approach like k-means clustering. \n",
        "#Nonetheless, you’ll get some hands-on practice with k-means in this project, \n",
        "#and play around with feature scaling, which will give you a sneak preview of the next lesson’s material."
      ],
      "execution_count": 0,
      "outputs": []
    },
    {
      "cell_type": "markdown",
      "metadata": {
        "id": "54EzD5t5Vo4P",
        "colab_type": "text"
      },
      "source": [
        "The starter code can be found in k_means/k_means_cluster.py, which reads in the email + financial (E+F) dataset and gets us ready for clustering. You’ll start with performing k-means based on just two financial features--take a look at the code, and determine which features the code uses for clustering."
      ]
    },
    {
      "cell_type": "code",
      "metadata": {
        "id": "ZRY3V8oTTrez",
        "colab_type": "code",
        "colab": {}
      },
      "source": [
        "%load /content/ud120-projects/k_means/k_means_cluster.py"
      ],
      "execution_count": 0,
      "outputs": []
    },
    {
      "cell_type": "code",
      "metadata": {
        "id": "xXAOwjrtVqqM",
        "colab_type": "code",
        "colab": {
          "base_uri": "https://localhost:8080/",
          "height": 35
        },
        "outputId": "516dcb4c-912b-42b9-f69e-5798727389f1"
      },
      "source": [
        "%pylab inline\n",
        "#Populating the interactive namespace from numpy and matplotlib"
      ],
      "execution_count": 5,
      "outputs": [
        {
          "output_type": "stream",
          "text": [
            "Populating the interactive namespace from numpy and matplotlib\n"
          ],
          "name": "stdout"
        }
      ]
    },
    {
      "cell_type": "code",
      "metadata": {
        "id": "xFrHR6vbVvpt",
        "colab_type": "code",
        "colab": {
          "base_uri": "https://localhost:8080/",
          "height": 835
        },
        "outputId": "c0733d6d-7ab3-4d92-8fb4-1ad89560eca5"
      },
      "source": [
        "#!/usr/bin/python \n",
        "\n",
        "\"\"\" \n",
        "    skeleton code for k-means clustering mini-project\n",
        "\n",
        "\"\"\"\n",
        "\n",
        "import pickle\n",
        "import numpy\n",
        "import matplotlib.pyplot as plt\n",
        "import sys\n",
        "sys.path.append(\"/content/ud120-projects/tools\")\n",
        "from feature_format import featureFormat, targetFeatureSplit\n",
        "\n",
        "\n",
        "\n",
        "\n",
        "def Draw(pred, features, poi, mark_poi=False, name=\"image.png\", f1_name=\"feature 1\", f2_name=\"feature 2\"):\n",
        "    \"\"\" some plotting code designed to help you visualize your clusters \"\"\"\n",
        "\n",
        "    ### plot each cluster with a different color--add more colors for\n",
        "    ### drawing more than 4 clusters\n",
        "    colors = [\"b\", \"c\", \"k\", \"m\", \"g\"]\n",
        "    for ii, pp in enumerate(pred):\n",
        "        plt.scatter(features[ii][0], features[ii][1], color = colors[pred[ii]])\n",
        "\n",
        "    ### if you like, place red stars over points that are POIs (just for funsies)\n",
        "    if mark_poi:\n",
        "        for ii, pp in enumerate(pred):\n",
        "            if poi[ii]:\n",
        "                plt.scatter(features[ii][0], features[ii][1], color=\"r\", marker=\"*\")\n",
        "    plt.xlabel(f1_name)\n",
        "    plt.ylabel(f2_name)\n",
        "    plt.savefig(name)\n",
        "    plt.show()\n",
        "\n",
        "\n",
        "\n",
        "### load in the dict of dicts containing all the data on each person in the dataset\n",
        "data_dict = pickle.load( open(\"/content/ud120-projects/final_project/final_project_dataset.pkl\", \"rb\") )\n",
        "### there's an outlier--remove it! \n",
        "data_dict.pop(\"TOTAL\", 0)\n",
        "\n",
        "\n",
        "### the input features we want to use \n",
        "### can be any key in the person-level dictionary (salary, director_fees, etc.) \n",
        "feature_1 = \"salary\"\n",
        "feature_2 = \"exercised_stock_options\"\n",
        "poi  = \"poi\"\n",
        "features_list = [poi, feature_1, feature_2]\n",
        "data = featureFormat(data_dict, features_list )\n",
        "poi, finance_features = targetFeatureSplit( data )\n",
        "\n",
        "\n",
        "### in the \"clustering with 3 features\" part of the mini-project,\n",
        "### you'll want to change this line to \n",
        "### for f1, f2, _ in finance_features:\n",
        "### (as it's currently written, line below assumes 2 features)\n",
        "for f1, f2 in finance_features:\n",
        "    plt.scatter( f1, f2 )\n",
        "plt.show()\n",
        "\n",
        "\n",
        "\n",
        "from sklearn.cluster import KMeans\n",
        "features_list = [\"poi\", feature_1, feature_2]\n",
        "data2 = featureFormat(data_dict, features_list )\n",
        "poi, finance_features = targetFeatureSplit( data2 )\n",
        "clf = KMeans(n_clusters=2)\n",
        "pred = clf.fit_predict( finance_features )\n",
        "Draw(pred, finance_features, poi, name=\"clusters_before_scaling.pdf\", f1_name=feature_1, f2_name=feature_2)\n",
        "\n",
        "\n",
        "### cluster here; create predictions of the cluster labels\n",
        "### for the data and store them to a list called pred\n",
        "\n",
        "try:\n",
        "    Draw(pred, finance_features, poi, mark_poi=False, name=\"clusters.pdf\", f1_name=feature_1, f2_name=feature_2)\n",
        "except NameError:\n",
        "    print (\"no predictions object named pred found, no clusters to plot\")"
      ],
      "execution_count": 19,
      "outputs": [
        {
          "output_type": "display_data",
          "data": {
            "image/png": "[encoded data removed]",
            "text/plain": [
              "<Figure size 432x288 with 1 Axes>"
            ]
          },
          "metadata": {
            "tags": [],
            "needs_background": "light"
          }
        },
        {
          "output_type": "display_data",
          "data": {
            "image/png": "[encoded data removed]",
            "text/plain": [
              "<Figure size 432x288 with 1 Axes>"
            ]
          },
          "metadata": {
            "tags": [],
            "needs_background": "light"
          }
        },
        {
          "output_type": "display_data",
          "data": {
            "image/png": "[encoded data removed]",
            "text/plain": [
              "<Figure size 432x288 with 1 Axes>"
            ]
          },
          "metadata": {
            "tags": [],
            "needs_background": "light"
          }
        }
      ]
    },
    {
      "cell_type": "code",
      "metadata": {
        "id": "2gELvnFMWXoQ",
        "colab_type": "code",
        "colab": {
          "base_uri": "https://localhost:8080/",
          "height": 70
        },
        "outputId": "d70bae14-af4d-4b98-91a7-ad753cbe6de9"
      },
      "source": [
        "ls /content/ud120-projects/tools/"
      ],
      "execution_count": 13,
      "outputs": [
        {
          "output_type": "stream",
          "text": [
            "email_authors.pkl    parse_out_email_text.py    python2_lesson14_keys.pkl\n",
            "email_preprocess.py  python2_lesson06_keys.pkl  startup.py\n",
            "feature_format.py    python2_lesson13_keys.pkl  word_data.pkl\n"
          ],
          "name": "stdout"
        }
      ]
    },
    {
      "cell_type": "code",
      "metadata": {
        "id": "CfKdd8ZGWpSz",
        "colab_type": "code",
        "colab": {
          "base_uri": "https://localhost:8080/",
          "height": 1000
        },
        "outputId": "c9b4e13d-a9f7-4dc3-fb5e-a1680eb36e77"
      },
      "source": [
        "cat /content/ud120-projects/tools/feature_format.py"
      ],
      "execution_count": 15,
      "outputs": [
        {
          "output_type": "stream",
          "text": [
            "#!/usr/bin/python\n",
            "\n",
            "\"\"\" \n",
            "    A general tool for converting data from the\n",
            "    dictionary format to an (n x k) python list that's \n",
            "    ready for training an sklearn algorithm\n",
            "\n",
            "    n--no. of key-value pairs in dictonary\n",
            "    k--no. of features being extracted\n",
            "\n",
            "    dictionary keys are names of persons in dataset\n",
            "    dictionary values are dictionaries, where each\n",
            "        key-value pair in the dict is the name\n",
            "        of a feature, and its value for that person\n",
            "\n",
            "    In addition to converting a dictionary to a numpy \n",
            "    array, you may want to separate the labels from the\n",
            "    features--this is what targetFeatureSplit is for\n",
            "\n",
            "    so, if you want to have the poi label as the target,\n",
            "    and the features you want to use are the person's\n",
            "    salary and bonus, here's what you would do:\n",
            "\n",
            "    feature_list = [\"poi\", \"salary\", \"bonus\"] \n",
            "    data_array = featureFormat( data_dictionary, feature_list )\n",
            "    label, features = targetFeatureSplit(data_array)\n",
            "\n",
            "    the line above (targetFeatureSplit) assumes that the\n",
            "    label is the _first_ item in feature_list--very important\n",
            "    that poi is listed first!\n",
            "\"\"\"\n",
            "\n",
            "\n",
            "import numpy as np\n",
            "\n",
            "def featureFormat( dictionary, features, remove_NaN=True, remove_all_zeroes=True, remove_any_zeroes=False, sort_keys = False):\n",
            "    \"\"\" convert dictionary to numpy array of features\n",
            "        remove_NaN = True will convert \"NaN\" string to 0.0\n",
            "        remove_all_zeroes = True will omit any data points for which\n",
            "            all the features you seek are 0.0\n",
            "        remove_any_zeroes = True will omit any data points for which\n",
            "            any of the features you seek are 0.0\n",
            "        sort_keys = True sorts keys by alphabetical order. Setting the value as\n",
            "            a string opens the corresponding pickle file with a preset key\n",
            "            order (this is used for Python 3 compatibility, and sort_keys\n",
            "            should be left as False for the course mini-projects).\n",
            "        NOTE: first feature is assumed to be 'poi' and is not checked for\n",
            "            removal for zero or missing values.\n",
            "    \"\"\"\n",
            "\n",
            "\n",
            "    return_list = []\n",
            "\n",
            "    # Key order - first branch is for Python 3 compatibility on mini-projects,\n",
            "    # second branch is for compatibility on final project.\n",
            "    if isinstance(sort_keys, str):\n",
            "        import pickle\n",
            "        keys = pickle.load(open(sort_keys, \"rb\"))\n",
            "    elif sort_keys:\n",
            "        keys = sorted(dictionary.keys())\n",
            "    else:\n",
            "        keys = dictionary.keys()\n",
            "\n",
            "    for key in keys:\n",
            "        tmp_list = []\n",
            "        for feature in features:\n",
            "            try:\n",
            "                dictionary[key][feature]\n",
            "            except KeyError:\n",
            "                print (\"error: key \", feature, \" not present\")\n",
            "                return\n",
            "            value = dictionary[key][feature]\n",
            "            if value==\"NaN\" and remove_NaN:\n",
            "                value = 0\n",
            "            tmp_list.append( float(value) )\n",
            "\n",
            "        # Logic for deciding whether or not to add the data point.\n",
            "        append = True\n",
            "        # exclude 'poi' class as criteria.\n",
            "        if features[0] == 'poi':\n",
            "            test_list = tmp_list[1:]\n",
            "        else:\n",
            "            test_list = tmp_list\n",
            "        ### if all features are zero and you want to remove\n",
            "        ### data points that are all zero, do that here\n",
            "        if remove_all_zeroes:\n",
            "            append = False\n",
            "            for item in test_list:\n",
            "                if item != 0 and item != \"NaN\":\n",
            "                    append = True\n",
            "                    break\n",
            "        ### if any features for a given data point are zero\n",
            "        ### and you want to remove data points with any zeroes,\n",
            "        ### handle that here\n",
            "        if remove_any_zeroes:\n",
            "            if 0 in test_list or \"NaN\" in test_list:\n",
            "                append = False\n",
            "        ### Append the data point if flagged for addition.\n",
            "        if append:\n",
            "            return_list.append( np.array(tmp_list) )\n",
            "\n",
            "    return np.array(return_list)\n",
            "\n",
            "\n",
            "def targetFeatureSplit( data ):\n",
            "    \"\"\" \n",
            "        given a numpy array like the one returned from\n",
            "        featureFormat, separate out the first feature\n",
            "        and put it into its own list (this should be the \n",
            "        quantity you want to predict)\n",
            "\n",
            "        return targets and features as separate lists\n",
            "\n",
            "        (sklearn can generally handle both lists and numpy arrays as \n",
            "        input formats when training/predicting)\n",
            "    \"\"\"\n",
            "\n",
            "    target = []\n",
            "    features = []\n",
            "    for item in data:\n",
            "        target.append( item[0] )\n",
            "        features.append( item[1:] )\n",
            "\n",
            "    return target, features\n",
            "\n",
            "\n",
            "\n",
            "\n"
          ],
          "name": "stdout"
        }
      ]
    },
    {
      "cell_type": "code",
      "metadata": {
        "id": "ZOXHiQZoW5Ls",
        "colab_type": "code",
        "colab": {
          "base_uri": "https://localhost:8080/",
          "height": 35
        },
        "outputId": "3d6e08f7-6521-436b-c227-1cc0e6584558"
      },
      "source": [
        "!echo #!/usr/bin/python\n",
        "\n",
        "\"\"\" \n",
        "    A general tool for converting data from the\n",
        "    dictionary format to an (n x k) python list that's \n",
        "    ready for training an sklearn algorithm\n",
        "\n",
        "    n--no. of key-value pairs in dictonary\n",
        "    k--no. of features being extracted\n",
        "\n",
        "    dictionary keys are names of persons in dataset\n",
        "    dictionary values are dictionaries, where each\n",
        "        key-value pair in the dict is the name\n",
        "        of a feature, and its value for that person\n",
        "\n",
        "    In addition to converting a dictionary to a numpy \n",
        "    array, you may want to separate the labels from the\n",
        "    features--this is what targetFeatureSplit is for\n",
        "\n",
        "    so, if you want to have the poi label as the target,\n",
        "    and the features you want to use are the person's\n",
        "    salary and bonus, here's what you would do:\n",
        "\n",
        "    feature_list = [\"poi\", \"salary\", \"bonus\"] \n",
        "    data_array = featureFormat( data_dictionary, feature_list )\n",
        "    label, features = targetFeatureSplit(data_array)\n",
        "\n",
        "    the line above (targetFeatureSplit) assumes that the\n",
        "    label is the _first_ item in feature_list--very important\n",
        "    that poi is listed first!\n",
        "\"\"\"\n",
        "\n",
        "\n",
        "import numpy as np\n",
        "\n",
        "def featureFormat( dictionary, features, remove_NaN=True, remove_all_zeroes=True, remove_any_zeroes=False, sort_keys = False):\n",
        "    \"\"\" convert dictionary to numpy array of features\n",
        "        remove_NaN = True will convert \"NaN\" string to 0.0\n",
        "        remove_all_zeroes = True will omit any data points for which\n",
        "            all the features you seek are 0.0\n",
        "        remove_any_zeroes = True will omit any data points for which\n",
        "            any of the features you seek are 0.0\n",
        "        sort_keys = True sorts keys by alphabetical order. Setting the value as\n",
        "            a string opens the corresponding pickle file with a preset key\n",
        "            order (this is used for Python 3 compatibility, and sort_keys\n",
        "            should be left as False for the course mini-projects).\n",
        "        NOTE: first feature is assumed to be 'poi' and is not checked for\n",
        "            removal for zero or missing values.\n",
        "    \"\"\"\n",
        "\n",
        "\n",
        "    return_list = []\n",
        "\n",
        "    # Key order - first branch is for Python 3 compatibility on mini-projects,\n",
        "    # second branch is for compatibility on final project.\n",
        "    if isinstance(sort_keys, str):\n",
        "        import pickle\n",
        "        keys = pickle.load(open(sort_keys, \"rb\"))\n",
        "    elif sort_keys:\n",
        "        keys = sorted(dictionary.keys())\n",
        "    else:\n",
        "        keys = dictionary.keys()\n",
        "\n",
        "    for key in keys:\n",
        "        tmp_list = []\n",
        "        for feature in features:\n",
        "            try:\n",
        "                dictionary[key][feature]\n",
        "            except KeyError:\n",
        "                print (\"error: key \", feature, \" not present\")\n",
        "                return\n",
        "            value = dictionary[key][feature]\n",
        "            if value==\"NaN\" and remove_NaN:\n",
        "                value = 0\n",
        "            tmp_list.append( float(value) )\n",
        "\n",
        "        # Logic for deciding whether or not to add the data point.\n",
        "        append = True\n",
        "        # exclude 'poi' class as criteria.\n",
        "        if features[0] == 'poi':\n",
        "            test_list = tmp_list[1:]\n",
        "        else:\n",
        "            test_list = tmp_list\n",
        "        ### if all features are zero and you want to remove\n",
        "        ### data points that are all zero, do that here\n",
        "        if remove_all_zeroes:\n",
        "            append = False\n",
        "            for item in test_list:\n",
        "                if item != 0 and item != \"NaN\":\n",
        "                    append = True\n",
        "                    break\n",
        "        ### if any features for a given data point are zero\n",
        "        ### and you want to remove data points with any zeroes,\n",
        "        ### handle that here\n",
        "        if remove_any_zeroes:\n",
        "            if 0 in test_list or \"NaN\" in test_list:\n",
        "                append = False\n",
        "        ### Append the data point if flagged for addition.\n",
        "        if append:\n",
        "            return_list.append( np.array(tmp_list) )\n",
        "\n",
        "    return np.array(return_list)\n",
        "\n",
        "\n",
        "def targetFeatureSplit( data ):\n",
        "    \"\"\" \n",
        "        given a numpy array like the one returned from\n",
        "        featureFormat, separate out the first feature\n",
        "        and put it into its own list (this should be the \n",
        "        quantity you want to predict)\n",
        "\n",
        "        return targets and features as separate lists\n",
        "\n",
        "        (sklearn can generally handle both lists and numpy arrays as \n",
        "        input formats when training/predicting)\n",
        "    \"\"\"\n",
        "\n",
        "    target = []\n",
        "    features = []\n",
        "    for item in data:\n",
        "        target.append( item[0] )\n",
        "        features.append( item[1:] )\n",
        "\n",
        "    return target, features >> feature_format.py"
      ],
      "execution_count": 18,
      "outputs": [
        {
          "output_type": "stream",
          "text": [
            "\n"
          ],
          "name": "stdout"
        }
      ]
    },
    {
      "cell_type": "markdown",
      "metadata": {
        "id": "0u3zFEkeX_OX",
        "colab_type": "text"
      },
      "source": [
        "Deploy k-means clustering on the financial_features data, with 2 clusters specified as a parameter. Store your cluster predictions to a list called pred, so that the Draw() command at the bottom of the script works properly. In the scatterplot that pops up, are the clusters what you expected?\n"
      ]
    },
    {
      "cell_type": "markdown",
      "metadata": {
        "id": "EBuaogScYUUE",
        "colab_type": "text"
      },
      "source": [
        "Add a third feature to features_list, “total_payments\". Now rerun clustering, using 3 input features instead of 2 (obviously we can still only visualize the original 2 dimensions). Do any points switch clusters? How many? This new clustering, using 3 features, couldn’t have been guessed by eye--it was the k-means algorithm that identified it."
      ]
    },
    {
      "cell_type": "markdown",
      "metadata": {
        "id": "SNkPHcHDYW_8",
        "colab_type": "text"
      },
      "source": [
        "(You'll need to change the code that makes the scatterplot to accommodate 3 features instead of 2, see the comments in the starter code for instructions on how to do this.)"
      ]
    },
    {
      "cell_type": "code",
      "metadata": {
        "id": "2LIsb4-MXyuw",
        "colab_type": "code",
        "colab": {
          "base_uri": "https://localhost:8080/",
          "height": 835
        },
        "outputId": "3d6ebda6-eb0f-4261-cb4d-a235d88d55a7"
      },
      "source": [
        "#!/usr/bin/python \n",
        "\n",
        "\"\"\" \n",
        "    skeleton code for k-means clustering mini-project\n",
        "\n",
        "\"\"\"\n",
        "\n",
        "\n",
        "\n",
        "\n",
        "import pickle\n",
        "import numpy\n",
        "import matplotlib.pyplot as plt\n",
        "import sys\n",
        "sys.path.append(\"/content/ud120-projects/tools\")\n",
        "from feature_format import featureFormat, targetFeatureSplit\n",
        "\n",
        "\n",
        "\n",
        "\n",
        "def Draw(pred, features, poi, mark_poi=False, name=\"image.png\", f1_name=\"feature 1\", f2_name=\"feature 2\"):\n",
        "    \"\"\" some plotting code designed to help you visualize your clusters \"\"\"\n",
        "\n",
        "    ### plot each cluster with a different color--add more colors for\n",
        "    ### drawing more than 4 clusters\n",
        "    colors = [\"b\", \"c\", \"k\", \"m\", \"g\"]\n",
        "    for ii, pp in enumerate(pred):\n",
        "        plt.scatter(features[ii][0], features[ii][1], color = colors[pred[ii]])\n",
        "\n",
        "    ### if you like, place red stars over points that are POIs (just for funsies)\n",
        "    if mark_poi:\n",
        "        for ii, pp in enumerate(pred):\n",
        "            if poi[ii]:\n",
        "                plt.scatter(features[ii][0], features[ii][1], color=\"r\", marker=\"*\")\n",
        "    plt.xlabel(f1_name)\n",
        "    plt.ylabel(f2_name)\n",
        "    plt.savefig(name)\n",
        "    plt.show()\n",
        "\n",
        "\n",
        "\n",
        "### load in the dict of dicts containing all the data on each person in the dataset\n",
        "data_dict = pickle.load( open(\"/content/ud120-projects/final_project/final_project_dataset.pkl\", \"rb\") )\n",
        "### there's an outlier--remove it! \n",
        "data_dict.pop(\"TOTAL\", 0)\n",
        "\n",
        "\n",
        "### the input features we want to use \n",
        "### can be any key in the person-level dictionary (salary, director_fees, etc.) \n",
        "feature_1 = \"salary\"\n",
        "feature_2 = \"exercised_stock_options\"\n",
        "feature_3 = \"total_payments\"\n",
        "poi  = \"poi\"\n",
        "features_list = [poi, feature_1, feature_2,feature_3]\n",
        "data = featureFormat(data_dict, features_list )\n",
        "poi, finance_features = targetFeatureSplit( data )\n",
        "\n",
        "\n",
        "### in the \"clustering with 3 features\" part of the mini-project,\n",
        "### you'll want to change this line to \n",
        "### for f1, f2, _ in finance_features:\n",
        "### (as it's currently written, line below assumes 2 features)\n",
        "for f1, f2,f3 in finance_features:\n",
        "    plt.scatter( f1, f2,f3 )\n",
        "plt.show()\n",
        "\n",
        "\n",
        "\n",
        "from sklearn.cluster import KMeans\n",
        "features_list = [\"poi\", feature_1, feature_2,feature_3]\n",
        "data2 = featureFormat(data_dict, features_list )\n",
        "poi, finance_features = targetFeatureSplit( data2 )\n",
        "clf = KMeans(n_clusters=2)\n",
        "pred = clf.fit_predict( finance_features )\n",
        "Draw(pred, finance_features, poi, name=\"clusters_before_scaling.pdf\", f1_name=feature_1, f2_name=feature_2)\n",
        "\n",
        "\n",
        "### cluster here; create predictions of the cluster labels\n",
        "### for the data and store them to a list called pred\n",
        "\n",
        "try:\n",
        "    Draw(pred, finance_features, poi, mark_poi=False, name=\"clusters.pdf\", f1_name=feature_1, f2_name=feature_2)\n",
        "except NameError:\n",
        "    print (\"no predictions object named pred found, no clusters to plot\")"
      ],
      "execution_count": 21,
      "outputs": [
        {
          "output_type": "display_data",
          "data": {
            "image/png": "[encoded data removed]",
            "text/plain": [
              "<Figure size 432x288 with 1 Axes>"
            ]
          },
          "metadata": {
            "tags": [],
            "needs_background": "light"
          }
        },
        {
          "output_type": "display_data",
          "data": {
            "image/png": "[encoded data removed]",
            "text/plain": [
              "<Figure size 432x288 with 1 Axes>"
            ]
          },
          "metadata": {
            "tags": [],
            "needs_background": "light"
          }
        },
        {
          "output_type": "display_data",
          "data": {
            "image/png": "[encoded data removed]",
            "text/plain": [
              "<Figure size 432x288 with 1 Axes>"
            ]
          },
          "metadata": {
            "tags": [],
            "needs_background": "light"
          }
        }
      ]
    },
    {
      "cell_type": "markdown",
      "metadata": {
        "id": "eGqcylw-Y_ii",
        "colab_type": "text"
      },
      "source": [
        "\n",
        "4 points switch clusters\n",
        "\n",
        "In the next lesson, we’ll talk about feature scaling. It’s a type of feature preprocessing that you should perform before some classification and regression tasks. Here’s a sneak preview that should call your attention to the general outline of what feature scaling does.\n",
        "\n",
        "What are the maximum and minimum values taken by the “exercised_stock_options” feature used in this example?\n",
        "\n",
        "(NB: if you look at finance_features, there are some \"NaN\" values that have been cleaned away and replaced with zeroes--so while those might look like the minima, it's a bit deceptive because they're more like points for which we don't have information, and just have to put in a number. So for this question, go back to data_dict and look for the maximum and minimum numbers that show up there, ignoring all the \"NaN\" entries.)\n"
      ]
    },
    {
      "cell_type": "code",
      "metadata": {
        "id": "-8nI2GNXYZ4g",
        "colab_type": "code",
        "colab": {
          "base_uri": "https://localhost:8080/",
          "height": 52
        },
        "outputId": "0f446a68-340e-4f99-c7bf-eb0c9d4a35a5"
      },
      "source": [
        "ex_stok = []\n",
        "for users in data_dict:\n",
        "    val = data_dict[users][\"exercised_stock_options\"]\n",
        "    if val == 'NaN':\n",
        "        continue\n",
        "    ex_stok.append(val)\n",
        "print (max(ex_stok))\n",
        "print (min(ex_stok))"
      ],
      "execution_count": 22,
      "outputs": [
        {
          "output_type": "stream",
          "text": [
            "34348384\n",
            "3285\n"
          ],
          "name": "stdout"
        }
      ]
    },
    {
      "cell_type": "code",
      "metadata": {
        "id": "k43fIKQlZCfN",
        "colab_type": "code",
        "colab": {
          "base_uri": "https://localhost:8080/",
          "height": 52
        },
        "outputId": "29c39b91-547b-4e91-977a-902e490c8fde"
      },
      "source": [
        "#What are the maximum and minimum values taken by “salary”?\n",
        "\n",
        "salary = []\n",
        "for users in data_dict:\n",
        "    val = data_dict[users][\"salary\"]\n",
        "    if val == 'NaN':\n",
        "        continue\n",
        "    salary.append(val)\n",
        "    \n",
        "print (max(salary))\n",
        "print (min(salary))"
      ],
      "execution_count": 23,
      "outputs": [
        {
          "output_type": "stream",
          "text": [
            "1111258\n",
            "477\n"
          ],
          "name": "stdout"
        }
      ]
    },
    {
      "cell_type": "markdown",
      "metadata": {
        "id": "CWrEyooFaAsh",
        "colab_type": "text"
      },
      "source": [
        "\n",
        "\n",
        "The plot on the next slide shows the exact same clustering code that you just wrote, but in this example we applied feature scaling before performing the clustering.\n",
        "\n",
        "Notice that now the range of the features has changed to [0.0, 1.0]. That's the only change we've made.\n",
        "\n",
        "In the next lesson you’ll learn a lot more about what feature scaling means, but for now, just look at the effect on the clusters--which point(s) switch their associated cluster?\n"
      ]
    },
    {
      "cell_type": "code",
      "metadata": {
        "id": "5bGHHYIoZHrV",
        "colab_type": "code",
        "colab": {}
      },
      "source": [
        ""
      ],
      "execution_count": 0,
      "outputs": []
    }
  ]
}