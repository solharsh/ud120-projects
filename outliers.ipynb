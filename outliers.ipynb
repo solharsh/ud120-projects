{
  "nbformat": 4,
  "nbformat_minor": 0,
  "metadata": {
    "colab": {
      "name": "outliers.ipynb",
      "provenance": [],
      "authorship_tag": "ABX9TyPrhfZbp3cZ1tY8//87I9Gk",
      "include_colab_link": true
    },
    "kernelspec": {
      "name": "python3",
      "display_name": "Python 3"
    }
  },
  "cells": [
    {
      "cell_type": "markdown",
      "metadata": {
        "id": "view-in-github",
        "colab_type": "text"
      },
      "source": [
        "<a href=\"https://colab.research.google.com/github/solharsh/ud120-projects/blob/master/outliers.ipynb\" target=\"_parent\"><img src=\"https://colab.research.google.com/assets/colab-badge.svg\" alt=\"Open In Colab\"/></a>"
      ]
    },
    {
      "cell_type": "code",
      "metadata": {
        "id": "SSKV8VohG4PG",
        "colab_type": "code",
        "colab": {
          "base_uri": "https://localhost:8080/",
          "height": 138
        },
        "outputId": "28feabda-7ab8-4b48-ec72-6504e685f178"
      },
      "source": [
        "!git clone https://github.com/solharsh/ud120-projects\n"
      ],
      "execution_count": 2,
      "outputs": [
        {
          "output_type": "stream",
          "text": [
            "Cloning into 'ud120-projects'...\n",
            "remote: Enumerating objects: 3, done.\u001b[K\n",
            "remote: Counting objects: 100% (3/3), done.\u001b[K\n",
            "remote: Compressing objects: 100% (3/3), done.\u001b[K\n",
            "remote: Total 5049 (delta 0), reused 0 (delta 0), pack-reused 5046\u001b[K\n",
            "Receiving objects: 100% (5049/5049), 19.66 MiB | 20.46 MiB/s, done.\n",
            "Resolving deltas: 100% (4372/4372), done.\n"
          ],
          "name": "stdout"
        }
      ]
    },
    {
      "cell_type": "code",
      "metadata": {
        "id": "aQqxiWQ5IIU7",
        "colab_type": "code",
        "colab": {}
      },
      "source": [
        "import random\n",
        "import numpy\n",
        "import matplotlib.pyplot as plt\n",
        "import pickle\n",
        "\n",
        "def outlierCleaner(predictions, ages, net_worths):\n",
        "    \"\"\"\n",
        "        Clean away the 10% of points that have the largest\n",
        "        residual errors (difference between the prediction\n",
        "        and the actual net worth).\n",
        "        Return a list of tuples named cleaned_data where \n",
        "        each tuple is of the form (age, net_worth, error).\n",
        "    \"\"\"\n",
        "    \n",
        "    cleaned_data = []\n",
        "\n",
        "    ### your code goes here\n",
        "    errors = (net_worths - predictions) ** 2\n",
        "    cleaned_data = zip(ages, net_worths, errors)\n",
        "    cleaned_data = sorted(cleaned_data, key = lambda x:x[2][0])\n",
        "    \n",
        "    return cleaned_data[0:int(len(cleaned_data) * 0.9)]"
      ],
      "execution_count": 0,
      "outputs": []
    },
    {
      "cell_type": "code",
      "metadata": {
        "id": "_EDyX9dNIPVj",
        "colab_type": "code",
        "colab": {}
      },
      "source": [
        "### load up some practice data with outliers in it\n",
        "ages = pickle.load(open(\"/content/ud120-projects/outliers/practice_outliers_ages.pkl\", \"rb\"))\n",
        "net_worths = pickle.load(open(\"/content/ud120-projects/outliers/practice_outliers_net_worths.pkl\", \"rb\"))"
      ],
      "execution_count": 0,
      "outputs": []
    },
    {
      "cell_type": "code",
      "metadata": {
        "id": "4ZDNyyi2ImTA",
        "colab_type": "code",
        "colab": {}
      },
      "source": [
        "### ages and net_worths need to be reshaped into 2D numpy arrays\n",
        "### second argument of reshape command is a tuple of integers: (n_rows, n_columns)\n",
        "### by convention, n_rows is the number of data points\n",
        "### and n_columns is the number of features\n",
        "ages       = numpy.reshape( numpy.array(ages), (len(ages), 1))\n",
        "net_worths = numpy.reshape( numpy.array(net_worths), (len(net_worths), 1))\n",
        "from sklearn.model_selection import train_test_split\n",
        "ages_train, ages_test, net_worths_train, net_worths_test = train_test_split(ages, net_worths, test_size=0.1, random_state=42)"
      ],
      "execution_count": 0,
      "outputs": []
    },
    {
      "cell_type": "code",
      "metadata": {
        "id": "7WGcsj4iJUI8",
        "colab_type": "code",
        "colab": {}
      },
      "source": [
        "### fill in a regression here!  Name the regression object reg so that\n",
        "### the plotting code below works, and you can see what your regression looks like\n",
        "from sklearn.linear_model import LinearRegression"
      ],
      "execution_count": 0,
      "outputs": []
    },
    {
      "cell_type": "code",
      "metadata": {
        "id": "nZA2xZdlJbpa",
        "colab_type": "code",
        "colab": {
          "base_uri": "https://localhost:8080/",
          "height": 34
        },
        "outputId": "5b4ac08b-fff8-4c2d-ec23-45017e7a6b68"
      },
      "source": [
        "reg = LinearRegression()\n",
        "reg.fit(ages_train, net_worths_train)"
      ],
      "execution_count": 17,
      "outputs": [
        {
          "output_type": "execute_result",
          "data": {
            "text/plain": [
              "LinearRegression(copy_X=True, fit_intercept=True, n_jobs=None, normalize=False)"
            ]
          },
          "metadata": {
            "tags": []
          },
          "execution_count": 17
        }
      ]
    },
    {
      "cell_type": "code",
      "metadata": {
        "id": "eEknqecYJdp-",
        "colab_type": "code",
        "colab": {}
      },
      "source": [
        "slope = reg.coef_\n",
        "intercept = reg.intercept_"
      ],
      "execution_count": 0,
      "outputs": []
    },
    {
      "cell_type": "code",
      "metadata": {
        "id": "T08yOdfRJfQf",
        "colab_type": "code",
        "colab": {}
      },
      "source": [
        "test_score = reg.score(ages_test, net_worths_test)\n",
        "train_score = reg.score(ages_train, net_worths_train)"
      ],
      "execution_count": 0,
      "outputs": []
    },
    {
      "cell_type": "code",
      "metadata": {
        "id": "MPNR_nx7JhDR",
        "colab_type": "code",
        "colab": {
          "base_uri": "https://localhost:8080/",
          "height": 52
        },
        "outputId": "e68f4a46-93ab-474e-b8d0-eafbf3489c35"
      },
      "source": [
        "print(slope, intercept)\n",
        "print(test_score, train_score)"
      ],
      "execution_count": 20,
      "outputs": [
        {
          "output_type": "stream",
          "text": [
            "[[5.07793064]] [25.21002155]\n",
            "0.8782624703664671 0.4898725961751499\n"
          ],
          "name": "stdout"
        }
      ]
    },
    {
      "cell_type": "code",
      "metadata": {
        "id": "f61_wLV4JicF",
        "colab_type": "code",
        "colab": {
          "base_uri": "https://localhost:8080/",
          "height": 265
        },
        "outputId": "d3920e7d-bc08-433f-f7cb-80c638b56ec0"
      },
      "source": [
        "try:\n",
        "    plt.plot(ages, reg.predict(ages), color=\"blue\")\n",
        "except NameError:\n",
        "    pass\n",
        "plt.scatter(ages, net_worths)\n",
        "plt.show()"
      ],
      "execution_count": 21,
      "outputs": [
        {
          "output_type": "display_data",
          "data": {
            "image/png": "[encoded data removed]",
            "text/plain": [
              "<Figure size 432x288 with 1 Axes>"
            ]
          },
          "metadata": {
            "tags": [],
            "needs_background": "light"
          }
        }
      ]
    },
    {
      "cell_type": "code",
      "metadata": {
        "id": "gIBaBKPNJkhw",
        "colab_type": "code",
        "colab": {}
      },
      "source": [
        "### identify and remove the most outlier-y points\n",
        "cleaned_data = []\n",
        "try:\n",
        "    predictions = reg.predict(ages_train)\n",
        "    cleaned_data = outlierCleaner( predictions, ages_train, net_worths_train )\n",
        "except NameError:\n",
        "    print(\"your regression object doesn't exist, or isn't name reg\")\n",
        "    print(\"can't make predictions to use in identifying outliers\")"
      ],
      "execution_count": 0,
      "outputs": []
    },
    {
      "cell_type": "code",
      "metadata": {
        "id": "j9nwAIpCKJah",
        "colab_type": "code",
        "colab": {
          "base_uri": "https://localhost:8080/",
          "height": 330
        },
        "outputId": "4b16b335-6e69-421e-c82a-771535babeed"
      },
      "source": [
        "### only run this code if cleaned_data is returning data\n",
        "if len(cleaned_data) > 0:\n",
        "    ages, net_worths, errors = zip(*cleaned_data)\n",
        "    ages       = numpy.reshape( numpy.array(ages), (len(ages), 1))\n",
        "    net_worths = numpy.reshape( numpy.array(net_worths), (len(net_worths), 1))\n",
        "\n",
        "    ### refit your cleaned data!\n",
        "    try:\n",
        "        reg.fit(ages, net_worths)\n",
        "        print ('The new slope is ', reg.coef_[0][0])\n",
        "        print ('The new intercept is ', reg.intercept_[0])\n",
        "        print ('The new score is ', reg.score(ages_test, net_worths_test))\n",
        "\n",
        "        plt.plot(ages, reg.predict(ages), color=\"blue\")\n",
        "    except NameError:\n",
        "        print (\"you don't seem to have regression imported/created,\")\n",
        "        print (\"   or else your regression object isn't named reg\")\n",
        "        print (\"   either way, only draw the scatter plot of the cleaned data\")\n",
        "    plt.scatter(ages, net_worths)\n",
        "    plt.xlabel(\"ages\")\n",
        "    plt.ylabel(\"net worths\")\n",
        "    plt.show()\n",
        "\n",
        "\n",
        "else:\n",
        "    print (\"outlierCleaner() is returning an empty list, no refitting to be done\")\n"
      ],
      "execution_count": 26,
      "outputs": [
        {
          "output_type": "stream",
          "text": [
            "The new slope is  6.368594806943669\n",
            "The new intercept is  -6.918610687302305\n",
            "The new score is  0.9831894553955322\n"
          ],
          "name": "stdout"
        },
        {
          "output_type": "display_data",
          "data": {
            "image/png": "[encoded data removed]",
            "text/plain": [
              "<Figure size 432x288 with 1 Axes>"
            ]
          },
          "metadata": {
            "tags": [],
            "needs_background": "light"
          }
        }
      ]
    },
    {
      "cell_type": "code",
      "metadata": {
        "id": "rQahjPoQKsDY",
        "colab_type": "code",
        "colab": {
          "base_uri": "https://localhost:8080/",
          "height": 278
        },
        "outputId": "c64bbd1e-1c51-47b6-ce3b-7d88819c38de"
      },
      "source": [
        "### only run this code if cleaned_data is returning data\n",
        "if len(cleaned_data) > 0:\n",
        "    ages, net_worths, errors = zip(*cleaned_data)\n",
        "    ages       = numpy.reshape( numpy.array(ages), (len(ages), 1))\n",
        "    net_worths = numpy.reshape( numpy.array(net_worths), (len(net_worths), 1))\n",
        "\n",
        "    ### refit your cleaned data!\n",
        "    try:\n",
        "        reg.fit(ages, net_worths)\n",
        "        plt.plot(ages, reg.predict(ages), color=\"blue\")\n",
        "    except NameError:\n",
        "        print (\"you don't seem to have regression imported/created,\")\n",
        "        print (\"   or else your regression object isn't named reg\")\n",
        "        print (\"   either way, only draw the scatter plot of the cleaned data\")\n",
        "    plt.scatter(ages, net_worths)\n",
        "    plt.xlabel(\"ages\")\n",
        "    plt.ylabel(\"net worths\")\n",
        "    plt.show()\n",
        "\n",
        "\n",
        "else:\n",
        "    print (\"outlierCleaner() is returning an empty list, no refitting to be done\")"
      ],
      "execution_count": 27,
      "outputs": [
        {
          "output_type": "display_data",
          "data": {
            "image/png": "[encoded data removed]",
            "text/plain": [
              "<Figure size 432x288 with 1 Axes>"
            ]
          },
          "metadata": {
            "tags": [],
            "needs_background": "light"
          }
        }
      ]
    },
    {
      "cell_type": "code",
      "metadata": {
        "id": "Rukqve5bMiNg",
        "colab_type": "code",
        "colab": {
          "base_uri": "https://localhost:8080/",
          "height": 34
        },
        "outputId": "b43f5d91-f8d9-407b-c469-d20d429783e9"
      },
      "source": [
        "from sklearn import linear_model\n",
        "reg = linear_model.LinearRegression()\n",
        "reg.fit(ages_train,net_worths_train)"
      ],
      "execution_count": 28,
      "outputs": [
        {
          "output_type": "execute_result",
          "data": {
            "text/plain": [
              "LinearRegression(copy_X=True, fit_intercept=True, n_jobs=None, normalize=False)"
            ]
          },
          "metadata": {
            "tags": []
          },
          "execution_count": 28
        }
      ]
    },
    {
      "cell_type": "code",
      "metadata": {
        "id": "3UsswfbiMnuA",
        "colab_type": "code",
        "colab": {
          "base_uri": "https://localhost:8080/",
          "height": 34
        },
        "outputId": "d62ae7f9-4ac0-47d4-8769-7b16d314e4c7"
      },
      "source": [
        "reg.coef_[0][0]"
      ],
      "execution_count": 29,
      "outputs": [
        {
          "output_type": "execute_result",
          "data": {
            "text/plain": [
              "5.077930643440257"
            ]
          },
          "metadata": {
            "tags": []
          },
          "execution_count": 29
        }
      ]
    },
    {
      "cell_type": "code",
      "metadata": {
        "id": "ZUNAxTMcMpMs",
        "colab_type": "code",
        "colab": {
          "base_uri": "https://localhost:8080/",
          "height": 34
        },
        "outputId": "4ad0a022-62fa-4340-9a1c-70b046d284ec"
      },
      "source": [
        "reg.score(ages_test,net_worths_test)"
      ],
      "execution_count": 30,
      "outputs": [
        {
          "output_type": "execute_result",
          "data": {
            "text/plain": [
              "0.8782624703664671"
            ]
          },
          "metadata": {
            "tags": []
          },
          "execution_count": 30
        }
      ]
    },
    {
      "cell_type": "code",
      "metadata": {
        "id": "Mm5nXhprMq9l",
        "colab_type": "code",
        "colab": {}
      },
      "source": [
        "#Once this cleaning function is working, you should see the regression result changes. What is the new slope? Is it closer to the “correct” result of 6.25?\n",
        "\n",
        "%load /content/ud120-projects/outliers/outlier_cleaner.py"
      ],
      "execution_count": 0,
      "outputs": []
    },
    {
      "cell_type": "code",
      "metadata": {
        "id": "CY0SsfmUMvnJ",
        "colab_type": "code",
        "colab": {}
      },
      "source": [
        "def outlierCleaner(predictions, ages, net_worths):\n",
        "    \"\"\"\n",
        "        clean away the 10% of points that have the largest\n",
        "        residual errors (different between the prediction\n",
        "        and the actual net worth)\n",
        "\n",
        "        return a list of tuples named cleaned_data where \n",
        "        each tuple is of the form (age, net_worth, error)\n",
        "    \"\"\"\n",
        "    \n",
        "    #calculate the error,make it descend sort, and fetch 90% of the data\n",
        "    \n",
        "    errors = (net_worths-predictions)**2\n",
        "    cleaned_data =zip(ages,net_worths,errors)\n",
        "    cleaned_data = sorted(cleaned_data,key=lambda x:x[2][0], reverse=True)\n",
        "    limit = int(len(net_worths)*0.1)\n",
        "    \n",
        "    \n",
        "    return cleaned_data[limit:]"
      ],
      "execution_count": 0,
      "outputs": []
    },
    {
      "cell_type": "code",
      "metadata": {
        "id": "isSa8lziMzj6",
        "colab_type": "code",
        "colab": {}
      },
      "source": [
        "clf_after_cleaned = linear_model.LinearRegression()"
      ],
      "execution_count": 0,
      "outputs": []
    },
    {
      "cell_type": "code",
      "metadata": {
        "id": "rbBLPcqBM03H",
        "colab_type": "code",
        "colab": {}
      },
      "source": [
        "cleaned_d = outlierCleaner(reg.predict(ages_train),ages_train,net_worths_train)"
      ],
      "execution_count": 0,
      "outputs": []
    },
    {
      "cell_type": "code",
      "metadata": {
        "id": "hgve3cbVM1vF",
        "colab_type": "code",
        "colab": {}
      },
      "source": [
        "age_cleaned = numpy.array([e[0] for e in cleaned_d])"
      ],
      "execution_count": 0,
      "outputs": []
    },
    {
      "cell_type": "code",
      "metadata": {
        "id": "a6hrsGtBM23F",
        "colab_type": "code",
        "colab": {}
      },
      "source": [
        "net_worth_cleaned = numpy.array([e[1] for e in cleaned_d])"
      ],
      "execution_count": 0,
      "outputs": []
    },
    {
      "cell_type": "code",
      "metadata": {
        "id": "g2kxnsCjM4vG",
        "colab_type": "code",
        "colab": {
          "base_uri": "https://localhost:8080/",
          "height": 35
        },
        "outputId": "7e050598-a933-4550-8dd9-bd3c713e818c"
      },
      "source": [
        "clf_after_cleaned.fit(age_cleaned,net_worth_cleaned)"
      ],
      "execution_count": 38,
      "outputs": [
        {
          "output_type": "execute_result",
          "data": {
            "text/plain": [
              "LinearRegression(copy_X=True, fit_intercept=True, n_jobs=None, normalize=False)"
            ]
          },
          "metadata": {
            "tags": []
          },
          "execution_count": 38
        }
      ]
    },
    {
      "cell_type": "code",
      "metadata": {
        "id": "FmbC0eCvM52f",
        "colab_type": "code",
        "colab": {
          "base_uri": "https://localhost:8080/",
          "height": 35
        },
        "outputId": "b98403b8-c1fc-4207-d3f9-ee70249eaa20"
      },
      "source": [
        "clf_after_cleaned.coef_"
      ],
      "execution_count": 39,
      "outputs": [
        {
          "output_type": "execute_result",
          "data": {
            "text/plain": [
              "array([[6.36859481]])"
            ]
          },
          "metadata": {
            "tags": []
          },
          "execution_count": 39
        }
      ]
    },
    {
      "cell_type": "code",
      "metadata": {
        "id": "1vHM8AtSM7I5",
        "colab_type": "code",
        "colab": {}
      },
      "source": [
        "#The slope is 6.3, and yes it's closer to 6.5"
      ],
      "execution_count": 0,
      "outputs": []
    },
    {
      "cell_type": "code",
      "metadata": {
        "id": "nxDv1C5jM-Sq",
        "colab_type": "code",
        "colab": {
          "base_uri": "https://localhost:8080/",
          "height": 35
        },
        "outputId": "df1f0f20-9f85-4f0c-93ba-3c81e134e1dd"
      },
      "source": [
        "#And the score is\n",
        "clf_after_cleaned.score(ages_test,net_worths_test)"
      ],
      "execution_count": 41,
      "outputs": [
        {
          "output_type": "execute_result",
          "data": {
            "text/plain": [
              "0.9831894553955322"
            ]
          },
          "metadata": {
            "tags": []
          },
          "execution_count": 41
        }
      ]
    },
    {
      "cell_type": "code",
      "metadata": {
        "id": "UtdSvVJ3NBQW",
        "colab_type": "code",
        "colab": {}
      },
      "source": [
        "%load /content/ud120-projects/outliers/enron_outliers.py"
      ],
      "execution_count": 0,
      "outputs": []
    },
    {
      "cell_type": "code",
      "metadata": {
        "id": "HAHtToaZNHbH",
        "colab_type": "code",
        "colab": {
          "base_uri": "https://localhost:8080/",
          "height": 297
        },
        "outputId": "c1b686bc-3222-4960-d03f-b72b8aedd531"
      },
      "source": [
        "def outlierCleaner(predictions, ages, net_worths):\n",
        "    \"\"\"\n",
        "        Clean away the 10% of points that have the largest\n",
        "        residual errors (difference between the prediction\n",
        "        and the actual net worth).\n",
        "\n",
        "        Return a list of tuples named cleaned_data where \n",
        "        each tuple is of the form (age, net_worth, error).\n",
        "    \"\"\"\n",
        "    errors = net_worths-predictions\n",
        "    threshold = numpy.percentile(numpy.absolute(errors), 90)\n",
        "    #print threshold\n",
        "    #print numpy.max(numpy.absolute(errors))\n",
        "    #print numpy.sort(numpy.absolute(errors), axis=0)\n",
        "    \n",
        "    cleaned_data = [(age, net_worth, error) for age, net_worth, error in zip(ages, net_worths, errors) if abs(error) <= threshold]\n",
        "    \n",
        "    return cleaned_data\n",
        "\n",
        "reg = linear_model.LinearRegression()\n",
        "reg.fit(ages_train, net_worths_train)\n",
        "\n",
        "plt.plot(ages, reg.predict(ages), color='blue')\n",
        "\n",
        "# plot all points in blue\n",
        "plt.scatter(ages, net_worths, color='blue')\n",
        "\n",
        "# plot the current training points in orange\n",
        "plt.scatter(ages_train, net_worths_train, color='orange')\n",
        "\n",
        "### identify and remove the most outlier-y points\n",
        "predictions = reg.predict(ages_train)\n",
        "cleaned_data = outlierCleaner( predictions, ages_train, net_worths_train )\n",
        "\n",
        "\n",
        "### only run this code if cleaned_data is returning data\n",
        "if len(cleaned_data) > 0:\n",
        "    # the non-outlier ages, net worths, and errors\n",
        "    ages_train2, net_worths_train2, errors_train2 = zip(*cleaned_data)\n",
        "    ages_train2       = numpy.reshape( numpy.array(ages_train2), (len(ages_train2), 1))\n",
        "    net_worths_train2 = numpy.reshape( numpy.array(net_worths_train2), (len(net_worths_train2), 1))\n",
        "\n",
        "    # refit the cleaned data\n",
        "    reg2 = linear_model.LinearRegression()\n",
        "    reg2.fit(ages_train2, net_worths_train2)\n",
        "    plt.plot(ages, reg2.predict(ages), color='red')\n",
        "    plt.scatter(ages_train2, net_worths_train2, color='red')\n",
        "    plt.xlabel(\"ages\")\n",
        "    plt.ylabel(\"net worths\")\n",
        "\n",
        "else:\n",
        "    print (\"outlierCleaner() is returning an empty list, no refitting to be done\")\n",
        "    \n",
        "    \n",
        "print ('new slope = {0}'.format(reg2.coef_[0][0]))"
      ],
      "execution_count": 51,
      "outputs": [
        {
          "output_type": "stream",
          "text": [
            "new slope = 6.368594806943665\n"
          ],
          "name": "stdout"
        },
        {
          "output_type": "display_data",
          "data": {
            "image/png": "[encoded data removed]",
            "text/plain": [
              "<Figure size 432x288 with 1 Axes>"
            ]
          },
          "metadata": {
            "tags": [],
            "needs_background": "light"
          }
        }
      ]
    },
    {
      "cell_type": "code",
      "metadata": {
        "id": "QuV_xOEqO1ym",
        "colab_type": "code",
        "colab": {
          "base_uri": "https://localhost:8080/",
          "height": 35
        },
        "outputId": "0d807b56-28f0-4ba2-897f-1c527e23f4e0"
      },
      "source": [
        "#Score After Cleaning\n",
        "print ('new score = {0}'.format(reg2.score(ages_test, net_worths_test)))"
      ],
      "execution_count": 52,
      "outputs": [
        {
          "output_type": "stream",
          "text": [
            "new score = 0.983189455395532\n"
          ],
          "name": "stdout"
        }
      ]
    },
    {
      "cell_type": "code",
      "metadata": {
        "id": "RwG2mAXyO6Wg",
        "colab_type": "code",
        "colab": {
          "base_uri": "https://localhost:8080/",
          "height": 308
        },
        "outputId": "ec482eb0-6be2-4d2e-8457-df4754f05eed"
      },
      "source": [
        "#Enron Outliers\n",
        "from feature_format import featureFormat, targetFeatureSplit\n",
        "\n",
        "### read in data dictionary, convert to numpy array\n",
        "data_dict = pickle.load( open(\"/content/ud120-projects/final_project/final_project_dataset.pkl\", \"rb\") )\n",
        "\n",
        "features = [\"salary\", \"bonus\"]\n",
        "data = featureFormat(data_dict, features)\n",
        "\n",
        "\n",
        "### your code below\n",
        "print (data.max())\n",
        "for point in data:\n",
        "    salary = point[0]\n",
        "    bonus = point[1]\n",
        "    matplotlib.pyplot.scatter( salary, bonus )\n",
        "\n",
        "matplotlib.pyplot.xlabel(\"salary\")\n",
        "matplotlib.pyplot.ylabel(\"bonus\")\n",
        "matplotlib.pyplot.show()\n"
      ],
      "execution_count": 58,
      "outputs": [
        {
          "output_type": "stream",
          "text": [
            "97343619.0\n"
          ],
          "name": "stdout"
        },
        {
          "output_type": "display_data",
          "data": {
            "image/png": "[encoded data removed]",
            "text/plain": [
              "<Figure size 432x288 with 1 Axes>"
            ]
          },
          "metadata": {
            "tags": [],
            "needs_background": "light"
          }
        }
      ]
    },
    {
      "cell_type": "code",
      "metadata": {
        "id": "uCnNukn7NJXw",
        "colab_type": "code",
        "colab": {}
      },
      "source": [
        "#As you can see, visualization is one of the most powerful tools for finding outliers!\n",
        "\n",
        "#There’s one outlier that should pop out to you immediately. Now the question is to identify the source. \n",
        "#We found the original data source to be very helpful for this identification; you can find that PDF in final_project/enron61702insiderpay.pdf \n",
        "#What’s the name of the dictionary key of this data point? (e.g. if this is Ken Lay, the answer would be “LAY KENNETH L”)."
      ],
      "execution_count": 0,
      "outputs": []
    },
    {
      "cell_type": "markdown",
      "metadata": {
        "id": "gvue6rq2OBB9",
        "colab_type": "text"
      },
      "source": [
        "TOTAL\n",
        "Well, that makes sense. The total of a column isn't going to be close to the mean of that column ...\n",
        "\n",
        "Does this outlier seem like a data point that we should include when running machine learning on this dataset? Or should we remove it?\n",
        "\n",
        "Yes, the spreadsheet added up all the data points for us, and we need to take that \"point\" out.\n",
        "\n",
        "A quick way to remove a key-value pair from a dictionary is the following line: dictionary.pop( key, 0 ) Write a line like this (you’ll have to modify the dictionary and key names, of course) and remove the outlier before calling featureFormat(). Now rerun the code, so your scatterplot doesn’t have this outlier anymore. Are all the outliers gone?\n",
        "\n"
      ]
    },
    {
      "cell_type": "markdown",
      "metadata": {
        "id": "EKMTWDgWPY68",
        "colab_type": "text"
      },
      "source": [
        "Does this outlier seem like a data point that we should include when running machine learning on this dataset? Or should we remove it?\n",
        "\n",
        "Remove it obviously"
      ]
    },
    {
      "cell_type": "code",
      "metadata": {
        "id": "rmLlFgoGN_TY",
        "colab_type": "code",
        "colab": {
          "base_uri": "https://localhost:8080/",
          "height": 308
        },
        "outputId": "011a1188-9507-4ea1-932f-025666638b29"
      },
      "source": [
        "#!/usr/bin/python\n",
        "\n",
        "import pickle\n",
        "import sys\n",
        "import matplotlib.pyplot\n",
        "sys.path.append(\"../tools/\")\n",
        "from feature_format import featureFormat, targetFeatureSplit\n",
        "\n",
        "\n",
        "### read in data dictionary, convert to numpy array\n",
        "data_dict = pickle.load( open(\"/content/ud120-projects/final_project/final_project_dataset.pkl\", \"rb\") )\n",
        "features = [\"salary\", \"bonus\"]\n",
        "\n",
        "data_dict.pop('TOTAL',0)\n",
        "\n",
        "data = featureFormat(data_dict, features)\n",
        "\n",
        "\n",
        "### your code below\n",
        "print (data.max())\n",
        "for point in data:\n",
        "    salary = point[0]\n",
        "    bonus = point[1]\n",
        "    matplotlib.pyplot.scatter( salary, bonus )\n",
        "\n",
        "matplotlib.pyplot.xlabel(\"salary\")\n",
        "matplotlib.pyplot.ylabel(\"bonus\")\n",
        "matplotlib.pyplot.show()\n"
      ],
      "execution_count": 60,
      "outputs": [
        {
          "output_type": "stream",
          "text": [
            "8000000.0\n"
          ],
          "name": "stdout"
        },
        {
          "output_type": "display_data",
          "data": {
            "image/png": "[encoded data removed]",
            "text/plain": [
              "<Figure size 432x288 with 1 Axes>"
            ]
          },
          "metadata": {
            "tags": [],
            "needs_background": "light"
          }
        }
      ]
    },
    {
      "cell_type": "code",
      "metadata": {
        "id": "T2recZxcPmXo",
        "colab_type": "code",
        "colab": {}
      },
      "source": [
        "#We see 4 more outliers, although none that are as way out as the last example (the \"total\" line)"
      ],
      "execution_count": 0,
      "outputs": []
    },
    {
      "cell_type": "code",
      "metadata": {
        "id": "3DvODuN6PtbY",
        "colab_type": "code",
        "colab": {}
      },
      "source": [
        "#We would argue that there’s 4 more outliers to investigate; let's look at a couple of them. \n",
        "#Two people made bonuses around 6-8 million dollars, and a salary of over 1 million dollars; in other words, they made out like bandits. \n",
        "#What are the names associated with those points?"
      ],
      "execution_count": 0,
      "outputs": []
    },
    {
      "cell_type": "code",
      "metadata": {
        "id": "3on38ldUPx_H",
        "colab_type": "code",
        "colab": {
          "base_uri": "https://localhost:8080/",
          "height": 35
        },
        "outputId": "eddae9ba-c597-4d6a-8aec-8f5fc395f0cb"
      },
      "source": [
        "from pprint import pprint\n",
        "outliers = []\n",
        "for key in data_dict:\n",
        "    val = data_dict[key]['salary']\n",
        "    if val == 'NaN':\n",
        "        continue\n",
        "    outliers.append((key,int(val)))\n",
        "\n",
        "pprint(sorted(outliers,key=lambda x:x[1],reverse=True)[:2])"
      ],
      "execution_count": 63,
      "outputs": [
        {
          "output_type": "stream",
          "text": [
            "[('SKILLING JEFFREY K', 1111258), ('LAY KENNETH L', 1072321)]\n"
          ],
          "name": "stdout"
        }
      ]
    },
    {
      "cell_type": "code",
      "metadata": {
        "id": "6nGNlQgJP47z",
        "colab_type": "code",
        "colab": {}
      },
      "source": [
        "#Would you guess that these are typos or weird spreadsheet lines that we should remove, or that there’s a meaningful reason why these points are different? \n",
        "#(In other words, should they be removed before we, say, try to build a POI identifier?)\n",
        "#let them be\n",
        "#Yes! They're two of Enron's biggest bosses, and definitely people of interest."
      ],
      "execution_count": 0,
      "outputs": []
    },
    {
      "cell_type": "code",
      "metadata": {
        "id": "zS-UnJqbQHtf",
        "colab_type": "code",
        "colab": {}
      },
      "source": [
        ""
      ],
      "execution_count": 0,
      "outputs": []
    }
  ]
}